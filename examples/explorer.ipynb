{
 "cells": [
  {
   "cell_type": "markdown",
   "metadata": {},
   "source": [
    "# fmu.sumo.explorer\n",
    "\n",
    "Package for browsing cases and surfaces in Sumo."
   ]
  },
  {
   "cell_type": "code",
   "execution_count": null,
   "metadata": {},
   "outputs": [],
   "source": [
    "from fmu.sumo.explorer import Explorer\n",
    "# import xtgeo\n",
    "from io import BytesIO\n",
    "%matplotlib inline"
   ]
  },
  {
   "cell_type": "markdown",
   "metadata": {},
   "source": [
    "## Class: Explorer\n",
    "Search for cases in SUMO\n",
    "\n",
    "Methods:\n",
    "- get_fields()\n",
    "- get_users()\n",
    "- get_status()\n",
    "- get_cases()"
   ]
  },
  {
   "cell_type": "code",
   "execution_count": null,
   "metadata": {},
   "outputs": [],
   "source": [
    "sumo = Explorer(env=\"prod\")"
   ]
  },
  {
   "cell_type": "markdown",
   "metadata": {},
   "source": [
    "### Explorer.get_fields()\n",
    "\n",
    "Returns:\n",
    "\n",
    "```\n",
    "Dict\n",
    "{\n",
    "    FIELD_NAME: CASE_COUNT\n",
    "}\n",
    "```"
   ]
  },
  {
   "cell_type": "code",
   "execution_count": null,
   "metadata": {},
   "outputs": [],
   "source": [
    "fields = sumo.get_fields()\n",
    "\n",
    "fields"
   ]
  },
  {
   "cell_type": "markdown",
   "metadata": {},
   "source": [
    "### Explorer.get_users()\n",
    "\n",
    "Returns:\n",
    "\n",
    "```\n",
    "Dict\n",
    "{\n",
    "    USER_NAME: CASE_COUNT\n",
    "}\n",
    "```"
   ]
  },
  {
   "cell_type": "code",
   "execution_count": null,
   "metadata": {},
   "outputs": [],
   "source": [
    "users = sumo.get_users()\n",
    "\n",
    "users"
   ]
  },
  {
   "cell_type": "markdown",
   "metadata": {},
   "source": [
    "### Explorer.get_status()\n",
    "\n",
    "Returns:\n",
    "\n",
    "`Dict`\n",
    "\n",
    "```\n",
    "{\n",
    "    STATUS: CASE_COUNT\n",
    "}\n",
    "```"
   ]
  },
  {
   "cell_type": "code",
   "execution_count": null,
   "metadata": {},
   "outputs": [],
   "source": [
    "status = sumo.get_status()\n",
    "\n",
    "status"
   ]
  },
  {
   "cell_type": "markdown",
   "metadata": {},
   "source": [
    "### Explorer.get_cases()\n",
    "\n",
    "Params:\n",
    "- status: List[string]\n",
    "- fields: List[string]\n",
    "- users: List[string]\n",
    "\n",
    "Returns: `DocumentCollection`"
   ]
  },
  {
   "cell_type": "code",
   "execution_count": null,
   "metadata": {},
   "outputs": [],
   "source": [
    "my_cases = sumo.get_cases(\n",
    "    status=[\"keep\", \"official\"],\n",
    "    fields=[\"JOHAN SVERDRUP\"],\n",
    "    #users=[\"peesv\", \"jsorb\"]\n",
    ")\n",
    "\n",
    "print(len(my_cases))\n",
    "\n",
    "for case in my_cases:\n",
    "    print(case.case_name)"
   ]
  },
  {
   "cell_type": "markdown",
   "metadata": {},
   "source": [
    "### Explorer.get_case_from_name()\n",
    "\n",
    "Params:\n",
    "- name: string\n",
    "\n",
    "Returns: `Case`"
   ]
  },
  {
   "cell_type": "code",
   "execution_count": null,
   "metadata": {},
   "outputs": [],
   "source": [
    "my_case = sumo.get_case_by_name(\"drogon_design_2022_11-01\")\n",
    "\n",
    "print(f\"{my_case.name}: {my_case.sumo_id}\")"
   ]
  },
  {
   "cell_type": "markdown",
   "metadata": {},
   "source": [
    "## Class: Case\n",
    "\n",
    "Represents a case in Sumo and has methods for finding surfaces belonging to the case.\n",
    "\n",
    "Some of the case meta data is accessible as attributes, the rest can be extracted from `Case.meta_data`.\n",
    "\n",
    "Attributes:\n",
    "- meta_data: dict\n",
    "- sumo_id: uuid\n",
    "- fmu_id: uuid\n",
    "- case_name: string\n",
    "- field_name: string\n",
    "- status: string\n",
    "- user: string\n",
    "\n",
    "Methods:\n",
    "- get_object_types()\n",
    "- get_iterations()\n",
    "- get_realizations()\n",
    "- get_object_names()\n",
    "- get_object_tag_names()\n",
    "- get_object_aggregations()\n",
    "- get_object_timespans()\n",
    "- get_object()\n",
    "\n",
    "Raw metadata object can be accessed at `Case.meta_data`"
   ]
  },
  {
   "cell_type": "code",
   "execution_count": null,
   "metadata": {},
   "outputs": [],
   "source": [
    "# Some case info as attributes\n",
    "print(my_case.sumo_id)\n",
    "print(my_case.fmu_id)\n",
    "print(my_case.name)\n",
    "print(my_case.field_name)\n",
    "print(my_case.status)\n",
    "print(my_case.user)"
   ]
  },
  {
   "cell_type": "markdown",
   "metadata": {},
   "source": [
    "### Case.get_object_types()\n",
    "\n",
    "Returns:\n",
    "```\n",
    "Dict\n",
    "{\n",
    "    OBJECT_NAME: OBJECT_COUNT\n",
    "}\n",
    "```"
   ]
  },
  {
   "cell_type": "code",
   "execution_count": null,
   "metadata": {},
   "outputs": [],
   "source": [
    "object_types = my_case.get_object_types()\n",
    "\n",
    "object_types"
   ]
  },
  {
   "cell_type": "markdown",
   "metadata": {},
   "source": [
    "### sumo.get_dict_of_case_names()\n",
    "\n",
    "Returns:\n",
    "\n",
    "```\n",
    "Dict\n",
    "{\n",
    "    CASE_NAME: SUMO_ID\n",
    "}\n",
    "```"
   ]
  },
  {
   "cell_type": "code",
   "execution_count": null,
   "metadata": {},
   "outputs": [],
   "source": [
    "sumo.get_dict_of_case_names()"
   ]
  },
  {
   "cell_type": "markdown",
   "metadata": {},
   "source": [
    "### sumo.get_summary_object_ids()\n",
    "\n",
    "Returns:\n",
    "\n",
    "```\n",
    "Dict\n",
    "{\n",
    "    VECTOR_NAME: OBJECT_ID\n",
    "}\n",
    "```"
   ]
  },
  {
   "cell_type": "code",
   "execution_count": null,
   "metadata": {},
   "outputs": [],
   "source": [
    "my_case.get_summary_object_ids(size=1000)"
   ]
  },
  {
   "cell_type": "markdown",
   "metadata": {},
   "source": [
    "### sumo.get_object_ids()\n",
    "\n",
    "Returns:\n",
    "\n",
    "```\n",
    "Dict\n",
    "{\n",
    "    REAL_NR: OBJECT_ID\n",
    "}\n",
    "```"
   ]
  },
  {
   "cell_type": "code",
   "execution_count": null,
   "metadata": {
    "scrolled": true
   },
   "outputs": [],
   "source": [
    "my_case.get_object_ids(\"VOLANTIS GP. Base\", \"FACIES_Fraction_Offshore\")"
   ]
  },
  {
   "cell_type": "markdown",
   "metadata": {},
   "source": [
    "### sumo.get_aggregated_object_ids()\n",
    "\n",
    "Returns:\n",
    "\n",
    "```\n",
    "Dict\n",
    "{\n",
    "    OBJECT_NAME: {AGGREGATION_TYPE: OBJECT_ID}\n",
    "}\n",
    "```"
   ]
  },
  {
   "cell_type": "code",
   "execution_count": null,
   "metadata": {},
   "outputs": [],
   "source": [
    "# Not added yet"
   ]
  },
  {
   "cell_type": "markdown",
   "metadata": {},
   "source": [
    "### Case.get_iterations()\n",
    "\n",
    "Returns:\n",
    "```\n",
    "Dict\n",
    "{\n",
    "    ITERATION_ID: OBJECT_COUNT\n",
    "}\n",
    "```"
   ]
  },
  {
   "cell_type": "code",
   "execution_count": null,
   "metadata": {},
   "outputs": [],
   "source": [
    "iterations = my_case.get_iterations()\n",
    "\n",
    "iterations"
   ]
  },
  {
   "cell_type": "markdown",
   "metadata": {},
   "source": [
    "### Case.get_realizations()\n",
    "\n",
    "Params:\n",
    "- iteration_id: number\n",
    "\n",
    "Returns:\n",
    "```\n",
    "Dict\n",
    "{\n",
    "    REALIZATION_ID: OBJECT_COUNT\n",
    "}\n",
    "```"
   ]
  },
  {
   "cell_type": "code",
   "execution_count": null,
   "metadata": {},
   "outputs": [],
   "source": [
    "realizations = my_case.get_realizations(iteration_id=0)\n",
    "\n",
    "realizations[0]"
   ]
  },
  {
   "cell_type": "markdown",
   "metadata": {},
   "source": [
    "#### Example: filter down to unique surface object\n",
    "\n",
    "This example uses the `get_object_property_values` in several steps to get values that uniquley identifies a surface object."
   ]
  },
  {
   "cell_type": "code",
   "execution_count": null,
   "metadata": {},
   "outputs": [],
   "source": [
    "# Get a surface object from specific realization\n",
    "surfaces = my_case.get_objects(\n",
    "    object_type=\"surface\",\n",
    "    object_names=[\"Volon Fm. Top\"],\n",
    "    # tag_names=[\"amplitude_full_max\"],\n",
    "    # time_intervals=[\"2019-10-01 - 2020-10-01\"],\n",
    "    iteration_ids=[0],\n",
    "    realization_ids=[0]\n",
    ")\n",
    "\n",
    "s = surfaces[0]\n",
    "\n",
    "print(s.name)\n",
    "print(s.tag_name)"
   ]
  },
  {
   "cell_type": "code",
   "execution_count": null,
   "metadata": {},
   "outputs": [],
   "source": [
    "# Get all versions of surface object (1 from each realization) for a specified iteration\n",
    "surfaces = my_case.get_objects(\n",
    "    object_type=\"surface\",\n",
    "    object_names=[\"Volon Fm. Top\"],\n",
    "    # tag_names=[\"DS_extract_geogrid\"],\n",
    "    iteration_ids=[0]\n",
    ")\n",
    "\n",
    "surf = surfaces[0]\n",
    "print(surf.realization_id)\n",
    "print(surf.iteration_id)\n",
    "print(surf.name)"
   ]
  }
 ],
 "metadata": {
  "interpreter": {
   "hash": "886a3bf2c68989186a10fcef5692724f98e2557aca959586571e913a0aec80e7"
  },
  "kernelspec": {
   "display_name": "testing_sumo",
   "language": "python",
   "name": "testing_sumo"
  },
  "language_info": {
   "codemirror_mode": {
    "name": "ipython",
    "version": 3
   },
   "file_extension": ".py",
   "mimetype": "text/x-python",
   "name": "python",
   "nbconvert_exporter": "python",
   "pygments_lexer": "ipython3",
   "version": "3.8.14"
  }
 },
 "nbformat": 4,
 "nbformat_minor": 2
}
