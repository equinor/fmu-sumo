{
 "cells": [
  {
   "cell_type": "code",
   "execution_count": 1,
   "metadata": {},
   "outputs": [],
   "source": [
    "from fmu.sumo.explorer import Explorer\n",
    "\n",
    "%matplotlib inline"
   ]
  },
  {
   "attachments": {},
   "cell_type": "markdown",
   "metadata": {},
   "source": [
    "### Initialize Explorer"
   ]
  },
  {
   "cell_type": "code",
   "execution_count": 2,
   "metadata": {},
   "outputs": [],
   "source": [
    "sumo = Explorer(\"dev\")"
   ]
  },
  {
   "attachments": {},
   "cell_type": "markdown",
   "metadata": {},
   "source": [
    "### Find cases"
   ]
  },
  {
   "cell_type": "code",
   "execution_count": 5,
   "metadata": {},
   "outputs": [
    {
     "name": "stdout",
     "output_type": "stream",
     "text": [
      "Statuses: ['scratch', 'keep']\n",
      "Users: ['alifb', 'peesv', 'dbs', 'rowh', 'testuser']\n",
      "\n",
      "Results: 1\n",
      "ID: 2c2f47cf-c7ab-4112-87f9-b4797ec51cb6\n",
      "Name: drogon_design_small-2023-01-18\n",
      "\n",
      "\n",
      "\n",
      "Selected case:\n",
      "ID: 2c2f47cf-c7ab-4112-87f9-b4797ec51cb6\n",
      "Name: drogon_design_small-2023-01-18\n",
      "Status: keep\n",
      "Asset: Drogon\n",
      "Field: DROGON\n",
      "User: dbs\n",
      "Surfaces: 212\n",
      "Polygons: 24\n",
      "Tables: 24\n"
     ]
    }
   ],
   "source": [
    "# Get Drogon cases\n",
    "cases = sumo.cases.filter(asset=\"Drogon\")\n",
    "\n",
    "# Get available status filters\n",
    "print(\"Statuses:\",cases.statuses)\n",
    "\n",
    "# Filter on status\n",
    "cases = cases.filter(status=\"keep\")\n",
    "\n",
    "# Get available user filters\n",
    "print(\"Users:\", cases.users)\n",
    "\n",
    "# Filer on user\n",
    "cases = cases.filter(user=\"dbs\")\n",
    "\n",
    "# Iterate over results\n",
    "print(\"\\nResults:\", len(cases))\n",
    "\n",
    "for case in cases:\n",
    "    print(\"ID:\", case.uuid)\n",
    "    print(\"Name:\", case.name)\n",
    "    print(\"\\n\")\n",
    "\n",
    "# Get case by name (name is not guaranteed to be unique)\n",
    "case = sumo.cases.filter(name=\"drogon_design_small-2023-01-18\")[0]\n",
    "\n",
    "# Get case by id\n",
    "case = sumo.cases.filter(uuid=\"2c2f47cf-c7ab-4112-87f9-b4797ec51cb6\")[0]\n",
    "\n",
    "# Select case\n",
    "case = cases[0]\n",
    "\n",
    "print(\"\\nSelected case:\")\n",
    "print(\"ID:\", case.uuid)\n",
    "print(\"Name:\", case.name)\n",
    "print(\"Status:\", case.status)\n",
    "print(\"Asset:\", case.asset)\n",
    "print(\"Field:\", case.field)\n",
    "print(\"User:\", case.user)\n",
    "print(\"Surfaces:\", len(case.surfaces))\n",
    "print(\"Polygons:\", len(case.polygons))\n",
    "print(\"Tables:\", len(case.polygons))"
   ]
  },
  {
   "attachments": {},
   "cell_type": "markdown",
   "metadata": {},
   "source": [
    "### Find data\n"
   ]
  },
  {
   "cell_type": "code",
   "execution_count": 6,
   "metadata": {},
   "outputs": [
    {
     "name": "stdout",
     "output_type": "stream",
     "text": [
      "Iterations: ['iter-0']\n",
      "Names: []\n",
      "Tagnames: []\n",
      "\n",
      "Results: 0\n"
     ]
    },
    {
     "ename": "IndexError",
     "evalue": "",
     "output_type": "error",
     "traceback": [
      "\u001b[1;31m---------------------------------------------------------------------------\u001b[0m",
      "\u001b[1;31mIndexError\u001b[0m                                Traceback (most recent call last)",
      "\u001b[1;32m~\\AppData\\Local\\Temp\\ipykernel_41612\\2688297519.py\u001b[0m in \u001b[0;36m<module>\u001b[1;34m\u001b[0m\n\u001b[0;32m     29\u001b[0m \u001b[1;33m\u001b[0m\u001b[0m\n\u001b[0;32m     30\u001b[0m \u001b[1;31m# Select surface instance\u001b[0m\u001b[1;33m\u001b[0m\u001b[1;33m\u001b[0m\u001b[1;33m\u001b[0m\u001b[0m\n\u001b[1;32m---> 31\u001b[1;33m \u001b[0msurf\u001b[0m \u001b[1;33m=\u001b[0m \u001b[0msurfs\u001b[0m\u001b[1;33m[\u001b[0m\u001b[1;36m0\u001b[0m\u001b[1;33m]\u001b[0m\u001b[1;33m\u001b[0m\u001b[1;33m\u001b[0m\u001b[0m\n\u001b[0m\u001b[0;32m     32\u001b[0m \u001b[1;33m\u001b[0m\u001b[0m\n\u001b[0;32m     33\u001b[0m \u001b[0mprint\u001b[0m\u001b[1;33m(\u001b[0m\u001b[1;34m\"\\nSelected surface:\"\u001b[0m\u001b[1;33m)\u001b[0m\u001b[1;33m\u001b[0m\u001b[1;33m\u001b[0m\u001b[0m\n",
      "\u001b[1;32mc:\\appl\\sumo\\fmu-sumo\\src\\fmu\\sumo\\explorer\\objects\\surface_collection.py\u001b[0m in \u001b[0;36m__getitem__\u001b[1;34m(self, index)\u001b[0m\n\u001b[0;32m     23\u001b[0m \u001b[1;33m\u001b[0m\u001b[0m\n\u001b[0;32m     24\u001b[0m     \u001b[1;32mdef\u001b[0m \u001b[0m__getitem__\u001b[0m\u001b[1;33m(\u001b[0m\u001b[0mself\u001b[0m\u001b[1;33m,\u001b[0m \u001b[0mindex\u001b[0m\u001b[1;33m)\u001b[0m \u001b[1;33m->\u001b[0m \u001b[0mSurface\u001b[0m\u001b[1;33m:\u001b[0m\u001b[1;33m\u001b[0m\u001b[1;33m\u001b[0m\u001b[0m\n\u001b[1;32m---> 25\u001b[1;33m         \u001b[0mdoc\u001b[0m \u001b[1;33m=\u001b[0m \u001b[0msuper\u001b[0m\u001b[1;33m(\u001b[0m\u001b[1;33m)\u001b[0m\u001b[1;33m.\u001b[0m\u001b[0m__getitem__\u001b[0m\u001b[1;33m(\u001b[0m\u001b[0mindex\u001b[0m\u001b[1;33m)\u001b[0m\u001b[1;33m\u001b[0m\u001b[1;33m\u001b[0m\u001b[0m\n\u001b[0m\u001b[0;32m     26\u001b[0m         \u001b[1;32mreturn\u001b[0m \u001b[0mSurface\u001b[0m\u001b[1;33m(\u001b[0m\u001b[0mself\u001b[0m\u001b[1;33m.\u001b[0m\u001b[0m_sumo\u001b[0m\u001b[1;33m,\u001b[0m \u001b[0mdoc\u001b[0m\u001b[1;33m)\u001b[0m\u001b[1;33m\u001b[0m\u001b[1;33m\u001b[0m\u001b[0m\n\u001b[0;32m     27\u001b[0m \u001b[1;33m\u001b[0m\u001b[0m\n",
      "\u001b[1;32mc:\\appl\\sumo\\fmu-sumo\\src\\fmu\\sumo\\explorer\\objects\\document_collection.py\u001b[0m in \u001b[0;36m__getitem__\u001b[1;34m(self, index)\u001b[0m\n\u001b[0;32m     44\u001b[0m         \"\"\"\n\u001b[0;32m     45\u001b[0m         \u001b[1;32mif\u001b[0m \u001b[0mindex\u001b[0m \u001b[1;33m>=\u001b[0m \u001b[0mself\u001b[0m\u001b[1;33m.\u001b[0m\u001b[0m__len__\u001b[0m\u001b[1;33m(\u001b[0m\u001b[1;33m)\u001b[0m\u001b[1;33m:\u001b[0m\u001b[1;33m\u001b[0m\u001b[1;33m\u001b[0m\u001b[0m\n\u001b[1;32m---> 46\u001b[1;33m             \u001b[1;32mraise\u001b[0m \u001b[0mIndexError\u001b[0m\u001b[1;33m\u001b[0m\u001b[1;33m\u001b[0m\u001b[0m\n\u001b[0m\u001b[0;32m     47\u001b[0m \u001b[1;33m\u001b[0m\u001b[0m\n\u001b[0;32m     48\u001b[0m         \u001b[1;32mif\u001b[0m \u001b[0mlen\u001b[0m\u001b[1;33m(\u001b[0m\u001b[0mself\u001b[0m\u001b[1;33m.\u001b[0m\u001b[0m_items\u001b[0m\u001b[1;33m)\u001b[0m \u001b[1;33m<=\u001b[0m \u001b[0mindex\u001b[0m\u001b[1;33m:\u001b[0m\u001b[1;33m\u001b[0m\u001b[1;33m\u001b[0m\u001b[0m\n",
      "\u001b[1;31mIndexError\u001b[0m: "
     ]
    }
   ],
   "source": [
    "# Get case surfaces\n",
    "surfs = case.surfaces\n",
    "\n",
    "# Get available iterations\n",
    "print(\"Iterations:\", surfs.iterations)\n",
    "\n",
    "# Filter on iteration\n",
    "surfs = surfs.filter(iteration=\"iter-0\")\n",
    "\n",
    "# Get available names\n",
    "print(\"Names:\", surfs.names)\n",
    "\n",
    "# Filter on name\n",
    "surfs = surfs.filter(name=\"Valysar Fm.\")\n",
    "\n",
    "# Get available tagnames\n",
    "print(\"Tagnames:\", surfs.tagnames)\n",
    "\n",
    "# Filter on tagnames\n",
    "surfs = surfs.filter(tagname=\"FACIES_Fraction_Channel\")\n",
    "\n",
    "# Iterate over results\n",
    "print(\"\\nResults:\", len(surfs))\n",
    "\n",
    "for surf in surfs:\n",
    "    print(\"\\n\")\n",
    "    print(\"ID:\", surf.id)\n",
    "    print(\"Realization:\", surf.realization)\n",
    "\n",
    "# Select surface instance\n",
    "surf = surfs[0]\n",
    "\n",
    "print(\"\\nSelected surface:\")\n",
    "print(\"ID:\", surf.id)\n",
    "print(\"Name:\", surf.name)\n",
    "print(\"Tagname:\", surf.tagname)\n",
    "print(\"Iteration:\", surf.iteration)\n",
    "print(\"Realization:\", surf.realization)\n",
    "\n",
    "# xtge.RegularSurface\n",
    "reg_surf = surf.to_regular_surface()\n",
    "reg_surf.quickplot()"
   ]
  },
  {
   "attachments": {},
   "cell_type": "markdown",
   "metadata": {},
   "source": [
    "### Aggregate"
   ]
  },
  {
   "cell_type": "code",
   "execution_count": null,
   "metadata": {},
   "outputs": [],
   "source": [
    "# Perform aggregation on SurfaceCollection\n",
    "# surfs.min()\n",
    "# surfs.max()\n",
    "# surfs.mean()\n",
    "# surfs.std()\n",
    "# surfs.p10()\n",
    "# surfs.p50()\n",
    "# surfs.p90()\n",
    "\n",
    "min = surfs.min()\n",
    "min.quickplot()"
   ]
  },
  {
   "attachments": {},
   "cell_type": "markdown",
   "metadata": {},
   "source": [
    "### Time filtration\n",
    "The `TimeFilter` class can be used to construct a time filter which can be passed to the `SurfaceCollection.filter` method."
   ]
  },
  {
   "cell_type": "code",
   "execution_count": null,
   "metadata": {},
   "outputs": [],
   "source": [
    "from fmu.sumo.explorer import TimeFilter, TimeType\n",
    "\n",
    "# get surfaces with timestamps\n",
    "time = TimeFilter(type=TimeType.TIMESTAMP)\n",
    "surfs = case.surfaces.filter(time=time)\n",
    "print(\"Timestamp:\", len(surfs))\n",
    "\n",
    "# get surfaces with time intervals\n",
    "time = TimeFilter(type=TimeType.INTERVAL)\n",
    "surfs = case.surfaces.filter(time=time)\n",
    "print(\"Interval:\", len(surfs))\n",
    "\n",
    "\n",
    "# get surfaces with time data (timestamp or interval)\n",
    "time = TimeFilter(type=TimeType.ALL)\n",
    "surfs = case.surfaces.filter(time=time)\n",
    "print(\"Time data:\", len(surfs))\n",
    "\n",
    "\n",
    "# get surfaces without time data\n",
    "time = TimeFilter(type=TimeType.NONE)\n",
    "surfs = case.surfaces.filter(time=time)\n",
    "print(\"No time data:\", len(surfs))\n",
    "\n",
    "\n",
    "# get avaiable timestamps\n",
    "timestamps = case.surfaces.timestamps\n",
    "print(\"\\nTimestamps:\", timestamps)\n",
    "\n",
    "# get available intervals\n",
    "intervals = case.surfaces.intervals\n",
    "print(\"Intervals:\", intervals)\n",
    "\n",
    "\n",
    "# get surfaces with timestamp in range\n",
    "time = TimeFilter(type=TimeType.TIMESTAMP, start=\"2018-01-01\", end=\"2022-01-01\")\n",
    "surfs = case.surfaces.filter(time=time)\n",
    "\n",
    "# get surfaces with time intervals in range\n",
    "time = TimeFilter(type=TimeType.INTERVAL, start=\"2018-01-01\", end=\"2022-01-01\")\n",
    "surfs = case.surfaces.filter(time=time)\n",
    "\n",
    "# get surfaces where intervals overlap with range\n",
    "time = TimeFilter(type=TimeType.INTERVAL, start=\"2018-01-01\", end=\"2022-01-01\", overlap=True)\n",
    "surfs = case.surfaces.filter(time=time)\n",
    "\n",
    "# get surfaces with exact timestamp matching (t0 == start)\n",
    "time = TimeFilter(type=TimeType.TIMESTAMP, start=\"2018-01-01\", exact=True)\n",
    "surfs = case.surfaces.filter(time=time)\n",
    "\n",
    "# get surfaces with exact interval matching (t0 == start AND t1 == end)\n",
    "time = TimeFilter(type=TimeType.INTERVAL, start=\"2018-01-01\", end=\"2022-01-01\", exact=True)\n",
    "surfs = case.surfaces.filter(time=time)"
   ]
  }
 ],
 "metadata": {
  "kernelspec": {
   "display_name": "venv",
   "language": "python",
   "name": "python3"
  },
  "language_info": {
   "codemirror_mode": {
    "name": "ipython",
    "version": 3
   },
   "file_extension": ".py",
   "mimetype": "text/x-python",
   "name": "python",
   "nbconvert_exporter": "python",
   "pygments_lexer": "ipython3",
   "version": "3.7.9"
  },
  "orig_nbformat": 4,
  "vscode": {
   "interpreter": {
    "hash": "97113848c8b2b18ba035ece34debc301e3f302f82c1ce559e1f44792a9e42eed"
   }
  }
 },
 "nbformat": 4,
 "nbformat_minor": 2
}
