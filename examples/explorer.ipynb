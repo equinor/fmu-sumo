{
 "cells": [
  {
   "cell_type": "code",
   "execution_count": 3,
   "metadata": {},
   "outputs": [
    {
     "ename": "ModuleNotFoundError",
     "evalue": "No module named 'fmu'",
     "output_type": "error",
     "traceback": [
      "\u001b[0;31m---------------------------------------------------------------------------\u001b[0m",
      "\u001b[0;31mModuleNotFoundError\u001b[0m                       Traceback (most recent call last)",
      "\u001b[0;32m/var/folders/qq/1m6b2qvj367fsf998lq6hdjh0000gn/T/ipykernel_43303/2069998664.py\u001b[0m in \u001b[0;36m<module>\u001b[0;34m\u001b[0m\n\u001b[0;32m----> 1\u001b[0;31m \u001b[0;32mfrom\u001b[0m \u001b[0mfmu\u001b[0m\u001b[0;34m.\u001b[0m\u001b[0msumo\u001b[0m\u001b[0;34m.\u001b[0m\u001b[0mexplorer\u001b[0m \u001b[0;32mimport\u001b[0m \u001b[0mExplorer\u001b[0m\u001b[0;34m\u001b[0m\u001b[0;34m\u001b[0m\u001b[0m\n\u001b[0m\u001b[1;32m      2\u001b[0m \u001b[0;34m\u001b[0m\u001b[0m\n\u001b[1;32m      3\u001b[0m \u001b[0mget_ipython\u001b[0m\u001b[0;34m(\u001b[0m\u001b[0;34m)\u001b[0m\u001b[0;34m.\u001b[0m\u001b[0mrun_line_magic\u001b[0m\u001b[0;34m(\u001b[0m\u001b[0;34m'matplotlib'\u001b[0m\u001b[0;34m,\u001b[0m \u001b[0;34m'inline'\u001b[0m\u001b[0;34m)\u001b[0m\u001b[0;34m\u001b[0m\u001b[0;34m\u001b[0m\u001b[0m\n",
      "\u001b[0;31mModuleNotFoundError\u001b[0m: No module named 'fmu'"
     ]
    }
   ],
   "source": [
    "from fmu.sumo.explorer import Explorer\n",
    "\n",
    "%matplotlib inline"
   ]
  },
  {
   "attachments": {},
   "cell_type": "markdown",
   "metadata": {},
   "source": [
    "### Initialize Explorer"
   ]
  },
  {
   "cell_type": "code",
   "execution_count": null,
   "metadata": {},
   "outputs": [],
   "source": [
    "sumo = Explorer(\"dev\")"
   ]
  },
  {
   "attachments": {},
   "cell_type": "markdown",
   "metadata": {},
   "source": [
    "### Find cases"
   ]
  },
  {
   "cell_type": "code",
   "execution_count": null,
   "metadata": {},
   "outputs": [],
   "source": [
    "# Get Drogon cases\n",
    "cases = sumo.cases.filter(asset=\"Drogon\")\n",
    "\n",
    "# Get available status filters\n",
    "print(\"Statuses:\",cases.statuses)\n",
    "\n",
    "# Filter on status\n",
    "cases = cases.filter(status=\"keep\")\n",
    "\n",
    "# Get available user filters\n",
    "print(\"Users:\", cases.users)\n",
    "\n",
    "# Filer on user\n",
    "cases = cases.filter(user=\"dbs\")\n",
    "\n",
    "# Iterate over results\n",
    "print(\"\\nResults:\", len(cases))\n",
    "\n",
    "for case in cases:\n",
    "    print(\"ID:\", case.id)\n",
    "    print(\"Name:\", case.name)\n",
    "    print(\"\\n\")\n",
    "\n",
    "# Get case by name (name is not guaranteed to be unique)\n",
    "case = sumo.cases.filter(name=\"drogon_design_small-2023-01-18\")[0]\n",
    "\n",
    "# Get case by id\n",
    "case = sumo.cases.filter(id=\"2c2f47cf-c7ab-4112-87f9-b4797ec51cb6\")[0]\n",
    "\n",
    "# Select case\n",
    "case = cases[0]\n",
    "\n",
    "print(\"\\nSelected case:\")\n",
    "print(\"ID:\", case.id)\n",
    "print(\"Name:\", case.name)\n",
    "print(\"Status:\", case.status)\n",
    "print(\"Asset:\", case.asset)\n",
    "print(\"Field:\", case.field)\n",
    "print(\"User:\", case.user)\n",
    "print(\"Surfaces:\", len(case.surfaces))\n",
    "print(\"Polygons:\", len(case.polygons))\n",
    "print(\"Tables:\", len(case.polygons))"
   ]
  },
  {
   "attachments": {},
   "cell_type": "markdown",
   "metadata": {},
   "source": [
    "### Find data"
   ]
  },
  {
   "cell_type": "code",
   "execution_count": null,
   "metadata": {},
   "outputs": [],
   "source": [
    "# Get case surfaces\n",
    "surfs = case.surfaces\n",
    "\n",
    "# Get available iterations\n",
    "print(\"Iterations:\", surfs.iterations)\n",
    "\n",
    "# Filter on iteration\n",
    "surfs = surfs.filter(iteration=0)\n",
    "\n",
    "# Get available names\n",
    "print(\"Names:\", surfs.names)\n",
    "\n",
    "# Filter on name\n",
    "surfs = surfs.filter(name=\"Valysar Fm.\")\n",
    "\n",
    "# Get available tagnames\n",
    "print(\"Tagnames:\", surfs.tagnames)\n",
    "\n",
    "# Filter on tagnames\n",
    "surfs = surfs.filter(tagname=\"FACIES_Fraction_Channel\")\n",
    "\n",
    "# Iterate over results\n",
    "print(\"\\nResults:\", len(surfs))\n",
    "\n",
    "for surf in surfs:\n",
    "    print(\"\\n\")\n",
    "    print(\"ID:\", surf.id)\n",
    "    print(\"Realization:\", surf.realization)\n",
    "\n",
    "# Select surface instance\n",
    "surf = surfs[0]\n",
    "\n",
    "print(\"\\nSelected surface:\")\n",
    "print(\"ID:\", surf.id)\n",
    "print(\"Name:\", surf.name)\n",
    "print(\"Tagname:\", surf.tagname)\n",
    "print(\"Iteration:\", surf.iteration)\n",
    "print(\"Realization:\", surf.realization)\n",
    "\n",
    "# xtge.RegularSurface\n",
    "reg_surf = surf.to_regular_surface()\n",
    "reg_surf.quickplot()"
   ]
  },
  {
   "attachments": {},
   "cell_type": "markdown",
   "metadata": {},
   "source": [
    "### Aggregate"
   ]
  },
  {
   "cell_type": "code",
   "execution_count": null,
   "metadata": {},
   "outputs": [],
   "source": [
    "# Perform aggregation on SurfaceCollection\n",
    "# surfs.min()\n",
    "# surfs.max()\n",
    "# surfs.mean()\n",
    "# surfs.std()\n",
    "# surfs.p10()\n",
    "# surfs.p50()\n",
    "# surfs.p90()\n",
    "\n",
    "min = surfs.min()\n",
    "min.quickplot()"
   ]
  }
 ],
 "metadata": {
  "kernelspec": {
   "display_name": "venv",
   "language": "python",
   "name": "python3"
  },
  "language_info": {
   "codemirror_mode": {
    "name": "ipython",
    "version": 3
   },
   "file_extension": ".py",
   "mimetype": "text/x-python",
   "name": "python",
   "nbconvert_exporter": "python",
   "pygments_lexer": "ipython3",
   "version": "3.7.13"
  },
  "orig_nbformat": 4,
  "vscode": {
   "interpreter": {
    "hash": "886a3bf2c68989186a10fcef5692724f98e2557aca959586571e913a0aec80e7"
   }
  }
 },
 "nbformat": 4,
 "nbformat_minor": 2
}
