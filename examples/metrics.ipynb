{
 "cells": [
  {
   "cell_type": "code",
   "execution_count": 1,
   "id": "a26f4146-4206-4f74-aba4-a9b165b00666",
   "metadata": {},
   "outputs": [],
   "source": [
    "from fmu.sumo.explorer import Explorer"
   ]
  },
  {
   "cell_type": "code",
   "execution_count": 2,
   "id": "9d04d0ea-b8ba-4891-ace1-4a5a8141e2c1",
   "metadata": {},
   "outputs": [
    {
     "name": "stderr",
     "output_type": "stream",
     "text": [
      "/Users/RAYW/py-envs/explorer/lib/python3.9/site-packages/urllib3/__init__.py:35: NotOpenSSLWarning: urllib3 v2 only supports OpenSSL 1.1.1+, currently the 'ssl' module is compiled with 'LibreSSL 2.8.3'. See: https://github.com/urllib3/urllib3/issues/3020\n",
      "  warnings.warn(\n"
     ]
    }
   ],
   "source": [
    "exp=Explorer(env=\"preview\")"
   ]
  },
  {
   "cell_type": "code",
   "execution_count": 3,
   "id": "0466932c-08c6-4a2b-991d-7ef752e37a87",
   "metadata": {},
   "outputs": [],
   "source": [
    "case=exp.get_case_by_uuid(\"359e7c72-a4ca-43ee-9203-f09cd0f149a9\")"
   ]
  },
  {
   "cell_type": "code",
   "execution_count": 4,
   "id": "5981d890-3797-497a-8543-80c6a0b9af2c",
   "metadata": {},
   "outputs": [],
   "source": [
    "tables=case.tables"
   ]
  },
  {
   "cell_type": "code",
   "execution_count": 5,
   "id": "73f4b0aa-ec42-40af-bf47-eea30e6c265a",
   "metadata": {},
   "outputs": [],
   "source": [
    "summaries=tables.filter(tagname=\"summary\", realization=True)"
   ]
  },
  {
   "cell_type": "code",
   "execution_count": 12,
   "id": "56160303-4881-4215-9daf-ce237c0b9bc6",
   "metadata": {},
   "outputs": [
    {
     "data": {
      "text/plain": [
       "{'value': 49381964}"
      ]
     },
     "execution_count": 12,
     "metadata": {},
     "output_type": "execute_result"
    }
   ],
   "source": [
    "summaries.metrics.min(field=\"_sumo.blob_size\")"
   ]
  },
  {
   "cell_type": "code",
   "execution_count": 13,
   "id": "a5d63240-fb6e-477b-a1a7-41f99f2900b7",
   "metadata": {},
   "outputs": [
    {
     "data": {
      "text/plain": [
       "{'value': 49691994}"
      ]
     },
     "execution_count": 13,
     "metadata": {},
     "output_type": "execute_result"
    }
   ],
   "source": [
    "summaries.metrics.max(field=\"_sumo.blob_size\")"
   ]
  },
  {
   "cell_type": "code",
   "execution_count": 14,
   "id": "2c218f8b-e210-40f8-be5a-5202efa1ef9d",
   "metadata": {},
   "outputs": [
    {
     "data": {
      "text/plain": [
       "{'value': 49637090.18518519}"
      ]
     },
     "execution_count": 14,
     "metadata": {},
     "output_type": "execute_result"
    }
   ],
   "source": [
    "summaries.metrics.avg(field=\"_sumo.blob_size\")"
   ]
  },
  {
   "cell_type": "code",
   "execution_count": 6,
   "id": "393b2551-7d25-435a-89a9-5c3dbb3b3e51",
   "metadata": {},
   "outputs": [
    {
     "data": {
      "text/plain": [
       "{'count': 27,\n",
       " 'min': 49381964,\n",
       " 'max': 49691994,\n",
       " 'avg': 49637090.18518519,\n",
       " 'sum': 1340201435}"
      ]
     },
     "execution_count": 6,
     "metadata": {},
     "output_type": "execute_result"
    }
   ],
   "source": [
    "summaries.metrics.stats(field=\"_sumo.blob_size\")"
   ]
  },
  {
   "cell_type": "code",
   "execution_count": 11,
   "id": "07d28bb7-eee9-41e4-a3e6-491aba7a3f4b",
   "metadata": {},
   "outputs": [
    {
     "data": {
      "text/plain": [
       "{'count': 27,\n",
       " 'min': 49381964,\n",
       " 'max': 49691994,\n",
       " 'avg': 49637090.18518519,\n",
       " 'sum': 1340201435,\n",
       " 'sum_of_squares': 66523854962491070,\n",
       " 'variance': 5758040054.518518,\n",
       " 'variance_population': 5758040054.518518,\n",
       " 'variance_sampling': 5979503133.538462,\n",
       " 'std_deviation': 75881.75047083797,\n",
       " 'std_deviation_population': 75881.75047083797,\n",
       " 'std_deviation_sampling': 77327.24703193863,\n",
       " 'std_deviation_bounds': {'upper': 49788853.686126865,\n",
       "  'lower': 49485326.68424351,\n",
       "  'upper_population': 49788853.686126865,\n",
       "  'lower_population': 49485326.68424351,\n",
       "  'upper_sampling': 49791744.67924906,\n",
       "  'lower_sampling': 49482435.69112131}}"
      ]
     },
     "execution_count": 11,
     "metadata": {},
     "output_type": "execute_result"
    }
   ],
   "source": [
    "summaries.metrics.extended_stats(field=\"_sumo.blob_size\")"
   ]
  },
  {
   "cell_type": "markdown",
   "id": "0355fa71-3605-46f0-bd22-872bbdfa3ac7",
   "metadata": {},
   "source": [
    "summaries.metrics.percentiles(field=\"_sumo.blob_size\")"
   ]
  },
  {
   "cell_type": "code",
   "execution_count": 7,
   "id": "a2859bee-133e-4631-91d3-618c22d942eb",
   "metadata": {},
   "outputs": [
    {
     "data": {
      "text/plain": [
       "{'values': {'1.0': 49393263.86,\n",
       "  '5.0': 49444157,\n",
       "  '25.0': 49649169.5,\n",
       "  '50.0': 49655582,\n",
       "  '75.0': 49675572.5,\n",
       "  '95.0': 49685770.8,\n",
       "  '99.0': 49690463.64}}"
      ]
     },
     "execution_count": 7,
     "metadata": {},
     "output_type": "execute_result"
    }
   ],
   "source": [
    "summaries.metrics.percentiles(field=\"_sumo.blob_size\")"
   ]
  },
  {
   "cell_type": "code",
   "execution_count": 8,
   "id": "d6cb14c9-0a9a-4c91-bd86-7f783e3dcfcf",
   "metadata": {},
   "outputs": [
    {
     "data": {
      "text/plain": [
       "{'values': {'95.0': 49685770.8, '99.0': 49690463.64, '99.9': 49691840.964}}"
      ]
     },
     "execution_count": 8,
     "metadata": {},
     "output_type": "execute_result"
    }
   ],
   "source": [
    "summaries.metrics.percentiles(field=\"_sumo.blob_size\", percents=[95, 99, 99.9])"
   ]
  },
  {
   "cell_type": "code",
   "execution_count": 10,
   "id": "91355328-db37-473f-aad8-e2c7d2fd7d10",
   "metadata": {},
   "outputs": [
    {
     "data": {
      "text/plain": [
       "1.2481598509475589"
      ]
     },
     "execution_count": 10,
     "metadata": {},
     "output_type": "execute_result"
    }
   ],
   "source": [
    "summaries.metrics.sum(field=\"_sumo.blob_size\")[\"value\"]/(1024*1024*1024)"
   ]
  },
  {
   "cell_type": "code",
   "execution_count": null,
   "id": "cb3be689-6db2-483e-8195-2fcc3e1cdc69",
   "metadata": {},
   "outputs": [],
   "source": []
  }
 ],
 "metadata": {
  "kernelspec": {
   "display_name": "Python 3 (ipykernel)",
   "language": "python",
   "name": "python3"
  },
  "language_info": {
   "codemirror_mode": {
    "name": "ipython",
    "version": 3
   },
   "file_extension": ".py",
   "mimetype": "text/x-python",
   "name": "python",
   "nbconvert_exporter": "python",
   "pygments_lexer": "ipython3",
   "version": "3.9.6"
  }
 },
 "nbformat": 4,
 "nbformat_minor": 5
}
