{
 "cells": [
  {
   "cell_type": "code",
   "execution_count": null,
   "id": "22f13ebd-632d-410c-b448-2e3930229eb0",
   "metadata": {},
   "outputs": [],
   "source": [
    "from fmu.sumo.explorer import Explorer"
   ]
  },
  {
   "cell_type": "code",
   "execution_count": null,
   "id": "add974bb-e057-4936-b826-1e48ada49343",
   "metadata": {},
   "outputs": [],
   "source": [
    "exp=Explorer(\"prod\")\n"
   ]
  },
  {
   "cell_type": "code",
   "execution_count": null,
   "id": "d1742e41-e617-4bb2-acb0-4ff6938c1ecf",
   "metadata": {},
   "outputs": [],
   "source": [
    "mycase = exp.get_case_by_uuid(\"4a0fefe2-b5f8-4622-9093-bcfa6b189ffe\")\n"
   ]
  },
  {
   "cell_type": "code",
   "execution_count": null,
   "id": "b9d8bf4e-c4b5-4d56-a468-8ed62bbc25c2",
   "metadata": {},
   "outputs": [],
   "source": [
    "mycase.name"
   ]
  },
  {
   "cell_type": "code",
   "execution_count": null,
   "id": "1f689ef2-7bab-422a-98ed-c8b87c89227d",
   "metadata": {},
   "outputs": [],
   "source": [
    "mycase.status"
   ]
  },
  {
   "cell_type": "code",
   "execution_count": null,
   "id": "e99a07cf-8ab9-435f-9758-ec656776ad39",
   "metadata": {},
   "outputs": [],
   "source": [
    "grids = mycase.grids\n"
   ]
  },
  {
   "cell_type": "code",
   "execution_count": null,
   "id": "b6d25e92-f9e1-44fc-b778-bcf941011925",
   "metadata": {},
   "outputs": [],
   "source": [
    "len(grids)"
   ]
  },
  {
   "cell_type": "code",
   "execution_count": null,
   "id": "3a46a2b7-9906-4456-b0b1-6d9fc7953371",
   "metadata": {},
   "outputs": [],
   "source": [
    "[grid.name for grid in grids]"
   ]
  },
  {
   "cell_type": "code",
   "execution_count": null,
   "id": "f94cc592-882e-44b8-a63d-ab8f8adea182",
   "metadata": {},
   "outputs": [],
   "source": [
    "grids[0].iteration"
   ]
  },
  {
   "cell_type": "code",
   "execution_count": null,
   "id": "ca97f0f2-3792-4c3a-b3d0-bc6c4962aa78",
   "metadata": {},
   "outputs": [],
   "source": [
    "grids[0].realization"
   ]
  },
  {
   "cell_type": "code",
   "execution_count": null,
   "id": "185ce22f-fee9-46f8-b55c-313352a01e1a",
   "metadata": {},
   "outputs": [],
   "source": [
    "set([g.iteration for g in grids])"
   ]
  },
  {
   "cell_type": "code",
   "execution_count": null,
   "id": "e4382d2d-6178-4192-847f-1778b4333d9d",
   "metadata": {},
   "outputs": [],
   "source": [
    "grid=grids[0]"
   ]
  },
  {
   "cell_type": "code",
   "execution_count": null,
   "id": "eaea19ce-e271-4f35-8e39-06c9e4b90a66",
   "metadata": {},
   "outputs": [],
   "source": [
    "grprops=grid.grid_properties"
   ]
  },
  {
   "cell_type": "code",
   "execution_count": null,
   "id": "90977eb8-798a-4434-82b5-e7b43229af75",
   "metadata": {},
   "outputs": [],
   "source": [
    "len(grprops)"
   ]
  },
  {
   "cell_type": "code",
   "execution_count": null,
   "id": "61cdc213-1921-4955-bab0-5a9e58e7e743",
   "metadata": {},
   "outputs": [],
   "source": [
    "[g._metadata[\"data\"][\"geometry\"][\"relative_path\"] for g in grprops]"
   ]
  },
  {
   "cell_type": "code",
   "execution_count": null,
   "id": "2efb92e8-4eff-42cc-bd67-c334e10f99fa",
   "metadata": {},
   "outputs": [],
   "source": [
    "[g.grid.uuid for g in grprops]"
   ]
  },
  {
   "cell_type": "code",
   "execution_count": null,
   "id": "e8b73553-0248-4b19-91d5-6d381b0ae1bc",
   "metadata": {},
   "outputs": [],
   "source": []
  }
 ],
 "metadata": {
  "kernelspec": {
   "display_name": "Python 3 (ipykernel)",
   "language": "python",
   "name": "python3"
  },
  "language_info": {
   "codemirror_mode": {
    "name": "ipython",
    "version": 3
   },
   "file_extension": ".py",
   "mimetype": "text/x-python",
   "name": "python",
   "nbconvert_exporter": "python",
   "pygments_lexer": "ipython3",
   "version": "3.9.6"
  }
 },
 "nbformat": 4,
 "nbformat_minor": 5
}
