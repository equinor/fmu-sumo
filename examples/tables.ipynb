{
 "cells": [
  {
   "cell_type": "code",
   "execution_count": null,
   "metadata": {},
   "outputs": [],
   "source": [
    "import time\n",
    "from fmu.sumo.explorer import Explorer\n",
    "from fmu.sumo.explorer.objects.table import AggregatedTable\n",
    "import seaborn as sns\n",
    "%matplotlib inline"
   ]
  },
  {
   "cell_type": "markdown",
   "metadata": {},
   "source": [
    "### Initialize Explorer"
   ]
  },
  {
   "cell_type": "code",
   "execution_count": null,
   "metadata": {},
   "outputs": [],
   "source": [
    "sumo = Explorer(\"dev\")"
   ]
  },
  {
   "cell_type": "markdown",
   "metadata": {},
   "source": [
    "### Get Case"
   ]
  },
  {
   "cell_type": "code",
   "execution_count": null,
   "metadata": {},
   "outputs": [],
   "source": [
    "# Get case by name (name is not guaranteed to be unique)\n",
    "case = sumo.cases.filter(name=\"drogon_ahm-2023-02-22\")[0]\n"
   ]
  },
  {
   "cell_type": "markdown",
   "metadata": {},
   "source": [
    "### Finding info about tables connected to case"
   ]
  },
  {
   "cell_type": "code",
   "execution_count": null,
   "metadata": {
    "scrolled": true
   },
   "outputs": [],
   "source": [
    "tables = case.tables\n",
    "print(f\"Table names: {tables.names}\")\n",
    "print(f\"Table tags: {tables.tagnames}\")"
   ]
  },
  {
   "cell_type": "markdown",
   "metadata": {},
   "source": [
    "### Finding info related to specific table name"
   ]
  },
  {
   "cell_type": "code",
   "execution_count": null,
   "metadata": {},
   "outputs": [],
   "source": [
    "tables = tables.filter(name=\"summary\")\n",
    "print(f\"Tagname check: {tables.tagnames}\")"
   ]
  },
  {
   "cell_type": "markdown",
   "metadata": {},
   "source": [
    "### The filter way"
   ]
  },
  {
   "cell_type": "code",
   "execution_count": null,
   "metadata": {},
   "outputs": [],
   "source": [
    "table = case.tables.filter(\"summary\", \"eclipse\", \"iter-0\", aggregation=\"collection\", column=\"FOPT\")\n",
    "print(len(table))\n",
    "print(table.tagnames)\n",
    "print(table.names)\n",
    "table = table[0]\n",
    "\n",
    "table.dataframe"
   ]
  },
  {
   "cell_type": "markdown",
   "metadata": {},
   "source": [
    "### For user friendly access to summary data\n"
   ]
  },
  {
   "cell_type": "code",
   "execution_count": null,
   "metadata": {},
   "outputs": [],
   "source": [
    "# Get case surfaces\n",
    "summary = AggregatedTable(case, \"summary\", \"eclipse\", \"iter-0\", aggregation=\"collection\")\n",
    "\n",
    "for key in summary[\"FOPR\"][\"fmu\"][\"iteration\"][\"parameters\"][\"GLOBVAR\"].keys():\n",
    "    print(key)"
   ]
  },
  {
   "cell_type": "markdown",
   "metadata": {},
   "source": [
    "### If you prefer pandas to arrow"
   ]
  },
  {
   "cell_type": "code",
   "execution_count": null,
   "metadata": {},
   "outputs": [],
   "source": [
    "summary = AggregatedTable(case, \"summary\", \"eclipse\", \"iter-0\")\n",
    "\n",
    "table = summary[\"FOPT\"].dataframe"
   ]
  },
  {
   "cell_type": "markdown",
   "metadata": {},
   "source": [
    "### Inplace volumes"
   ]
  },
  {
   "cell_type": "code",
   "execution_count": null,
   "metadata": {
    "scrolled": true
   },
   "outputs": [],
   "source": [
    "# Get case surfaces\n",
    "inplace = AggregatedTable(case, \"geogrid\", \"vol\", \"iter-0\")\n",
    "\n",
    "inplace[\"STOIIP_OIL\"].dataframe.groupby([\"ZONE\", \"REAL\"])[\"STOIIP_OIL\"].agg(\"sum\")[\"Therys\"].plot(kind=\"hist\")"
   ]
  },
  {
   "cell_type": "markdown",
   "metadata": {},
   "source": [
    "### Summary speedtest"
   ]
  },
  {
   "cell_type": "code",
   "execution_count": null,
   "metadata": {
    "scrolled": true
   },
   "outputs": [],
   "source": [
    "start = time.perf_counter()\n",
    "count = 0\n",
    "for col_name in summary.columns[:20]:\n",
    "    vector = summary[col_name]\n",
    "    print(vector.dataframe.head())\n",
    "    count += 1\n",
    "print(f\"{count} cols in total time: {time.perf_counter() - start: .1f} s\")"
   ]
  },
  {
   "cell_type": "markdown",
   "metadata": {},
   "source": [
    "### Inplace speedtest"
   ]
  },
  {
   "cell_type": "code",
   "execution_count": null,
   "metadata": {},
   "outputs": [],
   "source": [
    "start = time.perf_counter()\n",
    "count = 0\n",
    "for col_name in inplace.columns[:20]:\n",
    "    col = inplace[col_name]\n",
    "    print(col)\n",
    "    count += 1\n",
    "print(f\"{count} cols in total time: {time.perf_counter() - start: .1f} s\")"
   ]
  }
 ],
 "metadata": {
  "kernelspec": {
   "display_name": "my_env",
   "language": "python",
   "name": "python3"
  },
  "language_info": {
   "codemirror_mode": {
    "name": "ipython",
    "version": 3
   },
   "file_extension": ".py",
   "mimetype": "text/x-python",
   "name": "python",
   "nbconvert_exporter": "python",
   "pygments_lexer": "ipython3",
   "version": "3.8.10"
  }
 },
 "nbformat": 4,
 "nbformat_minor": 2
}
