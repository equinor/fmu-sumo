{
 "cells": [
  {
   "cell_type": "code",
   "execution_count": null,
   "metadata": {},
   "outputs": [],
   "source": [
    "import time\n",
    "import pandas as pd\n",
    "from fmu.sumo.explorer import Explorer\n",
    "from fmu.sumo.explorer.objects.table import AggregatedTable\n",
    "import seaborn as sns\n",
    "import matplotlib.pyplot as plt\n",
    "%matplotlib inline"
   ]
  },
  {
   "cell_type": "markdown",
   "metadata": {},
   "source": [
    "### Initialize Explorer"
   ]
  },
  {
   "cell_type": "code",
   "execution_count": null,
   "metadata": {},
   "outputs": [],
   "source": [
    "sumo = Explorer(\"dev\")"
   ]
  },
  {
   "cell_type": "markdown",
   "metadata": {},
   "source": [
    "### Get Case"
   ]
  },
  {
   "cell_type": "code",
   "execution_count": null,
   "metadata": {},
   "outputs": [],
   "source": [
    "# Get case by name (name is not guaranteed to be unique)\n",
    "case = sumo.cases.filter(name=\"drogon_ahm-2023-02-22\")[0]\n"
   ]
  },
  {
   "cell_type": "markdown",
   "metadata": {},
   "source": [
    "### Finding info about tables connected to case"
   ]
  },
  {
   "cell_type": "code",
   "execution_count": null,
   "metadata": {
    "scrolled": true
   },
   "outputs": [],
   "source": [
    "tables = case.tables\n",
    "print(f\"Table names: {tables.names}\")\n",
    "print(f\"Table tags: {tables.tagnames}\")"
   ]
  },
  {
   "cell_type": "markdown",
   "metadata": {},
   "source": [
    "### Finding info related to specific table name"
   ]
  },
  {
   "cell_type": "code",
   "execution_count": null,
   "metadata": {},
   "outputs": [],
   "source": [
    "tables = tables.filter(name=\"summary\")\n",
    "print(f\"Tagname check: {tables.tagnames}\")"
   ]
  },
  {
   "cell_type": "markdown",
   "metadata": {},
   "source": [
    "### The filter way"
   ]
  },
  {
   "cell_type": "code",
   "execution_count": null,
   "metadata": {},
   "outputs": [],
   "source": [
    "table = case.tables.filter(\"summary\", \"eclipse\", \"iter-0\", aggregation=\"collection\", column=\"FOPT\")\n",
    "print(len(table))\n",
    "print(table.tagnames)\n",
    "print(table.names)\n",
    "table = table[0]\n",
    "\n",
    "frame = table.dataframe\n",
    "\n"
   ]
  },
  {
   "attachments": {},
   "cell_type": "markdown",
   "metadata": {},
   "source": [
    "### Access to global variables\n",
    "\n",
    "Calculate CV (coefficient of variation) for all global variables to see which ones are varied the most"
   ]
  },
  {
   "cell_type": "code",
   "execution_count": null,
   "metadata": {},
   "outputs": [],
   "source": [
    "\n",
    "globals = table[\"fmu\"][\"iteration\"][\"parameters\"][\"GLOBVAR\"]\n",
    "frame[\"REAL\"] = frame[\"REAL\"].astype(str)\n",
    "for var_name in globals:\n",
    "    series = pd.Series(globals[var_name].values())\n",
    "\n",
    "    if series.mean() > 0.001:\n",
    "        cv = series.std() / series.mean()\n",
    "    else:\n",
    "        cv = 0\n",
    "    if cv > 0.01:\n",
    "        print(f\"{var_name}: {cv}\")\n",
    "\n",
    "    "
   ]
  },
  {
   "attachments": {},
   "cell_type": "markdown",
   "metadata": {},
   "source": [
    "### Add column with global var"
   ]
  },
  {
   "cell_type": "code",
   "execution_count": null,
   "metadata": {},
   "outputs": [],
   "source": [
    "frame[\"RELPERM_INT_WO\"] = frame[\"REAL\"].replace(globals[\"RELPERM_INT_WO\"])"
   ]
  },
  {
   "cell_type": "code",
   "execution_count": null,
   "metadata": {},
   "outputs": [],
   "source": [
    "### Plot"
   ]
  },
  {
   "cell_type": "code",
   "execution_count": null,
   "metadata": {},
   "outputs": [],
   "source": [
    "sns.lineplot(data=frame, x=\"DATE\", y=\"FOPT\", size=\"REAL\", hue=\"RELPERM_INT_WO\", legend=False)\n",
    "plt.xticks(rotation=45)\n",
    "plt.show()"
   ]
  },
  {
   "attachments": {},
   "cell_type": "markdown",
   "metadata": {},
   "source": [
    "### For even more user friendly access to summary data\n"
   ]
  },
  {
   "cell_type": "code",
   "execution_count": null,
   "metadata": {},
   "outputs": [],
   "source": [
    "# Get case surfaces\n",
    "summary = AggregatedTable(case, \"summary\", \"eclipse\", \"iter-0\")\n",
    "summary.columns\n",
    "\n"
   ]
  },
  {
   "attachments": {},
   "cell_type": "markdown",
   "metadata": {},
   "source": [
    "### If you prefer arrow to pandas"
   ]
  },
  {
   "cell_type": "code",
   "execution_count": null,
   "metadata": {},
   "outputs": [],
   "source": [
    "summary[\"FOPT\"].arrowtable"
   ]
  },
  {
   "cell_type": "markdown",
   "metadata": {},
   "source": [
    "### Inplace volumes"
   ]
  },
  {
   "cell_type": "code",
   "execution_count": null,
   "metadata": {
    "scrolled": true
   },
   "outputs": [],
   "source": [
    "# Get case surfaces\n",
    "inplace = AggregatedTable(case, \"geogrid\", \"vol\", \"iter-0\")\n",
    "\n",
    "inplace[\"STOIIP_OIL\"].dataframe.groupby([\"ZONE\", \"REAL\"])[\"STOIIP_OIL\"].agg(\"sum\")[\"Therys\"].plot(kind=\"hist\")"
   ]
  },
  {
   "cell_type": "markdown",
   "metadata": {},
   "source": [
    "### Summary speedtest"
   ]
  },
  {
   "cell_type": "code",
   "execution_count": null,
   "metadata": {
    "scrolled": true
   },
   "outputs": [],
   "source": [
    "start = time.perf_counter()\n",
    "count = 0\n",
    "for col_name in summary.columns[:20]:\n",
    "    vector = summary[col_name]\n",
    "    count += 1\n",
    "print(f\"{count} cols in total time: {time.perf_counter() - start: .1f} s\")"
   ]
  },
  {
   "cell_type": "markdown",
   "metadata": {},
   "source": [
    "### Inplace speedtest"
   ]
  },
  {
   "cell_type": "code",
   "execution_count": null,
   "metadata": {},
   "outputs": [],
   "source": [
    "start = time.perf_counter()\n",
    "count = 0\n",
    "for col_name in inplace.columns[:20]:\n",
    "    col = inplace[col_name]\n",
    "    print(col)\n",
    "    count += 1\n",
    "print(f\"{count} cols in total time: {time.perf_counter() - start: .1f} s\")"
   ]
  }
 ],
 "metadata": {
  "kernelspec": {
   "display_name": "my_env",
   "language": "python",
   "name": "python3"
  },
  "language_info": {
   "codemirror_mode": {
    "name": "ipython",
    "version": 3
   },
   "file_extension": ".py",
   "mimetype": "text/x-python",
   "name": "python",
   "nbconvert_exporter": "python",
   "pygments_lexer": "ipython3",
   "version": "3.8.10"
  }
 },
 "nbformat": 4,
 "nbformat_minor": 2
}
