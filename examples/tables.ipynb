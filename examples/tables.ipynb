{
 "cells": [
  {
   "cell_type": "code",
   "execution_count": null,
   "metadata": {},
   "outputs": [],
   "source": [
    "import time\n",
    "import pandas as pd\n",
    "from fmu.sumo.explorer import Explorer\n",
    "from fmu.sumo.explorer.objects.table import AggregatedTable\n",
    "import seaborn as sns\n",
    "import matplotlib.pyplot as plt\n",
    "%matplotlib inline"
   ]
  },
  {
   "cell_type": "markdown",
   "metadata": {},
   "source": [
    "### Initialize Explorer"
   ]
  },
  {
   "cell_type": "code",
   "execution_count": null,
   "metadata": {},
   "outputs": [],
   "source": [
    "sumo = Explorer(\"dev\")"
   ]
  },
  {
   "cell_type": "markdown",
   "metadata": {},
   "source": [
    "### Get Case"
   ]
  },
  {
   "cell_type": "code",
   "execution_count": null,
   "metadata": {},
   "outputs": [],
   "source": [
    "# Get case by name (name is not guaranteed to be unique)\n",
    "case = sumo.cases.filter(name=\"drogon_ahm-2023-02-22\")[0]\n"
   ]
  },
  {
   "attachments": {},
   "cell_type": "markdown",
   "metadata": {},
   "source": [
    "### Finding info about tables connected to case\n"
   ]
  },
  {
   "cell_type": "code",
   "execution_count": null,
   "metadata": {
    "scrolled": true
   },
   "outputs": [],
   "source": [
    "tables = case.tables\n",
    "print(f\"Table names: {tables.names}\")\n",
    "print(f\"Table tags: {tables.tagnames}\")"
   ]
  },
  {
   "attachments": {},
   "cell_type": "markdown",
   "metadata": {},
   "source": [
    "### Working with aggregated tables\n",
    "There are two ways of getting to aggregated tables\n",
    "1. The filtering way\n",
    "2. Through the AggregatedTable class (Which is using filtering under the hood)\n"
   ]
  },
  {
   "attachments": {},
   "cell_type": "markdown",
   "metadata": {},
   "source": [
    "##### The filtering way"
   ]
  },
  {
   "attachments": {},
   "cell_type": "markdown",
   "metadata": {},
   "source": [
    "##### Getting one aggregated table"
   ]
  },
  {
   "cell_type": "code",
   "execution_count": null,
   "metadata": {},
   "outputs": [],
   "source": [
    "table = tables.filter(name=\"summary\", tagname=\"eclipse\", iteration=\"iter-0\", aggregation=\"collection\", column=\"FOPT\")[0]\n",
    "table.dataframe.head()"
   ]
  },
  {
   "attachments": {},
   "cell_type": "markdown",
   "metadata": {},
   "source": [
    "### Access to the global variables"
   ]
  },
  {
   "cell_type": "code",
   "execution_count": null,
   "metadata": {},
   "outputs": [],
   "source": [
    "pd.DataFrame(table[\"fmu\"][\"iteration\"][\"parameters\"][\"GLOBVAR\"])\n",
    "\n"
   ]
  },
  {
   "attachments": {},
   "cell_type": "markdown",
   "metadata": {},
   "source": [
    "##### Quite a lot of data in the global variables"
   ]
  },
  {
   "cell_type": "code",
   "execution_count": null,
   "metadata": {},
   "outputs": [],
   "source": [
    "params = table[\"fmu\"][\"iteration\"][\"parameters\"]\n",
    "total_len= 0\n",
    "for group_name in params:\n",
    "    length = len(params[group_name])\n",
    "    total_len += length\n",
    "    print(f\"{group_name} : {length}\")\n",
    "    if length != 100:\n",
    "        for var_name in params[group_name]:\n",
    "            sub_length = len(params[group_name][var_name])\n",
    "            print(f\"  {var_name}: {sub_length}\")\n",
    "            total_len += sub_length\n",
    "        \n",
    "print(f\"{total_len} in total\")\n",
    "    "
   ]
  },
  {
   "attachments": {},
   "cell_type": "markdown",
   "metadata": {},
   "source": [
    "### Access to global variables\n",
    "\n",
    "Calculate CV (coefficient of variation) for all global variables to see which ones are varied the most"
   ]
  },
  {
   "cell_type": "code",
   "execution_count": null,
   "metadata": {},
   "outputs": [],
   "source": [
    "\n",
    "globals = table[\"fmu\"][\"iteration\"][\"parameters\"][\"GLOBVAR\"]\n",
    "table.dataframe[\"REAL\"] = table.dataframe[\"REAL\"].astype(str)\n",
    "for var_name in globals:\n",
    "    series = pd.Series(globals[var_name].values())\n",
    "\n",
    "    if series.mean() > 0.001:\n",
    "        cv = series.std() / series.mean()\n",
    "    else:\n",
    "        cv = 0\n",
    "    if cv > 0.01:\n",
    "        print(f\"{var_name}: {cv}\")\n",
    "\n",
    "    "
   ]
  },
  {
   "attachments": {},
   "cell_type": "markdown",
   "metadata": {},
   "source": [
    "### Add column with global var"
   ]
  },
  {
   "cell_type": "code",
   "execution_count": null,
   "metadata": {},
   "outputs": [],
   "source": [
    "table.dataframe[\"RELPERM_INT_WO\"] = table.dataframe[\"REAL\"].replace(globals[\"RELPERM_INT_WO\"])"
   ]
  },
  {
   "cell_type": "markdown",
   "metadata": {},
   "source": [
    "### Plot"
   ]
  },
  {
   "cell_type": "code",
   "execution_count": null,
   "metadata": {},
   "outputs": [],
   "source": [
    "sns.lineplot(data=table.dataframe, x=\"DATE\", y=\"FOPT\", size=\"REAL\", hue=\"RELPERM_INT_WO\", legend=False)\n",
    "plt.xticks(rotation=45)\n",
    "plt.show()"
   ]
  },
  {
   "attachments": {},
   "cell_type": "markdown",
   "metadata": {},
   "source": [
    "### For even more user friendly access to summary data\n"
   ]
  },
  {
   "cell_type": "code",
   "execution_count": null,
   "metadata": {},
   "outputs": [],
   "source": [
    "# Get case surfaces\n",
    "summary = AggregatedTable(case, \"summary\", \"eclipse\", \"iter-0\")\n",
    "summary.parameters\n",
    "\n"
   ]
  },
  {
   "attachments": {},
   "cell_type": "markdown",
   "metadata": {},
   "source": [
    "##### When you have read it once, it will be faster, kept in memory of instance"
   ]
  },
  {
   "cell_type": "code",
   "execution_count": null,
   "metadata": {},
   "outputs": [],
   "source": [
    "summary.parameters"
   ]
  },
  {
   "attachments": {},
   "cell_type": "markdown",
   "metadata": {},
   "source": [
    "### If you prefer arrow to pandas"
   ]
  },
  {
   "cell_type": "code",
   "execution_count": null,
   "metadata": {},
   "outputs": [],
   "source": [
    "summary[\"FOPT\"].arrowtable.schema"
   ]
  },
  {
   "cell_type": "markdown",
   "metadata": {},
   "source": [
    "### Inplace volumes"
   ]
  },
  {
   "cell_type": "code",
   "execution_count": null,
   "metadata": {
    "scrolled": true
   },
   "outputs": [],
   "source": [
    "# Get case surfaces\n",
    "inplace = AggregatedTable(case, \"geogrid\", \"vol\", \"iter-0\")\n",
    "\n",
    "inplace[\"STOIIP_OIL\"].dataframe.groupby([\"ZONE\", \"REAL\"])[\"STOIIP_OIL\"].agg(\"sum\")[\"Therys\"].plot(kind=\"hist\")"
   ]
  },
  {
   "cell_type": "markdown",
   "metadata": {},
   "source": [
    "### Summary speedtest"
   ]
  },
  {
   "cell_type": "code",
   "execution_count": null,
   "metadata": {
    "scrolled": true
   },
   "outputs": [],
   "source": [
    "start = time.perf_counter()\n",
    "count = 0\n",
    "for col_name in summary.columns[:20]:\n",
    "    vector = summary[col_name]\n",
    "    count += 1\n",
    "print(f\"{count} cols in total time: {time.perf_counter() - start: .1f} s\")"
   ]
  },
  {
   "cell_type": "markdown",
   "metadata": {},
   "source": [
    "### Inplace speedtest"
   ]
  },
  {
   "cell_type": "code",
   "execution_count": null,
   "metadata": {},
   "outputs": [],
   "source": [
    "start = time.perf_counter()\n",
    "count = 0\n",
    "for col_name in inplace.columns[:20]:\n",
    "    col = inplace[col_name]\n",
    "    print(col)\n",
    "    count += 1\n",
    "print(f\"{count} cols in total time: {time.perf_counter() - start: .1f} s\")"
   ]
  }
 ],
 "metadata": {
  "kernelspec": {
   "display_name": "my_env",
   "language": "python",
   "name": "python3"
  },
  "language_info": {
   "codemirror_mode": {
    "name": "ipython",
    "version": 3
   },
   "file_extension": ".py",
   "mimetype": "text/x-python",
   "name": "python",
   "nbconvert_exporter": "python",
   "pygments_lexer": "ipython3",
   "version": "3.8.10"
  }
 },
 "nbformat": 4,
 "nbformat_minor": 2
}
