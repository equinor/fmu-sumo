{
 "cells": [
  {
   "cell_type": "code",
   "execution_count": 1,
   "id": "9c81675e-b583-46bf-9656-0d2c706ec2e6",
   "metadata": {},
   "outputs": [
    {
     "name": "stderr",
     "output_type": "stream",
     "text": [
      "/Users/RAYW/devel/sumo-repos/fmu-sumo/src/fmu/sumo/explorer/objects/cube.py:13: UserWarning: OpenVDS is missing. Some Cube methods will not work.\n",
      "  warnings.warn(\"OpenVDS is missing. Some Cube methods will not work.\")\n"
     ]
    }
   ],
   "source": [
    "import json\n",
    "import time\n",
    "from fmu.sumo.explorer import Explorer"
   ]
  },
  {
   "cell_type": "code",
   "execution_count": 2,
   "id": "dbe14214-15ab-4ba6-949d-f6fa913dbe79",
   "metadata": {},
   "outputs": [],
   "source": [
    "env=\"dev\"\n",
    "caseuuid=\"d872b3ce-0322-4357-b192-32bde70d7dac\"\n",
    "name=\"DROGON\"\n",
    "tagname=\"summary\"\n",
    "iteration=\"iter-0\""
   ]
  },
  {
   "cell_type": "code",
   "execution_count": 3,
   "id": "3d73e62d-d44f-4132-8c82-e180ac19a550",
   "metadata": {},
   "outputs": [
    {
     "name": "stderr",
     "output_type": "stream",
     "text": [
      "/Users/RAYW/py-envs/explorer/lib/python3.9/site-packages/urllib3/__init__.py:35: NotOpenSSLWarning: urllib3 v2 only supports OpenSSL 1.1.1+, currently the 'ssl' module is compiled with 'LibreSSL 2.8.3'. See: https://github.com/urllib3/urllib3/issues/3020\n",
      "  warnings.warn(\n"
     ]
    },
    {
     "data": {
      "text/plain": [
       "133"
      ]
     },
     "execution_count": 3,
     "metadata": {},
     "output_type": "execute_result"
    }
   ],
   "source": [
    "exp = Explorer(env=env)\n",
    "len(exp.cases)"
   ]
  },
  {
   "cell_type": "code",
   "execution_count": 4,
   "id": "9a4fa479-ed06-406f-8cdf-e3392c7453ea",
   "metadata": {},
   "outputs": [
    {
     "data": {
      "text/plain": [
       "[('2021a_r009p4p0_hist_210125', 'a5c9e183-9f7d-40d9-879b-c5de8e80d570'),\n",
       " ('drogon_design_processed_2023-01-11',\n",
       "  '388f3dd9-a219-4131-a6b3-c6a3b671257a'),\n",
       " ('2022a_r011p3p0_history', '6e26c07a-a026-47f8-91d8-d0e977701002'),\n",
       " ('2022a_r011p3p0_histandpred_ff_20220225',\n",
       "  'b0734bbe-a7c2-4165-91bd-6e916a60e5a6'),\n",
       " ('21.x.0.dev_2022-02-03_rc7', '1db588a7-5c67-48a3-a52c-dee83012f72b'),\n",
       " ('ff_ref_21102022_100real', '172d3664-d86c-4a91-be75-03843c368a6a'),\n",
       " ('2022a_b011p2p0_komodo_rc4', 'fb70c124-0558-483f-9665-453f1ea5d6b5'),\n",
       " ('upscaled_grids_realistic_no_unc', '600f99e9-4dd0-4fd1-94eb-d7657d3f72b0'),\n",
       " ('breidablikk_2020', 'a4e59bf3-2f14-4954-ae2c-ab25d95e3e37'),\n",
       " ('drogon_ahm_dataio_test', 'b1848c1f-a0b8-452d-a3d3-5c6618a743ad'),\n",
       " ('2021a_r010p0p0_histandpred_210627', '1f70e13f-1d3c-49e5-8c31-5fe950916aad'),\n",
       " ('drogon_ahm_future-2023-03-09', '9bfe0182-bf10-4459-b745-3ff167e117c5'),\n",
       " ('drogon_ahm_dataio_final', '6c2ff26e-ca29-4c09-8269-897d8d5a8725'),\n",
       " ('23p14p0_histandpred_ff_20230705', 'c8047a47-0652-483e-860f-fd62dbaf16a7'),\n",
       " ('20220216_breidablikk_case_metadata',\n",
       "  '0d7ca5da-a6d3-4fbd-aa3e-4510d21a1506'),\n",
       " ('01_drogon_design_webviz', 'b90a87fb-6766-457b-9d3b-5ecd442c3e89'),\n",
       " ('komodo_testing_2023.11', 'ca8cd668-caf7-4e45-a6ba-6e4b0dcec02d'),\n",
       " ('drogonseismic_final', 'c616019d-d344-4094-b2ee-dd4d6d336217'),\n",
       " ('drogon_2024-01-11_09:39:42', '5d0c90d3-52a0-4b67-9015-dfa7f0198420'),\n",
       " ('drogon_2024-01-11_16:59:40', 'ac1a2df9-961e-4a54-82a6-7da7283a2942'),\n",
       " ('drogon_ahm-2023-02-22', '10f41041-2c17-4374-a735-bb0de62e29dc'),\n",
       " ('drogon_2024-01-11_09:01:14', '83e7aace-b399-4514-9bcc-036e6c38b98c'),\n",
       " ('drogon_2024-01-11_13:37:12', '9b225a06-517b-43f1-befa-fc496d1997de'),\n",
       " ('drogon_2024-01-11_01:12:45', 'b0eff1c7-42eb-4e27-a13a-98dc121dd322'),\n",
       " ('drogon_2024-01-10_19:01:49', '332beccb-d3c5-47f6-8184-d8b88aa96ffb'),\n",
       " ('drogon_2024-01-10_13:58:34', 'f56a405b-b0f9-4cd1-9eb3-323b66f9bf15'),\n",
       " ('drogon_ahm_dataio_test_stretch', '00a31593-ff04-4524-8b64-1359664fbfb5'),\n",
       " ('01_drogon_design', 'bca9a6e3-3789-4cd0-b954-64f619167b92'),\n",
       " ('01_drogon_design', 'b3528aba-053a-41ba-b637-369f3fe8a4bc'),\n",
       " ('01_drogon_design', 'ddb75549-028f-4623-b57c-83f33bd02dab'),\n",
       " ('drogon_2024-01-11_08:27:03', '056c5196-ed0b-4915-834c-11a093f9ba4e'),\n",
       " ('01_drogon_design', '140b5239-9a22-4672-b28f-e2c91f976483'),\n",
       " ('drogon_2024-01-11_02:30:48', 'd762502b-43b6-49cf-8d27-d017c4277fb6'),\n",
       " ('drogon_2024-01-10_21:31:44', 'be0d79aa-1722-4e5b-b798-2a6c402fc8d8'),\n",
       " ('drogon_design_small-2023-01-18', '2c2f47cf-c7ab-4112-87f9-b4797ec51cb6'),\n",
       " ('01_drogon_01__', '3903bdf3-6230-42e6-a9be-b181a4c2be4e'),\n",
       " ('01_drogon_design', 'ee06a08c-7675-44f9-83fd-b072ba750b64'),\n",
       " ('01_drogon_design', '86cca4cb-5886-4c3e-93f9-ffa27dd985ff'),\n",
       " ('snorre_sumo-g2_29-2022-12-08', '8182408a-1175-4a06-99dd-23256b9a918e'),\n",
       " ('01_drogon_design', 'fb45e51a-862f-4ae8-b55b-2683246252f2'),\n",
       " ('01_drogon_design', '392c3c70-dd1a-41b5-ac49-0e369a0ac4eb'),\n",
       " ('drogon_design_preprocessed_2023-01-13',\n",
       "  '8c5f36ff-8015-409f-951b-80dbf4c9f1ac'),\n",
       " ('01_drogon_design', 'e8e5a027-901a-4cee-9f45-de2f7a195cb4'),\n",
       " ('01_drogon_design', '1afd17b0-e562-4235-abe1-cca4bd0a142f'),\n",
       " ('01_drogon_design', '28dcfecd-c64f-4eec-a0cc-17916f8411f5'),\n",
       " ('01_drogon_design', 'c4c085ca-cb18-4eeb-933e-dbdf46137dd5'),\n",
       " ('01_drogon_design', '0cbb9ca7-bbd1-45cb-a2ac-e563deaf4c42'),\n",
       " ('01_drogon_design', 'e0285804-0ca6-45d5-aa8c-ff27467a2885'),\n",
       " ('01_drogon_design', 'f1c7e1e3-2ac2-4f4b-9fb0-28d8b7c1676f'),\n",
       " ('01_drogon_design', 'cfbb4e18-356f-4547-b232-7659d88d6c0f'),\n",
       " ('01_drogon_design', 'd12f2a96-84f1-4a81-abb5-38f9ff4ff4e7'),\n",
       " ('01_drogon_design', '3d11ce03-ab50-4dbd-81cb-ca8d0d2b3524'),\n",
       " ('01_drogon_design', 'bdd2304f-031b-4fad-9d99-20f22bee28df'),\n",
       " ('01_drogon_design', '7083d021-7b84-4a75-9296-4dd22eb2cc6d'),\n",
       " ('01_drogon_design', '363ec120-ee3f-44f0-a513-e6ec6af6b01d'),\n",
       " ('01_drogon_design', '983c6125-8a68-48c7-9905-0eb692ed160c'),\n",
       " ('01_drogon_design', 'b006f0c2-c4ff-45b4-afb6-487d287616f4'),\n",
       " ('01_drogon_design', '8c56619d-1ef4-4b63-8c83-e7c17a770fdb'),\n",
       " ('01_drogon_design', 'fb8d86d4-34ff-496f-9f77-ae66ea3edaab'),\n",
       " ('01_drogon_design', '2ac5ce4b-cc14-45fc-8c69-c1daaaabeeb5'),\n",
       " ('01_drogon_design', '4dfeb157-6e6a-4baa-aa39-90369c119be8'),\n",
       " ('01_drogon_design', '671b876b-158c-4fe9-b948-be9dc737544e'),\n",
       " ('01_drogon_design', 'df6aa337-571c-422c-958f-24d8c6283759'),\n",
       " ('01_drogon_design', 'bd24ea94-ad9d-4293-a1fb-2e4c1c5d4a57'),\n",
       " ('01_drogon_designoo', 'd872b3ce-0322-4357-b192-32bde70d7dac'),\n",
       " ('01_drogon_design', 'e6ff1136-2eee-47ad-b793-dcf33e79d895'),\n",
       " ('01_drogon_design', '39925ad4-8846-457e-bb8f-649568c4c95d'),\n",
       " ('01_drogon_design', 'ded38a0e-0f35-4796-ba7e-286bbd5d3f0d'),\n",
       " ('01_drogon_design', 'b9ecf043-7f40-4a96-93c7-e8d3716a5dbe'),\n",
       " ('01_drogon_design', 'c73c8305-95b3-405b-9aa7-f6dc894c7a59'),\n",
       " ('01_drogon_design', '5eb3d882-b9f0-4dbe-9257-5f05d3daae90'),\n",
       " ('01_drogon_design', '4720286b-74e7-47f2-86ca-7ed3810e2b37'),\n",
       " ('01_drogon_design', 'd83964b1-61ef-472e-b834-f3c0b8692c8f'),\n",
       " ('01_drogon_design', 'c5136909-bd19-45a8-89d5-5cae34695b51'),\n",
       " ('01_drogon_design', 'e572933f-5589-43d1-a366-09718684342d'),\n",
       " ('01_drogon_design', '8a78f1f6-2520-45a3-96fe-413c278c5a54'),\n",
       " ('01_drogon_design', 'ea2915d1-f6db-40ab-94dd-c5a077a82812'),\n",
       " ('01_drogon_design', '2642a6b5-d95a-4536-aa27-fc64e9969c3c'),\n",
       " ('01_drogon_design', '07b14ff0-6720-40a2-b9b6-6b4e05b6e07c'),\n",
       " ('01_drogon_design', '589922ea-1b3c-4130-bc25-2b03c027db35'),\n",
       " ('01_drogon_design', '415d6db5-0167-47bf-a130-afc503458aff'),\n",
       " ('01_drogon_design', 'b423cb5e-9423-41ce-870b-2b948834393c'),\n",
       " ('01_drogon_design', 'b1cd55b2-abf7-4287-b732-c9f08150fce4'),\n",
       " ('01_drogon_design', '1bb53b5a-1170-4b13-970c-eb2048ae1998'),\n",
       " ('01_drogon_design', '6c4aa87d-994b-4d0b-9337-c7399ce7306d'),\n",
       " ('01_drogon_design', 'bb171dd3-b29a-40b2-8a94-476275e7d0c0'),\n",
       " ('01_drogon_design', 'ae7ebb57-74b2-4415-9d0f-09a52f5b61fb'),\n",
       " ('01_drogon_design', '2ba21f6f-81f7-448c-b4b9-c2e9c0a8a2a7'),\n",
       " ('01_drogon_design', '15526e58-77f3-4ed9-b0b0-7ed560ba97ae'),\n",
       " ('01_drogon_design', 'f0314051-6bf4-48c7-bc43-b1ee1103b390'),\n",
       " ('01_drogon_design', 'fe688e5f-7b98-4806-85ff-52f7acfb60ba'),\n",
       " ('01_drogon_design', '61b0c056-7538-4b7b-aabb-1372d8ea3756'),\n",
       " ('01_drogon_design', '38238e59-1e89-476d-b095-a986c633ef38'),\n",
       " ('01_drogon_design', 'dfd0fa10-08c6-41f6-a855-182f6ef1f3de'),\n",
       " ('01_drogon_design', '1d3388a6-1b04-4e99-b1e9-7edebe82943f'),\n",
       " ('01_drogon_design', '073e0793-eacb-45ee-9334-e6e3ae19c0fd'),\n",
       " ('01_drogon_design', 'c03a7910-ef98-4a0f-ab2c-1c45786736a0'),\n",
       " ('01_drogon_design', '064c11c3-7776-4b3a-b59b-961e3078d062'),\n",
       " ('01_drogon_design', '674c37db-8d7e-4729-9dbc-a88f626a86bf'),\n",
       " ('01_drogon_design', '0b22c25f-d6c4-4f75-894c-df710b4ae8e1'),\n",
       " ('01_drogon_design', '0f7fdf9b-9a18-4d4d-9b4e-367e801dd285'),\n",
       " ('01_drogon_design', '0693a955-5913-4895-93da-09d7c6cacc5b'),\n",
       " ('01_drogon_design', '140993c4-2bab-49cb-9f9d-22419f72a13f'),\n",
       " ('01_drogon_design', 'ff50b3f8-eb23-47a7-a2cb-bb7c6ac8ff14'),\n",
       " ('01_drogon_design', 'f2a8f0e2-ef97-48e2-aab0-acd4b26c361a'),\n",
       " ('01_drogon_designn', 'df45f79f-531f-4ead-ad06-2fbf6f7258d3'),\n",
       " ('01_drogon_design', 'a1467d24-0e4f-4914-9c8b-ee3d0cf75a3c'),\n",
       " ('01_drogon_design', 'ad1a7a77-ac03-4f5d-83cf-bdd303105703'),\n",
       " ('01_drogon_design', '22b8d8ce-c40e-4e0f-9fad-0362aa43d5d9'),\n",
       " ('01_drogon_design', '1f96fab3-8176-45aa-a5ba-905ee7dbd157'),\n",
       " ('01_drogon_design', '01e5bc18-8532-4daf-b100-f2d781f81c69'),\n",
       " ('01_drogon_design', 'f5d90b89-b4c0-4fa6-9188-ab2c2a4e0128'),\n",
       " ('23.1.1_20230919', '9c9d9a52-1cf4-44cc-829f-23b8334ae813'),\n",
       " ('01_drogon_design', '57ae60e8-a329-4024-a537-e905cbb8a546'),\n",
       " ('01_drogon_design', '5ba47da2-d1a4-40bd-9e63-0ee3f79ee30d'),\n",
       " ('01_drogon_design', '21a8143c-3497-470b-af5b-9de9a797277a'),\n",
       " ('01_drogon_design', 'c3efc318-a6fe-4da5-933a-a0ec732586bb'),\n",
       " ('01_drogon_design', '5f52017b-82e2-4155-913d-843b869740a7'),\n",
       " ('01_drogon_design', 'fe1b5f27-0914-4e90-af6d-a685f3bd4215'),\n",
       " ('01_drogon_design', 'dc238ca4-0781-4653-b09c-35b12dbc9157'),\n",
       " ('01_drogon_design', 'f5638390-5651-417e-aac6-8701a08bacaa'),\n",
       " ('01_drogon_design', 'a51e9568-675b-4717-bb34-0b1bc631e93f'),\n",
       " ('01_drogon_design', '31aa446e-7cd4-488c-997b-4f72d0656570'),\n",
       " ('01_drogon_design', '5bf7f3db-9fae-4a0e-b193-080f91c9bd92'),\n",
       " ('01_drogon_designPP', '976a197d-c7cb-45d5-9bd0-8f71c1ca7b6d'),\n",
       " ('01_drogon_design', 'ed8de22f-8d3b-4ea1-abd9-6243155386b7'),\n",
       " ('01_drogon_design', '4c3ae421-ce7a-4e45-b85b-610fae3b4350'),\n",
       " ('01_drogon_design', '088067cd-d64e-4b53-b4b8-d8cb6c082715'),\n",
       " ('01_drogon_design', '2b40b5f2-2df7-4042-a75d-a3a5ea34d1eb'),\n",
       " ('01_drogon_design', 'f555ecdc-1670-467c-8d26-fc16cb8f849f'),\n",
       " ('01_drogon_design', '10984247-1ef6-4b6c-a2dc-b8003ba79a75'),\n",
       " ('01_drogon_design', 'b119d844-1511-4406-8bfc-9bfbcab450e5'),\n",
       " ('test-sim2sumo', '586acabd-a704-40b1-ba25-0a9f26243680')]"
      ]
     },
     "execution_count": 4,
     "metadata": {},
     "output_type": "execute_result"
    }
   ],
   "source": [
    "[(case.name, case.uuid) for case in  exp.cases]\n"
   ]
  },
  {
   "cell_type": "code",
   "execution_count": 5,
   "id": "b4c047ae-4b00-48c8-a148-e425aea81928",
   "metadata": {},
   "outputs": [
    {
     "name": "stdout",
     "output_type": "stream",
     "text": [
      "Case name: 01_drogon_designoo\n",
      "Case UUID: d872b3ce-0322-4357-b192-32bde70d7dac\n"
     ]
    }
   ],
   "source": [
    "case = exp.get_case_by_uuid(caseuuid)\n",
    "print(f\"Case name: {case.name}\")\n",
    "print(f\"Case UUID: {case.uuid}\")\n"
   ]
  },
  {
   "cell_type": "code",
   "execution_count": 6,
   "id": "d8854a24-0ea3-4c21-aa2f-405f717cc767",
   "metadata": {},
   "outputs": [
    {
     "name": "stdout",
     "output_type": "stream",
     "text": [
      "Number of realizations: 160\n",
      "Number of columns, first realization: 974\n",
      "Number of columns, all realizations:  974\n",
      "Tagnames: ['summary']\n"
     ]
    }
   ],
   "source": [
    "realizations = case.filter(cls=\"table\", name=name, tagname=tagname, \\\n",
    "                           iteration=iteration, realization=True)\n",
    "print(f\"Number of realizations: {len(realizations)}\")\n",
    "columns=realizations[0].columns\n",
    "print(f\"Number of columns, first realization: {len(columns)}\")\n",
    "print(f\"Number of columns, all realizations:  {len(realizations.columns)}\")\n",
    "print(f\"Tagnames: {realizations.tagnames}\")\n"
   ]
  },
  {
   "cell_type": "code",
   "execution_count": 7,
   "id": "5c2ec56c-5a49-439a-adc3-9020a9cff79c",
   "metadata": {},
   "outputs": [],
   "source": [
    "t0=time.perf_counter()\n",
    "agg=realizations.aggregate(operation=\"collect\", columns=columns[:50])\n",
    "t1=time.perf_counter()\n"
   ]
  },
  {
   "cell_type": "code",
   "execution_count": 8,
   "id": "5fa9517a-74e4-4363-a541-5b0f2fb2cc3a",
   "metadata": {},
   "outputs": [
    {
     "name": "stdout",
     "output_type": "stream",
     "text": [
      "Table aggregation: elapsed 16.9 seconds.\n"
     ]
    }
   ],
   "source": [
    "print(f\"Table aggregation: elapsed {t1-t0:0.3} seconds.\")\n"
   ]
  },
  {
   "cell_type": "code",
   "execution_count": 9,
   "id": "278ded42-048b-4490-a42e-e1aec090e07d",
   "metadata": {},
   "outputs": [
    {
     "name": "stdout",
     "output_type": "stream",
     "text": [
      "Number of realizations, aggregation: 160\n"
     ]
    }
   ],
   "source": [
    "print(f\"Number of realizations, aggregation: {len(agg.metadata['fmu']['aggregation']['realization_ids'])}\")"
   ]
  },
  {
   "cell_type": "code",
   "execution_count": 10,
   "id": "e655fbe5-d6d5-461e-9e01-04cc5d84f452",
   "metadata": {},
   "outputs": [
    {
     "name": "stdout",
     "output_type": "stream",
     "text": [
      "collect\n"
     ]
    }
   ],
   "source": [
    "print(agg.metadata['fmu']['aggregation']['operation'])"
   ]
  },
  {
   "cell_type": "code",
   "execution_count": 11,
   "id": "adcb45d0-03d4-45d1-a4ff-b4d15210b426",
   "metadata": {},
   "outputs": [
    {
     "name": "stdout",
     "output_type": "stream",
     "text": [
      "       REAL       DATE     YEARS         FOPR        FOPRH         FGPR  \\\n",
      "0       154 2018-01-01  0.000000     0.000000     0.000000       0.0000   \n",
      "1       154 2018-01-02  0.002738     0.000000     0.000000       0.0000   \n",
      "2       154 2018-01-05  0.010951     0.000000     0.000000       0.0000   \n",
      "3       154 2018-01-06  0.013689  3996.835205  3999.989502  562834.3125   \n",
      "4       154 2018-01-09  0.021903  3996.602295  3999.989502  562801.5000   \n",
      "...     ...        ...       ...          ...          ...          ...   \n",
      "39275    66 2020-06-14  2.450377  6149.371582  6075.096191  826891.7500   \n",
      "39276    66 2020-06-27  2.485969  6045.924805  6075.096191  813395.1875   \n",
      "39277    66 2020-06-28  2.488706  6027.740234  5966.483887  811075.4375   \n",
      "39278    66 2020-06-30  2.494182  6012.029297  5966.483887  808962.2500   \n",
      "39279    66 2020-07-01  2.496920  6004.011230  5958.983398  807890.6875   \n",
      "\n",
      "             FGPRH         FWPR        FWPRH          FLPR  ...        FOPTS  \\\n",
      "0           0.0000     0.000000     0.000000      0.000000  ...     0.000000   \n",
      "1           0.0000     0.000000     0.000000      0.000000  ...     0.000000   \n",
      "2           0.0000     0.000000     0.000000      0.000000  ...     0.000000   \n",
      "3      563278.5000     4.383893     0.010464   4001.218994  ...     0.000000   \n",
      "4      563278.5000     4.706957     0.010464   4001.309326  ...     0.000000   \n",
      "...            ...          ...          ...           ...  ...          ...   \n",
      "39275  864746.0000  6826.971191  6719.388672  12976.342773  ...  6132.709473   \n",
      "39276  864746.0000  6968.402832  6719.388672  13014.327148  ...  6246.561035   \n",
      "39277  845454.9375  6984.817871  6875.869141  13012.557617  ...  6255.307129   \n",
      "39278  845454.9375  7006.482422  6875.869141  13018.511719  ...  6272.757812   \n",
      "39279  844068.5625  7018.216797  6888.280273  13022.228516  ...  6281.472656   \n",
      "\n",
      "              FWIP        FOIP          FGIP      FWCT     FWCTH        FGOR  \\\n",
      "0      459031552.0  36082888.0  6.338487e+09  0.000000  0.000000    0.000000   \n",
      "1      459031552.0  36082888.0  6.338487e+09  0.000000  0.000000    0.000000   \n",
      "2      459031552.0  36082888.0  6.338487e+09  0.000000  0.000000    0.000000   \n",
      "3      459031552.0  36078888.0  6.337924e+09  0.001096  0.000003  140.820007   \n",
      "4      459031520.0  36066900.0  6.336236e+09  0.001176  0.000003  140.820007   \n",
      "...            ...         ...           ...       ...       ...         ...   \n",
      "39275  469770048.0  28478474.0  5.186422e+09  0.526109  0.525178  134.467682   \n",
      "39276  469887456.0  28399876.0  5.175848e+09  0.535441  0.525178  134.536118   \n",
      "39277  469896480.0  28393848.0  5.175037e+09  0.536775  0.535406  134.557129   \n",
      "39278  469914464.0  28381824.0  5.173420e+09  0.538194  0.535406  134.557281   \n",
      "39279  469923424.0  28375820.0  5.172612e+09  0.538941  0.536167  134.558487   \n",
      "\n",
      "            FGORH        FGLR      FWGR  \n",
      "0        0.000000    0.000000  0.000000  \n",
      "1        0.000000    0.000000  0.000000  \n",
      "2        0.000000    0.000000  0.000000  \n",
      "3      140.819992  140.665710  0.000008  \n",
      "4      140.819992  140.654343  0.000008  \n",
      "...           ...         ...       ...  \n",
      "39275  142.342758   63.723019  0.008256  \n",
      "39276  142.342758   62.499977  0.008567  \n",
      "39277  141.700699   62.330208  0.008612  \n",
      "39278  141.700699   62.139381  0.008661  \n",
      "39279  141.646408   62.039360  0.008687  \n",
      "\n",
      "[39280 rows x 51 columns]\n"
     ]
    }
   ],
   "source": [
    "table = agg.to_pandas()\n",
    "print(table)\n"
   ]
  },
  {
   "cell_type": "code",
   "execution_count": 12,
   "id": "d3f9fe77-2e8e-4ddc-bb52-b3cbcb19b6c2",
   "metadata": {},
   "outputs": [
    {
     "name": "stdout",
     "output_type": "stream",
     "text": [
      "Number of realizations: 8640\n",
      "['Valysar Fm.', 'Therys Fm.', 'VOLANTIS GP. Base', 'VOLANTIS GP. Top', 'Volon Fm.', 'Therys Fm. Top', 'Volon Fm. Top']\n",
      "['relai_mean', 'amplitude_mean', 'amplitude_rms', 'DS_extract_geogrid', 'DS_extract_postprocess', 'KLOGH_Average', 'PHIT_Average', 'FACIES_Fraction_Calcite', 'FACIES_Fraction_Channel', 'FACIES_Fraction_Floodplain', 'FACIES_Fraction_Coal', 'FACIES_Fraction_Crevasse', 'FACIES_Fraction_Lowershoreface', 'FACIES_Fraction_Offshore', 'FACIES_Fraction_Uppershoreface', 'apstrend_aps_Channel_Average', 'apstrend_aps_Coal_Average', 'apstrend_aps_Crevasse_Average', 'apstrend_aps_Floodplain_Average', 'prob_channel_relai_simpli_Average', 'prob_coal_relai_simpli_edit_Average', 'prob_floodplain_relai_simpli_Average', 'relai_simpli_Average']\n",
      "['seismic', 'property', 'depth']\n"
     ]
    }
   ],
   "source": [
    "realizations = case.filter(cls=\"surface\", \\\n",
    "                           iteration=iteration, realization=True)\n",
    "print(f\"Number of realizations: {len(realizations)}\")\n",
    "print(realizations.names)\n",
    "print(realizations.tagnames)\n",
    "print(realizations.contents)\n"
   ]
  },
  {
   "cell_type": "code",
   "execution_count": 13,
   "id": "9c82af0e-930c-434a-90e6-1da71a8a0e36",
   "metadata": {},
   "outputs": [
    {
     "name": "stdout",
     "output_type": "stream",
     "text": [
      "160\n",
      "['apstrend_aps_Channel_Average']\n",
      "['depth']\n"
     ]
    }
   ],
   "source": [
    "surfaces=realizations.filter(name=\"Valysar Fm.\", content=\"depth\", tagname=\"apstrend_aps_Channel_Average\")\n",
    "print(len(surfaces))\n",
    "print(surfaces.tagnames)\n",
    "print(surfaces.contents)"
   ]
  },
  {
   "cell_type": "code",
   "execution_count": 14,
   "id": "0adfae9e-f43a-43aa-b678-eaec7c9f01bf",
   "metadata": {},
   "outputs": [
    {
     "name": "stdout",
     "output_type": "stream",
     "text": [
      "['d872b3ce-0322-4357-b192-32bde70d7dac']\n"
     ]
    }
   ],
   "source": [
    "print(surfaces.cases)"
   ]
  },
  {
   "cell_type": "code",
   "execution_count": 15,
   "id": "e90046c1-2230-489c-a706-8c1a00b3230e",
   "metadata": {},
   "outputs": [],
   "source": [
    "t0=time.perf_counter()\n",
    "agg=surfaces.aggregate(operation=\"mean\")\n",
    "t1=time.perf_counter()"
   ]
  },
  {
   "cell_type": "code",
   "execution_count": 16,
   "id": "c80bb1d3-04d8-473f-8cbd-f457dec6486e",
   "metadata": {},
   "outputs": [
    {
     "name": "stdout",
     "output_type": "stream",
     "text": [
      "Surface aggregation: elapsed 1.18 seconds.\n"
     ]
    }
   ],
   "source": [
    "print(f\"Surface aggregation: elapsed {t1-t0:0.3} seconds.\")\n"
   ]
  },
  {
   "cell_type": "code",
   "execution_count": 17,
   "id": "e8633393-52eb-44a2-8760-c2f8ca1d8aee",
   "metadata": {},
   "outputs": [
    {
     "name": "stdout",
     "output_type": "stream",
     "text": [
      "Number of realizations, aggregation: 160\n",
      "mean\n"
     ]
    }
   ],
   "source": [
    "print(f\"Number of realizations, aggregation: {len(agg.metadata['fmu']['aggregation']['realization_ids'])}\")\n",
    "print(agg.metadata['fmu']['aggregation']['operation'])"
   ]
  },
  {
   "cell_type": "code",
   "execution_count": 18,
   "id": "f0b3799f-dfd8-4611-9b03-b15a77dcf3cd",
   "metadata": {},
   "outputs": [],
   "source": [
    "regsurf=agg.to_regular_surface()\n"
   ]
  },
  {
   "cell_type": "code",
   "execution_count": 19,
   "id": "9036b7a4-52be-4c5b-81a2-7341c4e74ebc",
   "metadata": {},
   "outputs": [
    {
     "name": "stdout",
     "output_type": "stream",
     "text": [
      "===================================================================================================\n",
      "Description of RegularSurface instance\n",
      "===================================================================================================\n",
      "Object ID                                => 5244562112\n",
      "File source                              => <_io.BytesIO object at 0x10c57f4a0>\n",
      "Shape: NCOL, NROW                        => 280  440\n",
      "Active cells vs total                    => 118273  123200\n",
      "Origins XORI, YORI                       => 461500.0  5926500.0\n",
      "Increments XINC YINC                     => 25.0  25.0\n",
      "Rotation (anti-clock from X)             => 30.0\n",
      "YFLIP flag                               => 1\n",
      "Inlines vector                           => [  1   2   3 ... 278 279 280]\n",
      "Xlines vector                            => [  1   2   3 ... 438 439 440]\n",
      "Values                                   => [-- -- -- ... -- -- --]  float64\n",
      "Values: mean, stdev, minimum, maximum    => 0.33679669222280434  0.11813279994206176  0.0005000009550713003  0.9343770146369934\n",
      "Minimum memory usage of array (GB)       => 0.0009179115295410156\n",
      "===================================================================================================\n"
     ]
    }
   ],
   "source": [
    "print(regsurf)\n"
   ]
  },
  {
   "cell_type": "code",
   "execution_count": 20,
   "id": "da7a52d2-2ede-4e45-a794-277349a25985",
   "metadata": {},
   "outputs": [
    {
     "name": "stdout",
     "output_type": "stream",
     "text": [
      "34e9cd30-329f-bbf9-1790-3592bc1dc96b\n"
     ]
    }
   ],
   "source": [
    "print(surfaces[0].uuid)"
   ]
  },
  {
   "cell_type": "code",
   "execution_count": 21,
   "id": "fe49bc86-0a9f-4d98-bbd1-4112e4f10d5f",
   "metadata": {},
   "outputs": [
    {
     "name": "stdout",
     "output_type": "stream",
     "text": [
      "===================================================================================================\n",
      "Description of RegularSurface instance\n",
      "===================================================================================================\n",
      "Object ID                                => 5252422096\n",
      "File source                              => <_io.BytesIO object at 0x10c53c3b0>\n",
      "Shape: NCOL, NROW                        => 280  440\n",
      "Active cells vs total                    => 118148  123200\n",
      "Origins XORI, YORI                       => 461500.0  5926500.0\n",
      "Increments XINC YINC                     => 25.0  25.0\n",
      "Rotation (anti-clock from X)             => 30.0\n",
      "YFLIP flag                               => 1\n",
      "Inlines vector                           => [  1   2   3 ... 278 279 280]\n",
      "Xlines vector                            => [  1   2   3 ... 438 439 440]\n",
      "Values                                   => [-- -- -- ... -- -- --]  float64\n",
      "Values: mean, stdev, minimum, maximum    => 0.33681595783065504  0.11819884149879176  0.0005000007222406566  0.9346188306808472\n",
      "Minimum memory usage of array (GB)       => 0.0009179115295410156\n",
      "===================================================================================================\n"
     ]
    }
   ],
   "source": [
    "print(surfaces[0].to_regular_surface())"
   ]
  },
  {
   "cell_type": "code",
   "execution_count": 22,
   "id": "de42bb49-1a17-4f58-9c10-c1ae9cc3f4f1",
   "metadata": {},
   "outputs": [
    {
     "data": {
      "text/plain": [
       "[{'uuid': '0f5a0cd5-cd78-4b7d-ff50-9a37c528b702',\n",
       "  'name': 'iter-0',\n",
       "  'realizations': 160},\n",
       " {'uuid': '23c63921-b54c-449d-49a3-c08332faf7cc',\n",
       "  'name': 'melkerull',\n",
       "  'realizations': 160},\n",
       " {'uuid': 'bc967465-57a8-a2e5-3ebf-7ec53c0c47b5',\n",
       "  'name': 'freia',\n",
       "  'realizations': 159},\n",
       " {'uuid': 'fe453ba9-b24b-398c-684f-4734d1a6e51e',\n",
       "  'name': 'iter-9999',\n",
       "  'realizations': 157},\n",
       " {'uuid': '2d96b7d6-366a-e4b3-d419-e8f2a4091454',\n",
       "  'name': 'nidar',\n",
       "  'realizations': 157},\n",
       " {'uuid': '7b21e24b-2e12-27d2-2dd2-e0d53762a889',\n",
       "  'name': 'iter-111',\n",
       "  'realizations': 156},\n",
       " {'uuid': 'e14a0d21-039d-c7f4-ab06-6ebaf85cadb9',\n",
       "  'name': 'iter-999901',\n",
       "  'realizations': 156},\n",
       " {'uuid': 'fd3a4770-1e07-6046-fe37-290f78538d93',\n",
       "  'name': 'iter-91',\n",
       "  'realizations': 155},\n",
       " {'uuid': '1d308fa9-b6a0-d120-2bdf-364bf4406867',\n",
       "  'name': 'iter-9',\n",
       "  'realizations': 153}]"
      ]
     },
     "execution_count": 22,
     "metadata": {},
     "output_type": "execute_result"
    }
   ],
   "source": [
    "case.iterations"
   ]
  },
  {
   "cell_type": "code",
   "execution_count": 23,
   "id": "2ebe5604-9d99-4054-965a-1f5f3feb15d8",
   "metadata": {},
   "outputs": [],
   "source": [
    "iteration=exp.get_iteration_by_uuid('23c63921-b54c-449d-49a3-c08332faf7cc')"
   ]
  },
  {
   "cell_type": "code",
   "execution_count": 26,
   "id": "393432e5-7d28-478f-96d3-7a6ef51474ce",
   "metadata": {},
   "outputs": [
    {
     "data": {
      "text/plain": [
       "12480"
      ]
     },
     "execution_count": 26,
     "metadata": {},
     "output_type": "execute_result"
    }
   ],
   "source": [
    "len(iteration)"
   ]
  },
  {
   "cell_type": "code",
   "execution_count": 28,
   "id": "ba33feca-5529-47d2-81fa-c5f3c4648cd9",
   "metadata": {},
   "outputs": [
    {
     "data": {
      "text/plain": [
       "['surface', 'cube', 'table', 'polygons', 'dictionary']"
      ]
     },
     "execution_count": 28,
     "metadata": {},
     "output_type": "execute_result"
    }
   ],
   "source": [
    "iteration._get_field_values(\"class.keyword\")"
   ]
  },
  {
   "cell_type": "code",
   "execution_count": 29,
   "id": "87d75d65-da0f-4896-8f6c-904b47a59191",
   "metadata": {},
   "outputs": [
    {
     "data": {
      "text/plain": [
       "['d872b3ce-0322-4357-b192-32bde70d7dac']"
      ]
     },
     "execution_count": 29,
     "metadata": {},
     "output_type": "execute_result"
    }
   ],
   "source": [
    "iteration.cases"
   ]
  },
  {
   "cell_type": "code",
   "execution_count": 30,
   "id": "18e9ea2a-6eda-48a3-9ec2-0eafe6e3dbbc",
   "metadata": {},
   "outputs": [
    {
     "data": {
      "text/plain": [
       "[0,\n",
       " 1,\n",
       " 2,\n",
       " 3,\n",
       " 4,\n",
       " 5,\n",
       " 6,\n",
       " 7,\n",
       " 8,\n",
       " 9,\n",
       " 10,\n",
       " 11,\n",
       " 12,\n",
       " 13,\n",
       " 14,\n",
       " 15,\n",
       " 16,\n",
       " 17,\n",
       " 18,\n",
       " 19,\n",
       " 20,\n",
       " 21,\n",
       " 22,\n",
       " 23,\n",
       " 24,\n",
       " 25,\n",
       " 26,\n",
       " 27,\n",
       " 28,\n",
       " 29,\n",
       " 30,\n",
       " 31,\n",
       " 32,\n",
       " 33,\n",
       " 34,\n",
       " 35,\n",
       " 36,\n",
       " 37,\n",
       " 38,\n",
       " 39,\n",
       " 40,\n",
       " 41,\n",
       " 42,\n",
       " 43,\n",
       " 44,\n",
       " 45,\n",
       " 46,\n",
       " 47,\n",
       " 48,\n",
       " 49,\n",
       " 50,\n",
       " 51,\n",
       " 52,\n",
       " 53,\n",
       " 54,\n",
       " 55,\n",
       " 56,\n",
       " 57,\n",
       " 58,\n",
       " 59,\n",
       " 60,\n",
       " 61,\n",
       " 62,\n",
       " 63,\n",
       " 64,\n",
       " 65,\n",
       " 66,\n",
       " 67,\n",
       " 68,\n",
       " 69,\n",
       " 70,\n",
       " 71,\n",
       " 72,\n",
       " 73,\n",
       " 74,\n",
       " 75,\n",
       " 76,\n",
       " 77,\n",
       " 78,\n",
       " 79,\n",
       " 80,\n",
       " 81,\n",
       " 82,\n",
       " 83,\n",
       " 84,\n",
       " 85,\n",
       " 86,\n",
       " 87,\n",
       " 88,\n",
       " 89,\n",
       " 90,\n",
       " 91,\n",
       " 92,\n",
       " 93,\n",
       " 94,\n",
       " 95,\n",
       " 96,\n",
       " 97,\n",
       " 98,\n",
       " 99,\n",
       " 100,\n",
       " 101,\n",
       " 102,\n",
       " 103,\n",
       " 104,\n",
       " 105,\n",
       " 106,\n",
       " 107,\n",
       " 108,\n",
       " 109,\n",
       " 110,\n",
       " 111,\n",
       " 112,\n",
       " 113,\n",
       " 114,\n",
       " 115,\n",
       " 116,\n",
       " 117,\n",
       " 118,\n",
       " 119,\n",
       " 120,\n",
       " 121,\n",
       " 122,\n",
       " 123,\n",
       " 124,\n",
       " 125,\n",
       " 126,\n",
       " 127,\n",
       " 128,\n",
       " 129,\n",
       " 130,\n",
       " 131,\n",
       " 132,\n",
       " 133,\n",
       " 134,\n",
       " 135,\n",
       " 136,\n",
       " 137,\n",
       " 138,\n",
       " 139,\n",
       " 140,\n",
       " 141,\n",
       " 142,\n",
       " 143,\n",
       " 144,\n",
       " 145,\n",
       " 146,\n",
       " 147,\n",
       " 148,\n",
       " 149,\n",
       " 150,\n",
       " 151,\n",
       " 152,\n",
       " 153,\n",
       " 154,\n",
       " 155,\n",
       " 156,\n",
       " 157,\n",
       " 158,\n",
       " 159]"
      ]
     },
     "execution_count": 30,
     "metadata": {},
     "output_type": "execute_result"
    }
   ],
   "source": [
    "iteration.realizations"
   ]
  },
  {
   "cell_type": "code",
   "execution_count": 31,
   "id": "39f0dc5c-86ed-43e3-b685-5fb77ec6fc69",
   "metadata": {},
   "outputs": [
    {
     "data": {
      "text/plain": [
       "78"
      ]
     },
     "execution_count": 31,
     "metadata": {},
     "output_type": "execute_result"
    }
   ],
   "source": [
    "len(iteration.filter(realization=13))"
   ]
  },
  {
   "cell_type": "code",
   "execution_count": 32,
   "id": "a10b336c-ecc5-4ca2-aca5-fd225fbe71d4",
   "metadata": {},
   "outputs": [
    {
     "data": {
      "text/plain": [
       "78"
      ]
     },
     "execution_count": 32,
     "metadata": {},
     "output_type": "execute_result"
    }
   ],
   "source": [
    "len(iteration.filter(realization=159))\n"
   ]
  },
  {
   "cell_type": "code",
   "execution_count": 33,
   "id": "19682618-1896-4f28-a3df-e63589390b93",
   "metadata": {},
   "outputs": [
    {
     "data": {
      "text/plain": [
       "0"
      ]
     },
     "execution_count": 33,
     "metadata": {},
     "output_type": "execute_result"
    }
   ],
   "source": [
    "len(iteration.filter(realization=160))\n"
   ]
  },
  {
   "cell_type": "code",
   "execution_count": 34,
   "id": "7e27857f-320c-488f-825c-a9db308a9236",
   "metadata": {},
   "outputs": [
    {
     "data": {
      "text/plain": [
       "[]"
      ]
     },
     "execution_count": 34,
     "metadata": {},
     "output_type": "execute_result"
    }
   ],
   "source": [
    "iteration.aggregations"
   ]
  },
  {
   "cell_type": "code",
   "execution_count": 35,
   "id": "ae58e98c-f470-48d9-a75b-ed88eb41c881",
   "metadata": {},
   "outputs": [
    {
     "data": {
      "text/plain": [
       "0"
      ]
     },
     "execution_count": 35,
     "metadata": {},
     "output_type": "execute_result"
    }
   ],
   "source": [
    "len(iteration.filter(aggregation=True))"
   ]
  },
  {
   "cell_type": "code",
   "execution_count": 36,
   "id": "33e87616-688c-4bab-bc82-1627ab9ca728",
   "metadata": {},
   "outputs": [
    {
     "data": {
      "text/plain": [
       "12480"
      ]
     },
     "execution_count": 36,
     "metadata": {},
     "output_type": "execute_result"
    }
   ],
   "source": [
    "len(iteration.filter(realization=True))"
   ]
  },
  {
   "cell_type": "code",
   "execution_count": 37,
   "id": "9613e3bb-2d34-4c75-8444-f33362aeb2ba",
   "metadata": {},
   "outputs": [
    {
     "data": {
      "text/plain": [
       "<fmu.sumo.explorer.objects._search_context.SearchContext at 0x13958c3a0>"
      ]
     },
     "execution_count": 37,
     "metadata": {},
     "output_type": "execute_result"
    }
   ],
   "source": [
    "exp.cases"
   ]
  },
  {
   "cell_type": "code",
   "execution_count": 38,
   "id": "c3223630-7c2d-493a-b90d-36bc573b3048",
   "metadata": {},
   "outputs": [
    {
     "data": {
      "text/plain": [
       "[<fmu.sumo.explorer.objects.case.Case at 0x13902a0d0>,\n",
       " <fmu.sumo.explorer.objects.case.Case at 0x13902aa90>,\n",
       " <fmu.sumo.explorer.objects.case.Case at 0x13902a1c0>,\n",
       " <fmu.sumo.explorer.objects.case.Case at 0x13902acd0>,\n",
       " <fmu.sumo.explorer.objects.case.Case at 0x13902a040>,\n",
       " <fmu.sumo.explorer.objects.case.Case at 0x13902a100>,\n",
       " <fmu.sumo.explorer.objects.case.Case at 0x139736e20>,\n",
       " <fmu.sumo.explorer.objects.case.Case at 0x13972b7f0>,\n",
       " <fmu.sumo.explorer.objects.case.Case at 0x1390556a0>,\n",
       " <fmu.sumo.explorer.objects.case.Case at 0x139055b80>,\n",
       " <fmu.sumo.explorer.objects.case.Case at 0x139055d30>,\n",
       " <fmu.sumo.explorer.objects.case.Case at 0x139055730>,\n",
       " <fmu.sumo.explorer.objects.case.Case at 0x139055760>,\n",
       " <fmu.sumo.explorer.objects.case.Case at 0x13958be80>,\n",
       " <fmu.sumo.explorer.objects.case.Case at 0x13958bcd0>,\n",
       " <fmu.sumo.explorer.objects.case.Case at 0x13958bd90>,\n",
       " <fmu.sumo.explorer.objects.case.Case at 0x13958bca0>,\n",
       " <fmu.sumo.explorer.objects.case.Case at 0x13958be50>,\n",
       " <fmu.sumo.explorer.objects.case.Case at 0x13958baf0>,\n",
       " <fmu.sumo.explorer.objects.case.Case at 0x13958bb50>,\n",
       " <fmu.sumo.explorer.objects.case.Case at 0x13958bbe0>,\n",
       " <fmu.sumo.explorer.objects.case.Case at 0x1395c8f40>,\n",
       " <fmu.sumo.explorer.objects.case.Case at 0x13958db50>,\n",
       " <fmu.sumo.explorer.objects.case.Case at 0x13958dc70>,\n",
       " <fmu.sumo.explorer.objects.case.Case at 0x13958da90>,\n",
       " <fmu.sumo.explorer.objects.case.Case at 0x13958d160>,\n",
       " <fmu.sumo.explorer.objects.case.Case at 0x13958d880>,\n",
       " <fmu.sumo.explorer.objects.case.Case at 0x13958dd60>,\n",
       " <fmu.sumo.explorer.objects.case.Case at 0x13958d040>,\n",
       " <fmu.sumo.explorer.objects.case.Case at 0x13958d820>,\n",
       " <fmu.sumo.explorer.objects.case.Case at 0x13958daf0>,\n",
       " <fmu.sumo.explorer.objects.case.Case at 0x13958dbb0>,\n",
       " <fmu.sumo.explorer.objects.case.Case at 0x13958db20>,\n",
       " <fmu.sumo.explorer.objects.case.Case at 0x13958de20>,\n",
       " <fmu.sumo.explorer.objects.case.Case at 0x13958da30>,\n",
       " <fmu.sumo.explorer.objects.case.Case at 0x1395850a0>,\n",
       " <fmu.sumo.explorer.objects.case.Case at 0x1395856d0>,\n",
       " <fmu.sumo.explorer.objects.case.Case at 0x139585640>,\n",
       " <fmu.sumo.explorer.objects.case.Case at 0x1395857f0>,\n",
       " <fmu.sumo.explorer.objects.case.Case at 0x139585b80>,\n",
       " <fmu.sumo.explorer.objects.case.Case at 0x139585670>,\n",
       " <fmu.sumo.explorer.objects.case.Case at 0x139585220>,\n",
       " <fmu.sumo.explorer.objects.case.Case at 0x139585160>,\n",
       " <fmu.sumo.explorer.objects.case.Case at 0x139585550>,\n",
       " <fmu.sumo.explorer.objects.case.Case at 0x139585370>,\n",
       " <fmu.sumo.explorer.objects.case.Case at 0x139585520>,\n",
       " <fmu.sumo.explorer.objects.case.Case at 0x1395851f0>,\n",
       " <fmu.sumo.explorer.objects.case.Case at 0x139716250>,\n",
       " <fmu.sumo.explorer.objects.case.Case at 0x13958c0a0>,\n",
       " <fmu.sumo.explorer.objects.case.Case at 0x13958c640>,\n",
       " <fmu.sumo.explorer.objects.case.Case at 0x13958cf70>,\n",
       " <fmu.sumo.explorer.objects.case.Case at 0x1397203d0>,\n",
       " <fmu.sumo.explorer.objects.case.Case at 0x13902a910>,\n",
       " <fmu.sumo.explorer.objects.case.Case at 0x13902a700>,\n",
       " <fmu.sumo.explorer.objects.case.Case at 0x13902a520>,\n",
       " <fmu.sumo.explorer.objects.case.Case at 0x13902aa00>,\n",
       " <fmu.sumo.explorer.objects.case.Case at 0x13902ab80>,\n",
       " <fmu.sumo.explorer.objects.case.Case at 0x13902a610>,\n",
       " <fmu.sumo.explorer.objects.case.Case at 0x13902a340>,\n",
       " <fmu.sumo.explorer.objects.case.Case at 0x13902a880>,\n",
       " <fmu.sumo.explorer.objects.case.Case at 0x13911cd00>,\n",
       " <fmu.sumo.explorer.objects.case.Case at 0x13911cd30>,\n",
       " <fmu.sumo.explorer.objects.case.Case at 0x13911cc40>,\n",
       " <fmu.sumo.explorer.objects.case.Case at 0x13911ccd0>,\n",
       " <fmu.sumo.explorer.objects.case.Case at 0x13911cd90>,\n",
       " <fmu.sumo.explorer.objects.case.Case at 0x13911c190>,\n",
       " <fmu.sumo.explorer.objects.case.Case at 0x13911ca90>,\n",
       " <fmu.sumo.explorer.objects.case.Case at 0x13911cca0>,\n",
       " <fmu.sumo.explorer.objects.case.Case at 0x13958c7c0>,\n",
       " <fmu.sumo.explorer.objects.case.Case at 0x13958c5e0>,\n",
       " <fmu.sumo.explorer.objects.case.Case at 0x13958c580>,\n",
       " <fmu.sumo.explorer.objects.case.Case at 0x13958caf0>,\n",
       " <fmu.sumo.explorer.objects.case.Case at 0x13958c850>,\n",
       " <fmu.sumo.explorer.objects.case.Case at 0x13958c880>,\n",
       " <fmu.sumo.explorer.objects.case.Case at 0x13958c730>,\n",
       " <fmu.sumo.explorer.objects.case.Case at 0x13958cb20>,\n",
       " <fmu.sumo.explorer.objects.case.Case at 0x13958c8b0>,\n",
       " <fmu.sumo.explorer.objects.case.Case at 0x13958c220>,\n",
       " <fmu.sumo.explorer.objects.case.Case at 0x13958cb80>,\n",
       " <fmu.sumo.explorer.objects.case.Case at 0x13958c190>,\n",
       " <fmu.sumo.explorer.objects.case.Case at 0x13958c250>,\n",
       " <fmu.sumo.explorer.objects.case.Case at 0x13900ad00>,\n",
       " <fmu.sumo.explorer.objects.case.Case at 0x13900ac40>,\n",
       " <fmu.sumo.explorer.objects.case.Case at 0x13900ad90>,\n",
       " <fmu.sumo.explorer.objects.case.Case at 0x13900abe0>,\n",
       " <fmu.sumo.explorer.objects.case.Case at 0x13900a6a0>,\n",
       " <fmu.sumo.explorer.objects.case.Case at 0x13900ab20>,\n",
       " <fmu.sumo.explorer.objects.case.Case at 0x13900aee0>,\n",
       " <fmu.sumo.explorer.objects.case.Case at 0x1396e81f0>,\n",
       " <fmu.sumo.explorer.objects.case.Case at 0x139134e80>,\n",
       " <fmu.sumo.explorer.objects.case.Case at 0x139134370>,\n",
       " <fmu.sumo.explorer.objects.case.Case at 0x139134250>,\n",
       " <fmu.sumo.explorer.objects.case.Case at 0x139134b50>,\n",
       " <fmu.sumo.explorer.objects.case.Case at 0x139134e20>,\n",
       " <fmu.sumo.explorer.objects.case.Case at 0x139758e80>,\n",
       " <fmu.sumo.explorer.objects.case.Case at 0x13976fd60>,\n",
       " <fmu.sumo.explorer.objects.case.Case at 0x13976f070>,\n",
       " <fmu.sumo.explorer.objects.case.Case at 0x139052f10>,\n",
       " <fmu.sumo.explorer.objects.case.Case at 0x139052fd0>,\n",
       " <fmu.sumo.explorer.objects.case.Case at 0x139052f40>,\n",
       " <fmu.sumo.explorer.objects.case.Case at 0x139656700>,\n",
       " <fmu.sumo.explorer.objects.case.Case at 0x139775c70>,\n",
       " <fmu.sumo.explorer.objects.case.Case at 0x13976a430>,\n",
       " <fmu.sumo.explorer.objects.case.Case at 0x13977b790>,\n",
       " <fmu.sumo.explorer.objects.case.Case at 0x139616ca0>,\n",
       " <fmu.sumo.explorer.objects.case.Case at 0x139780ca0>,\n",
       " <fmu.sumo.explorer.objects.case.Case at 0x1395d4520>,\n",
       " <fmu.sumo.explorer.objects.case.Case at 0x1397f1eb0>,\n",
       " <fmu.sumo.explorer.objects.case.Case at 0x1397e1040>,\n",
       " <fmu.sumo.explorer.objects.case.Case at 0x13965aee0>,\n",
       " <fmu.sumo.explorer.objects.case.Case at 0x1397ecb50>,\n",
       " <fmu.sumo.explorer.objects.case.Case at 0x1397ec250>,\n",
       " <fmu.sumo.explorer.objects.case.Case at 0x1397f7640>,\n",
       " <fmu.sumo.explorer.objects.case.Case at 0x1397f7a60>,\n",
       " <fmu.sumo.explorer.objects.case.Case at 0x1397fc4f0>,\n",
       " <fmu.sumo.explorer.objects.case.Case at 0x139808640>,\n",
       " <fmu.sumo.explorer.objects.case.Case at 0x1395f05e0>,\n",
       " <fmu.sumo.explorer.objects.case.Case at 0x13980d3d0>,\n",
       " <fmu.sumo.explorer.objects.case.Case at 0x13980d880>,\n",
       " <fmu.sumo.explorer.objects.case.Case at 0x139650c40>,\n",
       " <fmu.sumo.explorer.objects.case.Case at 0x13974ed90>,\n",
       " <fmu.sumo.explorer.objects.case.Case at 0x13974e730>,\n",
       " <fmu.sumo.explorer.objects.case.Case at 0x1396f4490>,\n",
       " <fmu.sumo.explorer.objects.case.Case at 0x1395959d0>,\n",
       " <fmu.sumo.explorer.objects.case.Case at 0x1395dfb20>,\n",
       " <fmu.sumo.explorer.objects.case.Case at 0x10c581e80>,\n",
       " <fmu.sumo.explorer.objects.case.Case at 0x139787ca0>,\n",
       " <fmu.sumo.explorer.objects.case.Case at 0x139787730>,\n",
       " <fmu.sumo.explorer.objects.case.Case at 0x139754490>,\n",
       " <fmu.sumo.explorer.objects.case.Case at 0x1397db130>,\n",
       " <fmu.sumo.explorer.objects.case.Case at 0x139118820>,\n",
       " <fmu.sumo.explorer.objects.case.Case at 0x139118880>,\n",
       " <fmu.sumo.explorer.objects.case.Case at 0x139118ca0>]"
      ]
     },
     "execution_count": 38,
     "metadata": {},
     "output_type": "execute_result"
    }
   ],
   "source": [
    "list(exp.cases)"
   ]
  },
  {
   "cell_type": "code",
   "execution_count": 41,
   "id": "f83d3ea2-aedd-4615-bd4d-0e5cfcb72e40",
   "metadata": {},
   "outputs": [
    {
     "data": {
      "text/plain": [
       "118"
      ]
     },
     "execution_count": 41,
     "metadata": {},
     "output_type": "execute_result"
    }
   ],
   "source": [
    "from fmu.sumo.explorer import Filters\n",
    "len(exp.cases.filter(has=Filters.seismic4d))"
   ]
  },
  {
   "cell_type": "code",
   "execution_count": 44,
   "id": "c9cc71aa-feb5-49fa-b935-5e41137c9168",
   "metadata": {},
   "outputs": [
    {
     "data": {
      "text/plain": [
       "118"
      ]
     },
     "execution_count": 44,
     "metadata": {},
     "output_type": "execute_result"
    }
   ],
   "source": [
    "len(exp.filter(has=Filters.seismic4d))"
   ]
  },
  {
   "cell_type": "code",
   "execution_count": 45,
   "id": "1382f090-4044-4d2f-94c7-ebe83ac154fb",
   "metadata": {},
   "outputs": [
    {
     "data": {
      "text/plain": [
       "['01e5bc18-8532-4daf-b100-f2d781f81c69',\n",
       " '056c5196-ed0b-4915-834c-11a093f9ba4e',\n",
       " '064c11c3-7776-4b3a-b59b-961e3078d062',\n",
       " '0693a955-5913-4895-93da-09d7c6cacc5b',\n",
       " '073e0793-eacb-45ee-9334-e6e3ae19c0fd',\n",
       " '07b14ff0-6720-40a2-b9b6-6b4e05b6e07c',\n",
       " '088067cd-d64e-4b53-b4b8-d8cb6c082715',\n",
       " '0b22c25f-d6c4-4f75-894c-df710b4ae8e1',\n",
       " '0cbb9ca7-bbd1-45cb-a2ac-e563deaf4c42',\n",
       " '0f7fdf9b-9a18-4d4d-9b4e-367e801dd285',\n",
       " '10984247-1ef6-4b6c-a2dc-b8003ba79a75',\n",
       " '10f41041-2c17-4374-a735-bb0de62e29dc',\n",
       " '140993c4-2bab-49cb-9f9d-22419f72a13f',\n",
       " '140b5239-9a22-4672-b28f-e2c91f976483',\n",
       " '15526e58-77f3-4ed9-b0b0-7ed560ba97ae',\n",
       " '1afd17b0-e562-4235-abe1-cca4bd0a142f',\n",
       " '1bb53b5a-1170-4b13-970c-eb2048ae1998',\n",
       " '1d3388a6-1b04-4e99-b1e9-7edebe82943f',\n",
       " '1db588a7-5c67-48a3-a52c-dee83012f72b',\n",
       " '1f96fab3-8176-45aa-a5ba-905ee7dbd157',\n",
       " '21a8143c-3497-470b-af5b-9de9a797277a',\n",
       " '22b8d8ce-c40e-4e0f-9fad-0362aa43d5d9',\n",
       " '2642a6b5-d95a-4536-aa27-fc64e9969c3c',\n",
       " '28dcfecd-c64f-4eec-a0cc-17916f8411f5',\n",
       " '2ac5ce4b-cc14-45fc-8c69-c1daaaabeeb5',\n",
       " '2b40b5f2-2df7-4042-a75d-a3a5ea34d1eb',\n",
       " '2ba21f6f-81f7-448c-b4b9-c2e9c0a8a2a7',\n",
       " '2c2f47cf-c7ab-4112-87f9-b4797ec51cb6',\n",
       " '31aa446e-7cd4-488c-997b-4f72d0656570',\n",
       " '332beccb-d3c5-47f6-8184-d8b88aa96ffb',\n",
       " '363ec120-ee3f-44f0-a513-e6ec6af6b01d',\n",
       " '38238e59-1e89-476d-b095-a986c633ef38',\n",
       " '388f3dd9-a219-4131-a6b3-c6a3b671257a',\n",
       " '3903bdf3-6230-42e6-a9be-b181a4c2be4e',\n",
       " '392c3c70-dd1a-41b5-ac49-0e369a0ac4eb',\n",
       " '39925ad4-8846-457e-bb8f-649568c4c95d',\n",
       " '3d11ce03-ab50-4dbd-81cb-ca8d0d2b3524',\n",
       " '415d6db5-0167-47bf-a130-afc503458aff',\n",
       " '4720286b-74e7-47f2-86ca-7ed3810e2b37',\n",
       " '4c3ae421-ce7a-4e45-b85b-610fae3b4350',\n",
       " '4dfeb157-6e6a-4baa-aa39-90369c119be8',\n",
       " '57ae60e8-a329-4024-a537-e905cbb8a546',\n",
       " '589922ea-1b3c-4130-bc25-2b03c027db35',\n",
       " '5ba47da2-d1a4-40bd-9e63-0ee3f79ee30d',\n",
       " '5bf7f3db-9fae-4a0e-b193-080f91c9bd92',\n",
       " '5d0c90d3-52a0-4b67-9015-dfa7f0198420',\n",
       " '5eb3d882-b9f0-4dbe-9257-5f05d3daae90',\n",
       " '5f52017b-82e2-4155-913d-843b869740a7',\n",
       " '61b0c056-7538-4b7b-aabb-1372d8ea3756',\n",
       " '671b876b-158c-4fe9-b948-be9dc737544e',\n",
       " '674c37db-8d7e-4729-9dbc-a88f626a86bf',\n",
       " '6c4aa87d-994b-4d0b-9337-c7399ce7306d',\n",
       " '7083d021-7b84-4a75-9296-4dd22eb2cc6d',\n",
       " '83e7aace-b399-4514-9bcc-036e6c38b98c',\n",
       " '86cca4cb-5886-4c3e-93f9-ffa27dd985ff',\n",
       " '8a78f1f6-2520-45a3-96fe-413c278c5a54',\n",
       " '8c56619d-1ef4-4b63-8c83-e7c17a770fdb',\n",
       " '8c5f36ff-8015-409f-951b-80dbf4c9f1ac',\n",
       " '976a197d-c7cb-45d5-9bd0-8f71c1ca7b6d',\n",
       " '983c6125-8a68-48c7-9905-0eb692ed160c',\n",
       " '9b225a06-517b-43f1-befa-fc496d1997de',\n",
       " '9bfe0182-bf10-4459-b745-3ff167e117c5',\n",
       " 'a1467d24-0e4f-4914-9c8b-ee3d0cf75a3c',\n",
       " 'a51e9568-675b-4717-bb34-0b1bc631e93f',\n",
       " 'ac1a2df9-961e-4a54-82a6-7da7283a2942',\n",
       " 'ad1a7a77-ac03-4f5d-83cf-bdd303105703',\n",
       " 'ae7ebb57-74b2-4415-9d0f-09a52f5b61fb',\n",
       " 'b006f0c2-c4ff-45b4-afb6-487d287616f4',\n",
       " 'b0734bbe-a7c2-4165-91bd-6e916a60e5a6',\n",
       " 'b0eff1c7-42eb-4e27-a13a-98dc121dd322',\n",
       " 'b119d844-1511-4406-8bfc-9bfbcab450e5',\n",
       " 'b1cd55b2-abf7-4287-b732-c9f08150fce4',\n",
       " 'b3528aba-053a-41ba-b637-369f3fe8a4bc',\n",
       " 'b423cb5e-9423-41ce-870b-2b948834393c',\n",
       " 'b90a87fb-6766-457b-9d3b-5ecd442c3e89',\n",
       " 'b9ecf043-7f40-4a96-93c7-e8d3716a5dbe',\n",
       " 'bb171dd3-b29a-40b2-8a94-476275e7d0c0',\n",
       " 'bca9a6e3-3789-4cd0-b954-64f619167b92',\n",
       " 'bd24ea94-ad9d-4293-a1fb-2e4c1c5d4a57',\n",
       " 'bdd2304f-031b-4fad-9d99-20f22bee28df',\n",
       " 'be0d79aa-1722-4e5b-b798-2a6c402fc8d8',\n",
       " 'c03a7910-ef98-4a0f-ab2c-1c45786736a0',\n",
       " 'c3efc318-a6fe-4da5-933a-a0ec732586bb',\n",
       " 'c4c085ca-cb18-4eeb-933e-dbdf46137dd5',\n",
       " 'c5136909-bd19-45a8-89d5-5cae34695b51',\n",
       " 'c616019d-d344-4094-b2ee-dd4d6d336217',\n",
       " 'c73c8305-95b3-405b-9aa7-f6dc894c7a59',\n",
       " 'ca8cd668-caf7-4e45-a6ba-6e4b0dcec02d',\n",
       " 'cfbb4e18-356f-4547-b232-7659d88d6c0f',\n",
       " 'd12f2a96-84f1-4a81-abb5-38f9ff4ff4e7',\n",
       " 'd762502b-43b6-49cf-8d27-d017c4277fb6',\n",
       " 'd83964b1-61ef-472e-b834-f3c0b8692c8f',\n",
       " 'd872b3ce-0322-4357-b192-32bde70d7dac',\n",
       " 'dc238ca4-0781-4653-b09c-35b12dbc9157',\n",
       " 'ddb75549-028f-4623-b57c-83f33bd02dab',\n",
       " 'ded38a0e-0f35-4796-ba7e-286bbd5d3f0d',\n",
       " 'df45f79f-531f-4ead-ad06-2fbf6f7258d3',\n",
       " 'df6aa337-571c-422c-958f-24d8c6283759',\n",
       " 'dfd0fa10-08c6-41f6-a855-182f6ef1f3de',\n",
       " 'e0285804-0ca6-45d5-aa8c-ff27467a2885',\n",
       " 'e572933f-5589-43d1-a366-09718684342d',\n",
       " 'e6ff1136-2eee-47ad-b793-dcf33e79d895',\n",
       " 'e8e5a027-901a-4cee-9f45-de2f7a195cb4',\n",
       " 'ea2915d1-f6db-40ab-94dd-c5a077a82812',\n",
       " 'ed8de22f-8d3b-4ea1-abd9-6243155386b7',\n",
       " 'ee06a08c-7675-44f9-83fd-b072ba750b64',\n",
       " 'f0314051-6bf4-48c7-bc43-b1ee1103b390',\n",
       " 'f1c7e1e3-2ac2-4f4b-9fb0-28d8b7c1676f',\n",
       " 'f2a8f0e2-ef97-48e2-aab0-acd4b26c361a',\n",
       " 'f555ecdc-1670-467c-8d26-fc16cb8f849f',\n",
       " 'f5638390-5651-417e-aac6-8701a08bacaa',\n",
       " 'f56a405b-b0f9-4cd1-9eb3-323b66f9bf15',\n",
       " 'f5d90b89-b4c0-4fa6-9188-ab2c2a4e0128',\n",
       " 'fb45e51a-862f-4ae8-b55b-2683246252f2',\n",
       " 'fb8d86d4-34ff-496f-9f77-ae66ea3edaab',\n",
       " 'fe1b5f27-0914-4e90-af6d-a685f3bd4215',\n",
       " 'fe688e5f-7b98-4806-85ff-52f7acfb60ba',\n",
       " 'ff50b3f8-eb23-47a7-a2cb-bb7c6ac8ff14']"
      ]
     },
     "execution_count": 45,
     "metadata": {},
     "output_type": "execute_result"
    }
   ],
   "source": [
    "exp.filter(has=Filters.seismic4d).cases"
   ]
  },
  {
   "cell_type": "code",
   "execution_count": null,
   "id": "c576c8fc-cb44-48b3-aaed-0914383da3d5",
   "metadata": {},
   "outputs": [],
   "source": []
  }
 ],
 "metadata": {
  "kernelspec": {
   "display_name": "Python 3 (ipykernel)",
   "language": "python",
   "name": "python3"
  },
  "language_info": {
   "codemirror_mode": {
    "name": "ipython",
    "version": 3
   },
   "file_extension": ".py",
   "mimetype": "text/x-python",
   "name": "python",
   "nbconvert_exporter": "python",
   "pygments_lexer": "ipython3",
   "version": "3.9.6"
  }
 },
 "nbformat": 4,
 "nbformat_minor": 5
}
