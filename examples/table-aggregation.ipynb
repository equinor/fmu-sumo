{
 "cells": [
  {
   "cell_type": "code",
   "execution_count": null,
   "id": "3f2d46a1-b5f0-4c75-bc55-4e768b9de112",
   "metadata": {},
   "outputs": [],
   "source": [
    "import time\n",
    "\n",
    "\n",
    "class Timer:\n",
    "    def __init__(self):\n",
    "        return\n",
    "\n",
    "    def __enter__(self):\n",
    "        self._t0 = time.perf_counter()\n",
    "        return\n",
    "\n",
    "    def __exit__(self, type, value, traceback):\n",
    "        t1 = time.perf_counter()\n",
    "        print(f\"Elapsed: {t1-self._t0:0.3f} seconds.\")\n",
    "        return\n",
    "\n",
    "    pass"
   ]
  },
  {
   "cell_type": "code",
   "execution_count": null,
   "id": "fb6c5b9c-314b-47ec-8157-6b75433f58b5",
   "metadata": {},
   "outputs": [],
   "source": [
    "from fmu.sumo.explorer import Explorer\n",
    "\n",
    "exp = Explorer(env=\"preview\")"
   ]
  },
  {
   "cell_type": "code",
   "execution_count": null,
   "id": "501ca50e-272a-4231-8edd-a4dfa4905e68",
   "metadata": {},
   "outputs": [],
   "source": [
    "def total_blob_size(sc):\n",
    "    tbs = sc.metrics.sum(\"file.size_bytes\")\n",
    "    if tbs == 0:\n",
    "        tbs = sc.metrics.sum(\"_sumo.blob_size\")\n",
    "    return tbs\n",
    "\n",
    "\n",
    "def do_aggregate(tagname, rels, columns):\n",
    "    gb = 1024*1024*1024\n",
    "    stats = rels.metrics.stats(\"_sumo.blob_size\")\n",
    "    minsize, maxsize = stats[\"min\"], stats[\"max\"] \n",
    "    print(f\"{tagname}: {len(rels)} objects, {len(rels.columns)} columns.\")\n",
    "    print(f\"Blob size: min={minsize/gb:.3f} GiB, max={maxsize/gb:.3f} GiB\")\n",
    "    tot_size_bytes = total_blob_size(rels)\n",
    "    print(f\"Total size of input: {tot_size_bytes/gb:.3f} GiB\")\n",
    "    with Timer():\n",
    "        agg = rels.filter(column=columns)._aggregate(columns=columns)\n",
    "    print(agg.to_pandas().sort_values(by=[\"REAL\", \"DATE\"]))\n",
    "\n",
    "\n",
    "def run_exp(caseuuid, itername, tagname, columns):\n",
    "    case = exp.get_case_by_uuid(caseuuid)\n",
    "    print(f\"{case.asset}: {case.name}: {caseuuid}\")\n",
    "    rels = case.tables.visible.filter(\n",
    "        iteration=itername, realization=True, tagname=tagname, column=columns\n",
    "    )\n",
    "    do_aggregate(tagname, rels, columns)\n",
    "    rels=case.tables.hidden.filter(iteration=itername, realization=True, tagname=tagname, column=columns)\n",
    "    do_aggregate(tagname, rels, columns)\n",
    "    with Timer():\n",
    "        agg = case.tables.filter(iteration=itername, aggregation=True, tagname=tagname, column=columns)[0]\n",
    "        print(agg.to_pandas().sort_values(by=[\"REAL\", \"DATE\"]))\n"
   ]
  },
  {
   "cell_type": "code",
   "execution_count": null,
   "id": "5f3d4e12-2b23-4585-a935-eb0e48951dd6",
   "metadata": {},
   "outputs": [],
   "source": [
    "run_exp(\"359e7c72-a4ca-43ee-9203-f09cd0f149a9\", \"pred-0\", \"summary\", [\"FOPT\"])"
   ]
  },
  {
   "cell_type": "code",
   "execution_count": null,
   "id": "4ba6a7a8-4c32-4015-8767-41b2f7c777e0",
   "metadata": {},
   "outputs": [],
   "source": [
    "run_exp(\"fc6cc7d3-6162-46a3-9d69-48ad1eaecdfb\", \"iter-0\", \"summary\", [\"FOPT\"])"
   ]
  },
  {
   "cell_type": "code",
   "execution_count": null,
   "id": "d07581ef-8fdb-4621-b81c-8aaf20b0c204",
   "metadata": {},
   "outputs": [],
   "source": [
    "run_exp(\"5b558daf-61c5-400a-9aa2-c602bb471a16\", \"iter-0\", \"summary\", [\"FOPT\"])"
   ]
  },
  {
   "cell_type": "code",
   "execution_count": null,
   "id": "429d688e-34d1-4e19-b433-348d965dd436",
   "metadata": {},
   "outputs": [],
   "source": [
    "run_exp(\"cff0e5bf-bef6-48bb-8b25-8c4703f26d87\", \"iter-0\", \"summary\", [\"FOPT\", \"FOPR\"])"
   ]
  },
  {
   "cell_type": "code",
   "execution_count": null,
   "id": "39fe48f0-dedc-486f-8d28-753fab2b4fd2",
   "metadata": {},
   "outputs": [],
   "source": []
  }
 ],
 "metadata": {
  "kernelspec": {
   "display_name": "Python 3 (ipykernel)",
   "language": "python",
   "name": "python3"
  },
  "language_info": {
   "codemirror_mode": {
    "name": "ipython",
    "version": 3
   },
   "file_extension": ".py",
   "mimetype": "text/x-python",
   "name": "python",
   "nbconvert_exporter": "python",
   "pygments_lexer": "ipython3",
   "version": "3.9.6"
  }
 },
 "nbformat": 4,
 "nbformat_minor": 5
}
