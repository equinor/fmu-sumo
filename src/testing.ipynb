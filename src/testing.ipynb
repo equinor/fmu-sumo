{
 "cells": [
  {
   "cell_type": "markdown",
   "metadata": {},
   "source": [
    "# fmu.sumo.explorer\n",
    "\n",
    "Package for browsing cases and surfaces in Sumo.\n",
    "\n",
    "1. [Explorer](#class-explorer)\n",
    "    1. [get_fields]()\n",
    "    2. [get_users]()\n",
    "    3. [get_status]()\n",
    "    4. [get_cases]()\n",
    "2. [CaseCollection]()\n",
    "3. [Case]()\n",
    "    1. [get_object_types]()\n",
    "    2. [get_iterations]()\n",
    "    3. [get_realizations]()\n",
    "    4. [get_surface_names]()\n",
    "    5. [get_surface_tag_names]()\n",
    "    6. [get_surface_aggregations]()\n",
    "    7. [get_surfaces]()\n",
    "4. [SurfaceCollection]()\n",
    "    1. [aggregate]()\n",
    "5. [Surface]()"
   ]
  },
  {
   "cell_type": "code",
   "execution_count": 2,
   "metadata": {},
   "outputs": [
    {
     "name": "stderr",
     "output_type": "stream",
     "text": [
      "2022-03-15 13:15:01 INFO     Note: NumExpr detected 16 cores but \"NUMEXPR_MAX_THREADS\" not set, so enforcing safe limit of 8.\n",
      "2022-03-15 13:15:01 INFO     NumExpr defaulting to 8 threads.\n"
     ]
    }
   ],
   "source": [
    "from fmu.sumo.explorer import Explorer\n",
    "import xtgeo\n",
    "from io import BytesIO\n",
    "%matplotlib inline"
   ]
  },
  {
   "cell_type": "markdown",
   "metadata": {},
   "source": [
    "## Class: Explorer\n",
    "Search for cases in SUMO\n",
    "\n",
    "Methods:\n",
    "- get_fields()\n",
    "- get_users()\n",
    "- get_status()\n",
    "- get_cases()"
   ]
  },
  {
   "cell_type": "code",
   "execution_count": 3,
   "metadata": {},
   "outputs": [
    {
     "name": "stderr",
     "output_type": "stream",
     "text": [
      "2022-03-15 13:15:17 DEBUG    Initialize Auth\n",
      "2022-03-15 13:15:17 DEBUG    client_id is 1826bd7c-582f-4838-880d-5b4da5c3eea2\n",
      "2022-03-15 13:15:17 DEBUG    client_id is 1826bd7c-582f-4838-880d-5b4da5c3eea2\n",
      "2022-03-15 13:15:17 DEBUG    self.writeback is True\n",
      "2022-03-15 13:15:17 DEBUG    _get_cache\n",
      "2022-03-15 13:15:17 DEBUG    cache is available\n",
      "2022-03-15 13:15:17 DEBUG    cache is available, reading it\n",
      "2022-03-15 13:15:17 DEBUG    Reading from /Users/adnejacobsen/.sumo/88d2b022-3539-4dda-9e66-853801334a86.token\n",
      "2022-03-15 13:15:17 DEBUG    self.app has been initialized\n",
      "2022-03-15 13:15:17 DEBUG    Getting accounts\n",
      "2022-03-15 13:15:17 DEBUG    self.accounts is [{'home_account_id': '7d857070-b26b-423d-8eb0-b5dac0400a17.3aa4a235-b6e2-48d5-9195-7fcf05b459b0', 'environment': 'login.microsoftonline.com', 'username': 'ADNJ@equinor.com', 'authority_type': 'MSSTS', 'local_account_id': '7d857070-b26b-423d-8eb0-b5dac0400a17', 'realm': '3aa4a235-b6e2-48d5-9195-7fcf05b459b0'}]\n",
      "2022-03-15 13:15:17 DEBUG    cache is available\n",
      "2022-03-15 13:15:17 DEBUG    There are accounts. Calling _oauth_get_token_silent()\n",
      "2022-03-15 13:15:17 DEBUG    _oauth_get_token_silent starting\n",
      "2022-03-15 13:15:17 INFO     Getting access token\n",
      "2022-03-15 13:15:18 INFO     Access token found\n",
      "2022-03-15 13:15:18 DEBUG    self.expiring_date set to 2022-03-15 14:33:42.022707\n",
      "2022-03-15 13:15:18 DEBUG    Writing cache\n",
      "2022-03-15 13:15:18 DEBUG    Writing to /Users/adnejacobsen/.sumo/88d2b022-3539-4dda-9e66-853801334a86.token\n",
      "2022-03-15 13:15:18 DEBUG    _oauth_get_token_silent() has finished\n",
      "2022-03-15 13:15:18 DEBUG    Starting get_token\n",
      "2022-03-15 13:15:18 DEBUG    is_token_expired() is starting\n",
      "2022-03-15 13:15:18 DEBUG    is_expired: False\n",
      "2022-03-15 13:15:18 DEBUG    self.is_token_expired is False\n",
      "2022-03-15 13:15:18 DEBUG    Returning access_token. Length of access token is 1564\n"
     ]
    }
   ],
   "source": [
    "sumo = Explorer(env=\"dev\", write_back=True)"
   ]
  },
  {
   "cell_type": "markdown",
   "metadata": {},
   "source": [
    "### Explorer.get_fields()\n",
    "\n",
    "Returns:\n",
    "\n",
    "```\n",
    "Dict\n",
    "{\n",
    "    FIELD_NAME: CASE_COUNT\n",
    "}\n",
    "```"
   ]
  },
  {
   "cell_type": "code",
   "execution_count": 3,
   "metadata": {},
   "outputs": [
    {
     "name": "stderr",
     "output_type": "stream",
     "text": [
      "2022-03-03 12:32:50 DEBUG    is_token_expired() is starting\n",
      "2022-03-03 12:32:50 DEBUG    is_expired: False\n"
     ]
    },
    {
     "name": "stdout",
     "output_type": "stream",
     "text": [
      "{'JOHAN SVERDRUP': 8}\n"
     ]
    }
   ],
   "source": [
    "fields = sumo.get_fields()\n",
    "\n",
    "print(fields)"
   ]
  },
  {
   "cell_type": "markdown",
   "metadata": {},
   "source": [
    "### Explorer.get_users()\n",
    "\n",
    "Returns:\n",
    "\n",
    "```\n",
    "Dict\n",
    "{\n",
    "    USER_NAME: CASE_COUNT\n",
    "}\n",
    "```"
   ]
  },
  {
   "cell_type": "code",
   "execution_count": 4,
   "metadata": {},
   "outputs": [
    {
     "name": "stderr",
     "output_type": "stream",
     "text": [
      "2022-03-03 12:32:51 DEBUG    is_token_expired() is starting\n",
      "2022-03-03 12:32:51 DEBUG    is_expired: False\n"
     ]
    },
    {
     "name": "stdout",
     "output_type": "stream",
     "text": [
      "{'peesv': 6, 'gmcq': 1, 'jsorb': 1}\n"
     ]
    }
   ],
   "source": [
    "users = sumo.get_users()\n",
    "\n",
    "print(users)"
   ]
  },
  {
   "cell_type": "markdown",
   "metadata": {},
   "source": [
    "### Explorer.get_status()\n",
    "\n",
    "Returns:\n",
    "\n",
    "`Dict`\n",
    "\n",
    "```\n",
    "{\n",
    "    STATUS: CASE_COUNT\n",
    "}\n",
    "```"
   ]
  },
  {
   "cell_type": "code",
   "execution_count": 5,
   "metadata": {},
   "outputs": [
    {
     "name": "stderr",
     "output_type": "stream",
     "text": [
      "2022-03-03 12:32:51 DEBUG    is_token_expired() is starting\n",
      "2022-03-03 12:32:51 DEBUG    is_expired: False\n"
     ]
    },
    {
     "name": "stdout",
     "output_type": "stream",
     "text": [
      "{'official': 3, 'scratch': 3, 'keep': 2}\n"
     ]
    }
   ],
   "source": [
    "status = sumo.get_status()\n",
    "\n",
    "print(status)"
   ]
  },
  {
   "cell_type": "markdown",
   "metadata": {},
   "source": [
    "### Explorer.get_cases()\n",
    "\n",
    "Params:\n",
    "- status: string[] \n",
    "- fields: string[]\n",
    "- users: string[]\n",
    "\n",
    "Returns: `CaseCollection`"
   ]
  },
  {
   "cell_type": "code",
   "execution_count": 4,
   "metadata": {},
   "outputs": [
    {
     "name": "stderr",
     "output_type": "stream",
     "text": [
      "2022-03-15 13:15:33 DEBUG    is_token_expired() is starting\n",
      "2022-03-15 13:15:33 DEBUG    is_expired: False\n"
     ]
    },
    {
     "name": "stdout",
     "output_type": "stream",
     "text": [
      "1\n"
     ]
    }
   ],
   "source": [
    "my_cases = sumo.get_cases(\n",
    "    status=[\"keep\", \"official\"],\n",
    "    fields=[\"JOHAN SVERDRUP\"],\n",
    "    users=[\"peesv\"]\n",
    ")\n",
    "\n",
    "print(len(my_cases))"
   ]
  },
  {
   "cell_type": "markdown",
   "metadata": {},
   "source": [
    "## Class: CaseCollection\n",
    "\n",
    "A set of case results. Inherits from collections.Sequence and acts as a list of `Case` objects."
   ]
  },
  {
   "cell_type": "code",
   "execution_count": 5,
   "metadata": {},
   "outputs": [
    {
     "name": "stderr",
     "output_type": "stream",
     "text": [
      "2022-03-15 13:15:37 DEBUG    is_token_expired() is starting\n",
      "2022-03-15 13:15:37 DEBUG    is_expired: False\n",
      "2022-03-15 13:15:37 DEBUG    is_token_expired() is starting\n",
      "2022-03-15 13:15:37 DEBUG    is_expired: False\n"
     ]
    },
    {
     "name": "stdout",
     "output_type": "stream",
     "text": [
      "2022a_b011p2p0_komodo_rc4\n"
     ]
    }
   ],
   "source": [
    "my_case = my_cases[0]\n",
    "print(my_case.case_name)\n",
    "\n",
    "for c in my_cases[1:3]:\n",
    "    print(c.case_name)"
   ]
  },
  {
   "cell_type": "markdown",
   "metadata": {},
   "source": [
    "## Class: Case\n",
    "\n",
    "Represents a case in Sumo and has methods for finding surfaces belonging to the case.\n",
    "\n",
    "Some of the case meta data is accessible as attributes, the rest can be extracted from `Case.meta_data`.\n",
    "\n",
    "Attributes:\n",
    "- meta_data: dict\n",
    "- sumo_id: uuid\n",
    "- fmu_id: uuid\n",
    "- case_name: string\n",
    "- field_name: string\n",
    "- status: string\n",
    "- user: string\n",
    "\n",
    "Methods:\n",
    "- get_object_types()\n",
    "- get_iterations()\n",
    "- get_realizations()\n",
    "- get_surface_names()\n",
    "- get_surface_tag_names()\n",
    "- get_surface_aggregations()\n",
    "- get_surfaces()\n",
    "\n",
    "Raw metadata object can be accessed at `Case.meta_data`"
   ]
  },
  {
   "cell_type": "code",
   "execution_count": 8,
   "metadata": {},
   "outputs": [
    {
     "name": "stdout",
     "output_type": "stream",
     "text": [
      "0005976b-6e0c-68a4-63bc-fa6e5c74e111\n",
      "0ccb40f6-3103-4f67-8cf2-6fdb1cd4ebd6\n",
      "2021a_b010p4p1_tstdata_rep_2021-09-06_n20\n",
      "JOHAN SVERDRUP\n",
      "official\n",
      "peesv\n"
     ]
    }
   ],
   "source": [
    "# Some case info as attributes\n",
    "print(my_case.sumo_id)\n",
    "print(my_case.fmu_id)\n",
    "print(my_case.case_name)\n",
    "print(my_case.field_name)\n",
    "print(my_case.status)\n",
    "print(my_case.user)"
   ]
  },
  {
   "cell_type": "markdown",
   "metadata": {},
   "source": [
    "### Case.get_object_types()\n",
    "\n",
    "Returns:\n",
    "```\n",
    "Dict\n",
    "{\n",
    "    OBJECT_NAME: OBJECT_COUNT\n",
    "}\n",
    "```"
   ]
  },
  {
   "cell_type": "code",
   "execution_count": 9,
   "metadata": {},
   "outputs": [
    {
     "name": "stderr",
     "output_type": "stream",
     "text": [
      "2022-03-03 12:32:52 DEBUG    is_token_expired() is starting\n",
      "2022-03-03 12:32:52 DEBUG    is_expired: False\n"
     ]
    },
    {
     "name": "stdout",
     "output_type": "stream",
     "text": [
      "{'surface': 2203, 'polygons': 133, 'table': 95}\n"
     ]
    }
   ],
   "source": [
    "object_types = my_case.get_object_types()\n",
    "\n",
    "print(object_types)"
   ]
  },
  {
   "cell_type": "markdown",
   "metadata": {},
   "source": [
    "### Case.get_iterations()\n",
    "\n",
    "Returns:\n",
    "```\n",
    "Dict\n",
    "{\n",
    "    ITERATION_ID: OBJECT_COUNT\n",
    "}\n",
    "```"
   ]
  },
  {
   "cell_type": "code",
   "execution_count": 10,
   "metadata": {},
   "outputs": [
    {
     "name": "stderr",
     "output_type": "stream",
     "text": [
      "2022-03-03 12:32:52 DEBUG    is_token_expired() is starting\n",
      "2022-03-03 12:32:52 DEBUG    is_expired: False\n"
     ]
    },
    {
     "name": "stdout",
     "output_type": "stream",
     "text": [
      "{0: 2431}\n"
     ]
    }
   ],
   "source": [
    "iterations = my_case.get_iterations()\n",
    "\n",
    "print(iterations)"
   ]
  },
  {
   "cell_type": "markdown",
   "metadata": {},
   "source": [
    "### Case.get_realizations()\n",
    "\n",
    "Params:\n",
    "- iteration_id: number\n",
    "\n",
    "Returns:\n",
    "```\n",
    "Dict\n",
    "{\n",
    "    REALIZATION_ID: OBJECT_COUNT\n",
    "}\n",
    "```"
   ]
  },
  {
   "cell_type": "code",
   "execution_count": 11,
   "metadata": {},
   "outputs": [
    {
     "name": "stderr",
     "output_type": "stream",
     "text": [
      "2022-03-03 12:32:53 DEBUG    is_token_expired() is starting\n",
      "2022-03-03 12:32:53 DEBUG    is_expired: False\n"
     ]
    },
    {
     "name": "stdout",
     "output_type": "stream",
     "text": [
      "{0: 105, 1: 105, 2: 105, 3: 105, 4: 105, 5: 105, 6: 105, 7: 105, 8: 105, 9: 105, 11: 105, 12: 105, 13: 105, 14: 105, 15: 105, 16: 105, 17: 105, 18: 105, 19: 105}\n"
     ]
    }
   ],
   "source": [
    "realizations = my_case.get_realizations(iteration_id=0)\n",
    "\n",
    "print(realizations)"
   ]
  },
  {
   "cell_type": "markdown",
   "metadata": {},
   "source": [
    "### Case.get_surface_names()\n",
    "\n",
    "Params:\n",
    "- iteration_id: number\n",
    "- realization_id: number\n",
    "- aggregation: string\n",
    "\n",
    "Returns:\n",
    "```\n",
    "Dict\n",
    "{\n",
    "    SURFACE_NAME: COUNT\n",
    "}\n",
    "```"
   ]
  },
  {
   "cell_type": "code",
   "execution_count": 6,
   "metadata": {},
   "outputs": [
    {
     "name": "stderr",
     "output_type": "stream",
     "text": [
      "2022-03-15 13:15:49 DEBUG    is_token_expired() is starting\n",
      "2022-03-15 13:15:49 DEBUG    is_expired: False\n"
     ]
    },
    {
     "name": "stdout",
     "output_type": "stream",
     "text": [
      "{'Eiriksson Fm. 2.2 JS': 12, 'Draupne Fm. 1 JS': 6, 'Draupne Fm. 2 JS': 6, 'Eiriksson Fm. 1 JS': 6, 'Eiriksson Fm. 2.1 JS': 6, 'Halibut Bank Fm. 1 JS': 6, 'Halibut Bank Fm. 2 JS': 6, 'Skagerrak Fm.': 6, 'Turbot Bank Fm. 1 JS': 6, 'VESTLAND GP.': 6, 'Totals': 5, 'Aasgard Fm. Top': 3, 'Intra-Upper Triassic Unconformity': 3, 'VIKING GP. Top': 3, 'Draupne Fm. 1 JS Top': 2, 'Halibut Bank Fm. 2 JS Base': 2, 'SHETLAND GP. Top': 2, 'Turbot Bank Fm. 1 JS Top': 2, 'ZECHSTEIN GP. Top': 2, 'Aasgard Fm.': 1, 'BCU_IUTU': 1, 'Balder Fm. Top': 1, 'Basement Base': 1, 'Blodoeks Fm. Top': 1, 'CROMER KNOLL GP. Top': 1, 'CROMER_KNOLL_GP_Top_Aasgard_Fm_Top': 1, 'Eiriksson Fm. 1 JS Top': 1, 'Eiriksson Fm. 2 JS Top': 1, 'Eiriksson Fm. 2. JS': 1, 'Eiriksson Fm. 2.1 JS Top': 1, 'Eiriksson Fm. 2.2 JS Top': 1, 'HEGRE GP. Top': 1, 'HO Late Oligocene Un. Base': 1, 'HO Late Oligocene Un. Top': 1, 'Halibut Bank Fm. 2 JS Top': 1, 'Halibut_Bank_Fm_Base_Basement_Base': 1, 'Hod Fm. Top': 1, 'Lista Fm. Top': 1, 'NORDLAND GP. Top': 1, 'STATFJORD GP.': 1, 'Sele Fm. Top': 1, 'Skade Fm. Base': 1, 'Skade Fm. Top': 1, 'Svarte Fm. Top': 1, 'Tor Fm. Top': 1, 'Triassic': 1, 'Utsira Fm. Base': 1, 'Utsira Fm. Top': 1, 'VIKING GP.': 1, 'VIKING GP. Base': 1, 'VIKING_GP_Base_Intra_Upper_Triassic_Unconformity': 1, 'Vaale Fm. Top': 1}\n"
     ]
    }
   ],
   "source": [
    "surface_names = my_case.get_surface_names(\n",
    "    iteration_id=0, \n",
    "    realization_id=0,\n",
    "    #aggregation=\"MEAN\"\n",
    ")\n",
    "\n",
    "print(surface_names)"
   ]
  },
  {
   "cell_type": "markdown",
   "metadata": {},
   "source": [
    "### Case.get_surface_tag_names()\n",
    "\n",
    "Params:\n",
    "- surface_name: string\n",
    "- iteration_id: number\n",
    "- realization_id: number\n",
    "- aggregation: string\n",
    "\n",
    "Returns:\n",
    "\n",
    "```\n",
    "Dict\n",
    "{\n",
    "    TAG_NAME: COUNT\n",
    "}\n",
    "```\n"
   ]
  },
  {
   "cell_type": "code",
   "execution_count": 7,
   "metadata": {},
   "outputs": [
    {
     "name": "stderr",
     "output_type": "stream",
     "text": [
      "2022-03-15 13:16:49 DEBUG    is_token_expired() is starting\n",
      "2022-03-15 13:16:49 DEBUG    is_expired: False\n"
     ]
    },
    {
     "name": "stdout",
     "output_type": "stream",
     "text": [
      "{'depth_depth_conversion': 1, 'structural_model': 1, 'velocity_structural_model': 1}\n"
     ]
    }
   ],
   "source": [
    "tag_names = my_case.get_surface_tag_names(\n",
    "    surface_name=\"VIKING GP. Top\", \n",
    "    iteration_id=0, \n",
    "    realization_id=0,\n",
    "    #aggregation=\"MEAN\"\n",
    ")\n",
    "\n",
    "print(tag_names)"
   ]
  },
  {
   "cell_type": "markdown",
   "metadata": {},
   "source": [
    "### Case.get_surfaces()\n",
    "\n",
    "Params:\n",
    "- surface_name: string\n",
    "- tag_name: string\n",
    "- iteration_id: number\n",
    "- realization_id: number\n",
    "- aggregation: string\n",
    "\n",
    "Returns:\n",
    "`Surface[]`"
   ]
  },
  {
   "cell_type": "code",
   "execution_count": 9,
   "metadata": {},
   "outputs": [
    {
     "name": "stderr",
     "output_type": "stream",
     "text": [
      "2022-03-15 13:17:14 DEBUG    is_token_expired() is starting\n",
      "2022-03-15 13:17:14 DEBUG    is_expired: False\n",
      "2022-03-15 13:17:14 DEBUG    is_token_expired() is starting\n",
      "2022-03-15 13:17:14 DEBUG    is_expired: False\n"
     ]
    },
    {
     "name": "stdout",
     "output_type": "stream",
     "text": [
      "VIKING GP. Top\n",
      "structural_model\n"
     ]
    }
   ],
   "source": [
    "# Get a surface object from specific realization\n",
    "surfaces = my_case.get_surfaces(\n",
    "    surface_name=\"VIKING GP. Top\",\n",
    "    tag_name=\"structural_model\",\n",
    "    iteration_id=0,\n",
    "    #realization_id=0\n",
    ")\n",
    "\n",
    "s = surfaces[0]\n",
    "\n",
    "print(s.name)\n",
    "print(s.tag_name)"
   ]
  },
  {
   "cell_type": "code",
   "execution_count": 10,
   "metadata": {},
   "outputs": [
    {
     "name": "stderr",
     "output_type": "stream",
     "text": [
      "2022-03-15 13:17:19 DEBUG    is_token_expired() is starting\n",
      "2022-03-15 13:17:19 DEBUG    is_expired: False\n"
     ]
    },
    {
     "name": "stdout",
     "output_type": "stream",
     "text": [
      "198\n"
     ]
    }
   ],
   "source": [
    "# Get all versions of surface object (1 from each realization) for a specified iteration\n",
    "surfaces = my_case.get_surfaces(\n",
    "    surface_name=\"VIKING GP. Top\",\n",
    "    tag_name=\"structural_model\",\n",
    "    iteration_id=0\n",
    ")\n",
    "\n",
    "print(len(surfaces))"
   ]
  },
  {
   "cell_type": "markdown",
   "metadata": {},
   "source": [
    "## Class: SurfaceCollection\n",
    "\n",
    "A set of surface results. Inherits from collections.Sequence and acts as a list of `Surface` objects.\n",
    "\n",
    "methods:\n",
    "- aggregate()"
   ]
  },
  {
   "cell_type": "code",
   "execution_count": 11,
   "metadata": {},
   "outputs": [
    {
     "name": "stderr",
     "output_type": "stream",
     "text": [
      "2022-03-15 13:17:24 DEBUG    is_token_expired() is starting\n",
      "2022-03-15 13:17:24 DEBUG    is_expired: False\n",
      "2022-03-15 13:17:25 DEBUG    is_token_expired() is starting\n",
      "2022-03-15 13:17:25 DEBUG    is_expired: False\n"
     ]
    },
    {
     "name": "stdout",
     "output_type": "stream",
     "text": [
      "VIKING GP. Top\n",
      "0\n",
      "VIKING GP. Top\n",
      "195\n",
      "VIKING GP. Top\n",
      "113\n"
     ]
    }
   ],
   "source": [
    "my_surface = surfaces[0]\n",
    "print(my_surface.name)\n",
    "print(my_surface.iteration_id)\n",
    "\n",
    "for s in surfaces[1:3]:\n",
    "    print(s.name)\n",
    "    print(s.realization_id)"
   ]
  },
  {
   "cell_type": "markdown",
   "metadata": {},
   "source": [
    "### SurfaceCollection.aggregate()\n",
    "\n",
    "Params:\n",
    "- operations: string || string[]\n",
    "\n",
    "Returns: blob if one operation is provided, dictionary of blobs if multiple operations:\n",
    "```\n",
    "Dict\n",
    "{\n",
    "    OPERATION: BLOB\n",
    "}\n",
    "```"
   ]
  },
  {
   "cell_type": "code",
   "execution_count": 12,
   "metadata": {},
   "outputs": [
    {
     "name": "stderr",
     "output_type": "stream",
     "text": [
      "2022-03-15 13:17:36 DEBUG    is_token_expired() is starting\n",
      "2022-03-15 13:17:36 DEBUG    is_expired: False\n",
      "2022-03-15 13:17:37 DEBUG    is_token_expired() is starting\n",
      "2022-03-15 13:17:37 DEBUG    is_expired: False\n",
      "2022-03-15 13:17:39 DEBUG    is_token_expired() is starting\n",
      "2022-03-15 13:17:39 DEBUG    is_expired: False\n"
     ]
    }
   ],
   "source": [
    "surfaces = my_case.get_surfaces(\n",
    "    surface_name=\"VIKING GP. Top\",\n",
    "    tag_name=\"structural_model\",\n",
    "    iteration_id=0\n",
    ")\n",
    "\n",
    "# One operation\n",
    "mean = surfaces.aggregate(\"MEAN\")\n",
    "\n",
    "# Multiple\n",
    "#aggs = surfaces.aggregate([\"MEAN\", \"MIN\", \"MAX\"])\n",
    "#mean = aggs[\"MEAN\"]"
   ]
  },
  {
   "cell_type": "code",
   "execution_count": 13,
   "metadata": {},
   "outputs": [
    {
     "name": "stderr",
     "output_type": "stream",
     "text": [
      "2022-03-15 13:18:33 INFO     Ran init of xtgeo.common.sys, ID is 5188901200\n",
      "2022-03-15 13:18:33 INFO     Checking file...\n",
      "2022-03-15 13:18:33 INFO     Signature is irap binary\n",
      "2022-03-15 13:18:33 INFO     Enter function xtgeo.surface._regsurf_import\n",
      "2022-03-15 13:18:33 INFO     Start __init__ method for RegularSurface object 5185405648\n",
      "2022-03-15 13:18:33 INFO     xtgeo.plot.xtmap.Map\n",
      "2022-03-15 13:18:33 INFO     Ran __init__ ...\n",
      "2022-03-15 13:18:33 INFO     xtgeo.plot.xtmap.Map\n",
      "2022-03-15 13:18:33 INFO     Infotext is <None>\n",
      "2022-03-15 13:18:33 INFO     Definition of a colormap from string name: rainbow\n",
      "2022-03-15 13:18:33 INFO     Defining colormap\n",
      "2022-03-15 13:18:33 INFO     Valid color maps: ['Accent', 'Blues', 'BrBG', 'BuGn', 'BuPu', 'CMRmap', 'Dark2', 'GnBu', 'Greens', 'Greys', 'OrRd', 'Oranges', 'PRGn', 'Paired', 'Pastel1', 'Pastel2', 'PiYG', 'PuBu', 'PuBuGn', 'PuOr', 'PuRd', 'Purples', 'RdBu', 'RdGy', 'RdPu', 'RdYlBu', 'RdYlGn', 'Reds', 'Set1', 'Set2', 'Set3', 'Spectral', 'Wistia', 'YlGn', 'YlGnBu', 'YlOrBr', 'YlOrRd', 'afmhot', 'autumn', 'binary', 'bone', 'brg', 'bwr', 'cool', 'coolwarm', 'copper', 'cubehelix', 'flag', 'gist_earth', 'gist_gray', 'gist_heat', 'gist_ncar', 'gist_rainbow', 'gist_stern', 'gist_yarg', 'gnuplot', 'gnuplot2', 'gray', 'hot', 'hsv', 'jet', 'nipy_spectral', 'ocean', 'pink', 'prism', 'rainbow', 'seismic', 'spring', 'summer', 'tab10', 'tab20', 'tab20b', 'tab20c', 'terrain', 'winter']\n",
      "2022-03-15 13:18:33 INFO     Colormap: <matplotlib.colors.LinearSegmentedColormap object at 0x10d8fcc50>\n",
      "2022-03-15 13:18:33 INFO     The key contourlevels None is not in use\n",
      "2022-03-15 13:18:33 INFO     Start __init__ method for RegularSurface object 5187298448\n",
      "2022-03-15 13:18:33 INFO     Start __init__ method for RegularSurface object 5186549136\n",
      "2022-03-15 13:18:33 INFO     Do resampling...\n",
      "2022-03-15 13:18:33 INFO     Resampling...\n",
      "2022-03-15 13:18:33 INFO     CMP _ncol: 1842 vs 921\n",
      "2022-03-15 13:18:33 INFO     CMP _nrow: 2714 vs 1357\n",
      "2022-03-15 13:18:33 INFO     CMP _xori: 454895.2278082635 vs 472514.25\n",
      "2022-03-15 13:18:33 INFO     CMP _yori: 6500673.478355476 vs 6541426.5\n",
      "2022-03-15 13:18:33 INFO     CMP _xinc: 21.40658455193383 vs 25.0\n",
      "2022-03-15 13:18:33 INFO     CMP _yinc: 15.021386525810652 vs 25.0\n",
      "2022-03-15 13:18:33 INFO     CMP _rotation: 0.0 vs -140.0\n",
      "2022-03-15 13:18:34 INFO     Legendticks: None\n",
      "2022-03-15 13:18:34 INFO     Current colormap is <matplotlib.colors.LinearSegmentedColormap object at 0x10d8fcc50>, requested is None\n",
      "2022-03-15 13:18:34 INFO     Current colormap name is rainbow\n",
      "2022-03-15 13:18:40 INFO     Colormap: <matplotlib.colors.LinearSegmentedColormap object at 0x10d8fcc50>\n",
      "2022-03-15 13:18:40 INFO     Calling plt show method...\n"
     ]
    },
    {
     "data": {
      "image/png": "[encoded data removed]",
      "text/plain": [
       "<Figure size 841.68x595.44 with 2 Axes>"
      ]
     },
     "metadata": {
      "needs_background": "light"
     },
     "output_type": "display_data"
    }
   ],
   "source": [
    "bytestring = BytesIO(mean)\n",
    "xtgeo_surface = xtgeo.surface_from_file(bytestring)\n",
    "xtgeo_surface.quickplot()"
   ]
  },
  {
   "cell_type": "markdown",
   "metadata": {},
   "source": [
    "## Class: Surface\n",
    "Represents a surface in Sumo. \n",
    "\n",
    "Some of the surface meta data is accessible as attributes, the rest can be extracted from `Surface.meta_data`\n",
    "\n",
    "Attributes:\n",
    "- blob: blob\n",
    "- meta_data: dict\n",
    "- sumo_id:uuid\n",
    "- iteration_id: number\n",
    "- realization_id: number\n",
    "- name: string\n",
    "- relative_path: string\n",
    "- full_path: string\n",
    "- aggregation:"
   ]
  },
  {
   "cell_type": "code",
   "execution_count": null,
   "metadata": {},
   "outputs": [],
   "source": [
    "s = surfaces[0]\n",
    "\n",
    "# Get meta_data and blob\n",
    "meta_data = s.meta_data\n",
    "blob = s.blob\n",
    "\n",
    "# Get data from meta_data attribute\n",
    "file_path = meta_data[\"file\"][\"relative_path\"]\n",
    "\n",
    "# Or use attribute\n",
    "file_path = s.relative_path"
   ]
  },
  {
   "cell_type": "markdown",
   "metadata": {},
   "source": [
    "## Example: process of finding a surface from case\n"
   ]
  },
  {
   "cell_type": "code",
   "execution_count": null,
   "metadata": {},
   "outputs": [],
   "source": [
    "my_case = sumo.get_case_by_id(\"69852e8a-b230-d341-e0de-bf61b1308f2b\")\n",
    "\n",
    "# Get iteration\n",
    "iterations = my_case.get_iterations()\n",
    "\n",
    "i = list(iterations.keys())[0]\n",
    "\n",
    "\n",
    "# Get realization\n",
    "realizations = my_case.get_realizations(\n",
    "    iteration_id=i\n",
    ")\n",
    "\n",
    "r = list(realizations.keys())[0]\n",
    "\n",
    "\n",
    "# Get surface name\n",
    "surface_names = my_case.get_surface_names(\n",
    "    iteration_id=i,\n",
    "    realization_id=r\n",
    ")\n",
    "\n",
    "s = list(surface_names.keys())[0]\n",
    "\n",
    "\n",
    "# Get tag names\n",
    "tag_names = my_case.get_surface_tag_names(\n",
    "    surface_name=s,\n",
    "    iteration_id=i,\n",
    "    realization_id=r\n",
    ")\n",
    "\n",
    "t = list(tag_names.keys())[0]\n",
    "\n",
    "\n",
    "# Get surface\n",
    "surfaces = my_case.get_surfaces(\n",
    "    surface_name=s,\n",
    "    tag_name=t,\n",
    "    iteration_id=i,\n",
    "    realization_id=r\n",
    ")\n",
    "\n",
    "s = surfaces[0]\n",
    "\n",
    "# Visualize with xtgeo\n",
    "bytestring = BytesIO(s.blob)\n",
    "xtgeo_surface = xtgeo.surface_from_file(bytestring)\n",
    "xtgeo_surface.quickplot()\n",
    "\n",
    "# Print info\n",
    "print(f\"Case: {my_case.case_name}\")\n",
    "print(f\"Iteration: {i}\")\n",
    "print(f\"Realization: {r}\")\n",
    "print(f\"Surface name: {s}\")\n",
    "print(f\"Content type: {t}\")"
   ]
  }
 ],
 "metadata": {
  "interpreter": {
   "hash": "886a3bf2c68989186a10fcef5692724f98e2557aca959586571e913a0aec80e7"
  },
  "kernelspec": {
   "display_name": "Python 3.7.12 ('venv': venv)",
   "language": "python",
   "name": "python3"
  },
  "language_info": {
   "codemirror_mode": {
    "name": "ipython",
    "version": 3
   },
   "file_extension": ".py",
   "mimetype": "text/x-python",
   "name": "python",
   "nbconvert_exporter": "python",
   "pygments_lexer": "ipython3",
   "version": "3.7.12"
  },
  "orig_nbformat": 4
 },
 "nbformat": 4,
 "nbformat_minor": 2
}
