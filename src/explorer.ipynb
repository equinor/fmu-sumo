{
 "cells": [
  {
   "cell_type": "markdown",
   "metadata": {},
   "source": [
    "# fmu.sumo.explorer\n",
    "\n",
    "Package for browsing cases and surfaces in Sumo."
   ]
  },
  {
   "cell_type": "code",
   "execution_count": 1,
   "metadata": {},
   "outputs": [],
   "source": [
    "from fmu.sumo.explorer import Explorer\n",
    "import xtgeo\n",
    "from io import BytesIO\n",
    "%matplotlib inline"
   ]
  },
  {
   "cell_type": "markdown",
   "metadata": {},
   "source": [
    "## Class: Explorer\n",
    "Search for cases in SUMO\n",
    "\n",
    "Methods:\n",
    "- get_fields()\n",
    "- get_users()\n",
    "- get_status()\n",
    "- get_cases()"
   ]
  },
  {
   "cell_type": "code",
   "execution_count": 2,
   "metadata": {},
   "outputs": [
    {
     "name": "stderr",
     "output_type": "stream",
     "text": [
      "2022-04-07 12:24:31 DEBUG    Initialize Auth\n",
      "2022-04-07 12:24:31 DEBUG    client_id is 1826bd7c-582f-4838-880d-5b4da5c3eea2\n",
      "2022-04-07 12:24:31 DEBUG    client_id is 1826bd7c-582f-4838-880d-5b4da5c3eea2\n",
      "2022-04-07 12:24:31 DEBUG    self.writeback is True\n",
      "2022-04-07 12:24:31 DEBUG    _get_cache\n",
      "2022-04-07 12:24:31 DEBUG    cache is available\n",
      "2022-04-07 12:24:31 DEBUG    cache is available, reading it\n",
      "2022-04-07 12:24:31 DEBUG    Reading from /Users/adnejacobsen/.sumo/88d2b022-3539-4dda-9e66-853801334a86.token\n",
      "2022-04-07 12:24:32 DEBUG    self.app has been initialized\n",
      "2022-04-07 12:24:32 DEBUG    Getting accounts\n",
      "2022-04-07 12:24:32 DEBUG    self.accounts is [{'home_account_id': '7d857070-b26b-423d-8eb0-b5dac0400a17.3aa4a235-b6e2-48d5-9195-7fcf05b459b0', 'environment': 'login.microsoftonline.com', 'username': 'ADNJ@equinor.com', 'authority_type': 'MSSTS', 'local_account_id': '7d857070-b26b-423d-8eb0-b5dac0400a17', 'realm': '3aa4a235-b6e2-48d5-9195-7fcf05b459b0'}]\n",
      "2022-04-07 12:24:32 DEBUG    cache is available\n",
      "2022-04-07 12:24:32 DEBUG    There are accounts. Calling _oauth_get_token_silent()\n",
      "2022-04-07 12:24:32 DEBUG    _oauth_get_token_silent starting\n",
      "2022-04-07 12:24:32 INFO     Getting access token\n",
      "2022-04-07 12:24:32 INFO     Access token found\n",
      "2022-04-07 12:24:32 DEBUG    self.expiring_date set to 2022-04-07 13:05:51.027621\n",
      "2022-04-07 12:24:32 DEBUG    Writing cache\n",
      "2022-04-07 12:24:32 DEBUG    Writing to /Users/adnejacobsen/.sumo/88d2b022-3539-4dda-9e66-853801334a86.token\n",
      "2022-04-07 12:24:32 DEBUG    _oauth_get_token_silent() has finished\n",
      "2022-04-07 12:24:32 DEBUG    Starting get_token\n",
      "2022-04-07 12:24:32 DEBUG    is_token_expired() is starting\n",
      "2022-04-07 12:24:32 DEBUG    is_expired: False\n",
      "2022-04-07 12:24:32 DEBUG    self.is_token_expired is False\n",
      "2022-04-07 12:24:32 DEBUG    Returning access_token. Length of access token is 1564\n"
     ]
    }
   ],
   "source": [
    "sumo = Explorer(env=\"dev\", write_back=True)"
   ]
  },
  {
   "cell_type": "markdown",
   "metadata": {},
   "source": [
    "### Explorer.get_fields()\n",
    "\n",
    "Returns:\n",
    "\n",
    "```\n",
    "Dict\n",
    "{\n",
    "    FIELD_NAME: CASE_COUNT\n",
    "}\n",
    "```"
   ]
  },
  {
   "cell_type": "code",
   "execution_count": 3,
   "metadata": {},
   "outputs": [
    {
     "name": "stderr",
     "output_type": "stream",
     "text": [
      "2022-04-07 12:24:32 DEBUG    is_token_expired() is starting\n",
      "2022-04-07 12:24:32 DEBUG    is_expired: False\n"
     ]
    },
    {
     "name": "stdout",
     "output_type": "stream",
     "text": [
      "{'DROGON': 9, 'JOHAN SVERDRUP': 74}\n"
     ]
    }
   ],
   "source": [
    "fields = sumo.get_fields()\n",
    "\n",
    "print(fields)"
   ]
  },
  {
   "cell_type": "markdown",
   "metadata": {},
   "source": [
    "### Explorer.get_users()\n",
    "\n",
    "Returns:\n",
    "\n",
    "```\n",
    "Dict\n",
    "{\n",
    "    USER_NAME: CASE_COUNT\n",
    "}\n",
    "```"
   ]
  },
  {
   "cell_type": "code",
   "execution_count": 4,
   "metadata": {},
   "outputs": [
    {
     "name": "stderr",
     "output_type": "stream",
     "text": [
      "2022-04-07 12:24:32 DEBUG    is_token_expired() is starting\n",
      "2022-04-07 12:24:32 DEBUG    is_expired: False\n"
     ]
    },
    {
     "name": "stdout",
     "output_type": "stream",
     "text": [
      "{'2022a_r011p3p0': 2, 'cdf': 3, 'gmcq': 2, 'jsorb': 22, 'maben': 28, 'peesv': 15, 'rpit': 10, 'tomal': 1}\n"
     ]
    }
   ],
   "source": [
    "users = sumo.get_users()\n",
    "\n",
    "print(users)"
   ]
  },
  {
   "cell_type": "markdown",
   "metadata": {},
   "source": [
    "### Explorer.get_status()\n",
    "\n",
    "Returns:\n",
    "\n",
    "`Dict`\n",
    "\n",
    "```\n",
    "{\n",
    "    STATUS: CASE_COUNT\n",
    "}\n",
    "```"
   ]
  },
  {
   "cell_type": "code",
   "execution_count": 5,
   "metadata": {},
   "outputs": [
    {
     "name": "stderr",
     "output_type": "stream",
     "text": [
      "2022-04-07 12:24:32 DEBUG    is_token_expired() is starting\n",
      "2022-04-07 12:24:32 DEBUG    is_expired: False\n"
     ]
    },
    {
     "name": "stdout",
     "output_type": "stream",
     "text": [
      "{'keep': 5, 'official': 3, 'scratch': 75}\n"
     ]
    }
   ],
   "source": [
    "status = sumo.get_status()\n",
    "\n",
    "print(status)"
   ]
  },
  {
   "cell_type": "markdown",
   "metadata": {},
   "source": [
    "### Explorer.get_cases()\n",
    "\n",
    "Params:\n",
    "- status: string[] \n",
    "- fields: string[]\n",
    "- users: string[]\n",
    "\n",
    "Returns: `CaseCollection`"
   ]
  },
  {
   "cell_type": "code",
   "execution_count": 6,
   "metadata": {},
   "outputs": [
    {
     "name": "stderr",
     "output_type": "stream",
     "text": [
      "2022-04-07 12:24:32 DEBUG    is_token_expired() is starting\n",
      "2022-04-07 12:24:32 DEBUG    is_expired: False\n",
      "2022-04-07 12:24:32 DEBUG    is_token_expired() is starting\n",
      "2022-04-07 12:24:32 DEBUG    is_expired: False\n"
     ]
    },
    {
     "name": "stdout",
     "output_type": "stream",
     "text": [
      "5\n",
      "2022a_r011p3p0_histandpred_ff_20220225\n",
      "2022a_b011p2p0_komodo_rc4\n",
      "2022a_r011p3p0_history\n",
      "2021a_r010p0p0_histandpred_210627\n",
      "2021a_r009p4p0_hist_210125\n",
      "Documents length: 5. Index out of range: 5. Fetching next batch!\n"
     ]
    }
   ],
   "source": [
    "my_cases = sumo.get_cases(\n",
    "    status=[\"keep\", \"official\"],\n",
    "    fields=[\"JOHAN SVERDRUP\"],\n",
    "    #users=[\"peesv\", \"jsorb\"]\n",
    ")\n",
    "\n",
    "print(len(my_cases))\n",
    "\n",
    "for case in my_cases:\n",
    "    print(case.case_name)"
   ]
  },
  {
   "cell_type": "markdown",
   "metadata": {},
   "source": [
    "### Explorer.get_case_from_id()\n",
    "\n",
    "Params:\n",
    "- sumo_id: string\n",
    "\n",
    "Returns: `Case`"
   ]
  },
  {
   "cell_type": "code",
   "execution_count": 7,
   "metadata": {},
   "outputs": [
    {
     "name": "stderr",
     "output_type": "stream",
     "text": [
      "2022-04-07 12:24:33 DEBUG    is_token_expired() is starting\n",
      "2022-04-07 12:24:33 DEBUG    is_expired: False\n"
     ]
    },
    {
     "name": "stdout",
     "output_type": "stream",
     "text": [
      "2022a_r011p3p0_histandpred_ff_20220225\n"
     ]
    }
   ],
   "source": [
    "my_case = sumo.get_case_by_id(\"81a57a32-37e7-06bc-924e-6710ba6e59b0\")\n",
    "\n",
    "print(my_case.case_name)"
   ]
  },
  {
   "cell_type": "markdown",
   "metadata": {},
   "source": [
    "## Class: Case\n",
    "\n",
    "Represents a case in Sumo and has methods for finding surfaces belonging to the case.\n",
    "\n",
    "Some of the case meta data is accessible as attributes, the rest can be extracted from `Case.meta_data`.\n",
    "\n",
    "Attributes:\n",
    "- meta_data: dict\n",
    "- sumo_id: uuid\n",
    "- fmu_id: uuid\n",
    "- case_name: string\n",
    "- field_name: string\n",
    "- status: string\n",
    "- user: string\n",
    "\n",
    "Methods:\n",
    "- get_object_types()\n",
    "- get_iterations()\n",
    "- get_realizations()\n",
    "- get_object_names()\n",
    "- get_object_tag_names()\n",
    "- get_object_aggregations()\n",
    "- get_object_timespans()\n",
    "- get_object()\n",
    "\n",
    "Raw metadata object can be accessed at `Case.meta_data`"
   ]
  },
  {
   "cell_type": "code",
   "execution_count": 8,
   "metadata": {},
   "outputs": [
    {
     "name": "stdout",
     "output_type": "stream",
     "text": [
      "81a57a32-37e7-06bc-924e-6710ba6e59b0\n",
      "b0734bbe-a7c2-4165-91bd-6e916a60e5a6\n",
      "2022a_r011p3p0_histandpred_ff_20220225\n",
      "JOHAN SVERDRUP\n",
      "official\n",
      "2022a_r011p3p0\n"
     ]
    }
   ],
   "source": [
    "# Some case info as attributes\n",
    "print(my_case.sumo_id)\n",
    "print(my_case.fmu_id)\n",
    "print(my_case.case_name)\n",
    "print(my_case.field_name)\n",
    "print(my_case.status)\n",
    "print(my_case.user)"
   ]
  },
  {
   "cell_type": "markdown",
   "metadata": {},
   "source": [
    "### Case.get_object_types()\n",
    "\n",
    "Returns:\n",
    "```\n",
    "Dict\n",
    "{\n",
    "    OBJECT_NAME: OBJECT_COUNT\n",
    "}\n",
    "```"
   ]
  },
  {
   "cell_type": "code",
   "execution_count": 9,
   "metadata": {},
   "outputs": [
    {
     "name": "stderr",
     "output_type": "stream",
     "text": [
      "2022-04-07 12:24:33 DEBUG    is_token_expired() is starting\n",
      "2022-04-07 12:24:33 DEBUG    is_expired: False\n"
     ]
    },
    {
     "name": "stdout",
     "output_type": "stream",
     "text": [
      "{'polygons': 1600, 'surface': 191179, 'table': 1003}\n"
     ]
    }
   ],
   "source": [
    "object_types = my_case.get_object_types()\n",
    "\n",
    "print(object_types)"
   ]
  },
  {
   "cell_type": "markdown",
   "metadata": {},
   "source": [
    "### Case.get_iterations()\n",
    "\n",
    "Returns:\n",
    "```\n",
    "Dict\n",
    "{\n",
    "    ITERATION_ID: OBJECT_COUNT\n",
    "}\n",
    "```"
   ]
  },
  {
   "cell_type": "code",
   "execution_count": 10,
   "metadata": {},
   "outputs": [
    {
     "name": "stderr",
     "output_type": "stream",
     "text": [
      "2022-04-07 12:24:33 DEBUG    is_token_expired() is starting\n",
      "2022-04-07 12:24:33 DEBUG    is_expired: False\n"
     ]
    },
    {
     "name": "stdout",
     "output_type": "stream",
     "text": [
      "{0: 193782}\n"
     ]
    }
   ],
   "source": [
    "iterations = my_case.get_iterations()\n",
    "\n",
    "print(iterations)"
   ]
  },
  {
   "cell_type": "markdown",
   "metadata": {},
   "source": [
    "### Case.get_realizations()\n",
    "\n",
    "Params:\n",
    "- iteration_id: number\n",
    "\n",
    "Returns:\n",
    "```\n",
    "Dict\n",
    "{\n",
    "    REALIZATION_ID: OBJECT_COUNT\n",
    "}\n",
    "```"
   ]
  },
  {
   "cell_type": "code",
   "execution_count": 11,
   "metadata": {},
   "outputs": [
    {
     "name": "stderr",
     "output_type": "stream",
     "text": [
      "2022-04-07 12:24:34 DEBUG    is_token_expired() is starting\n",
      "2022-04-07 12:24:34 DEBUG    is_expired: False\n"
     ]
    },
    {
     "name": "stdout",
     "output_type": "stream",
     "text": [
      "{0: 933, 1: 942, 2: 826, 3: 977, 4: 939, 5: 933, 6: 933, 7: 852, 8: 977, 9: 933, 10: 977, 11: 933, 12: 933, 13: 933, 14: 933, 15: 933, 16: 933, 17: 940, 18: 933, 19: 933, 20: 933, 21: 933, 22: 933, 23: 940, 24: 933, 25: 939, 26: 933, 27: 933, 28: 933, 29: 872, 30: 933, 31: 933, 32: 933, 33: 933, 34: 933, 35: 826, 36: 933, 37: 933, 38: 933, 39: 933, 40: 933, 41: 826, 42: 932, 43: 977, 44: 933, 45: 823, 46: 826, 47: 933, 48: 933, 49: 826, 50: 933, 51: 933, 52: 933, 53: 933, 54: 933, 55: 933, 56: 933, 57: 933, 58: 933, 59: 933, 60: 933, 61: 933, 62: 933, 63: 933, 64: 933, 65: 933, 66: 933, 67: 933, 68: 933, 69: 933, 70: 977, 71: 977, 72: 933, 73: 933, 74: 933, 75: 933, 76: 933, 77: 933, 78: 977, 79: 933, 80: 933, 81: 933, 82: 933, 83: 826, 84: 933, 85: 933, 86: 933, 87: 977, 88: 933, 89: 933, 90: 933, 91: 828, 92: 933, 93: 721, 94: 828, 95: 933, 96: 923, 97: 933, 98: 933, 99: 933, 100: 933, 101: 933, 102: 933, 103: 933, 104: 933, 105: 933, 106: 933, 107: 828, 108: 933, 109: 828, 110: 933, 111: 933, 112: 933, 113: 933, 114: 933, 115: 917, 116: 977, 117: 933, 118: 933, 119: 933, 120: 933, 121: 933, 122: 828, 123: 933, 124: 933, 125: 933, 126: 977, 127: 933, 128: 933, 129: 977, 130: 933, 131: 933, 132: 933, 133: 977, 134: 933, 135: 933, 136: 933, 137: 933, 138: 933, 139: 933, 140: 826, 141: 933, 142: 933, 143: 933, 144: 933, 145: 933, 146: 933, 147: 933, 148: 977, 149: 977, 151: 977, 152: 977, 153: 933, 154: 933, 155: 933, 156: 933, 157: 933, 158: 933, 159: 933, 160: 933, 161: 933, 162: 933, 163: 933, 164: 977, 165: 933, 166: 933, 167: 933, 168: 933, 169: 933, 170: 933, 171: 933, 172: 933, 173: 933, 174: 933, 175: 933, 176: 933, 177: 906, 178: 977, 179: 977, 180: 933, 181: 895, 182: 933, 183: 933, 184: 932, 185: 898, 186: 828, 187: 933, 188: 977, 189: 933, 190: 933, 191: 977, 192: 933, 193: 933, 194: 933, 195: 933, 196: 933, 197: 872, 198: 933, 199: 933, 200: 933, 201: 933}\n"
     ]
    }
   ],
   "source": [
    "realizations = my_case.get_realizations(iteration_id=0)\n",
    "\n",
    "print(realizations)"
   ]
  },
  {
   "cell_type": "markdown",
   "metadata": {},
   "source": [
    "### Case.get_object_property_values()\n",
    "\n",
    "Get distinct values for a property for a specific object type. I.e: get distinct object names for surfaces.\n",
    "Can be used to get values that can be used in filtering when retrieving objects.\n",
    "\n",
    "This method is mean to be dynamic and flexible and can replace all the other `get_object_*`-methods:\n",
    "- get_object_tag_name\n",
    "- get_object_names\n",
    "- get_object_aggregations\n",
    "- get_object_time_intervals\n",
    "\n",
    "\n",
    "Params:\n",
    "- property: string\n",
    "- object_type: string\n",
    "- object_name: string\n",
    "- tag_name: string\n",
    "- iteration_id: number\n",
    "- realization_id: number\n",
    "- aggregation: string\n",
    "\n",
    "`property` and `object_type` are required, the rest of the parameters are used for filtering and are optional.\n",
    "\n",
    "Valid `property` values:\n",
    "- tag_name\n",
    "- object_name\n",
    "- time_interval\n",
    "- aggregation\n",
    "- iteration_id\n",
    "- realization_id\n",
    "\n",
    "Valid `object_type` values:\n",
    "- surface\n",
    "- polygons\n",
    "- table\n",
    "\n",
    "Returns \n",
    "```\n",
    "Dict {\n",
    "    [PROPERTY VALUE]: COUNT\n",
    "}\n",
    "```"
   ]
  },
  {
   "cell_type": "markdown",
   "metadata": {},
   "source": [
    "#### Example: filter down to unique surface object\n",
    "\n",
    "This example uses the `get_object_property_values` in several steps to get values that uniquley identifies a surface object."
   ]
  },
  {
   "cell_type": "code",
   "execution_count": 12,
   "metadata": {},
   "outputs": [
    {
     "name": "stderr",
     "output_type": "stream",
     "text": [
      "2022-04-07 12:24:34 DEBUG    is_token_expired() is starting\n",
      "2022-04-07 12:24:34 DEBUG    is_expired: False\n",
      "2022-04-07 12:24:34 DEBUG    is_token_expired() is starting\n",
      "2022-04-07 12:24:34 DEBUG    is_expired: False\n"
     ]
    },
    {
     "name": "stdout",
     "output_type": "stream",
     "text": [
      "{0: 191179}\n"
     ]
    },
    {
     "name": "stderr",
     "output_type": "stream",
     "text": [
      "2022-04-07 12:24:35 DEBUG    is_token_expired() is starting\n",
      "2022-04-07 12:24:35 DEBUG    is_expired: False\n"
     ]
    },
    {
     "name": "stdout",
     "output_type": "stream",
     "text": [
      "{'amplitude_full_max': 4389, 'amplitude_full_mean': 4389, 'amplitude_full_min': 4389, 'amplitude_full_rms': 4389, 'amplitude_near_max': 4389, 'amplitude_near_mean': 4389, 'amplitude_near_min': 4389, 'amplitude_near_rms': 4389, 'average_permx': 199, 'average_poro': 1244, 'average_pressure': 22151, 'average_sgas': 398, 'average_soil': 398, 'average_swat': 20960, 'depth_depth_conversion': 3344, 'facies_thickness': 7942, 'fwl': 124, 'inplace_bulk_oil': 2520, 'inplace_hcpv_oil': 2520, 'inplace_net_oil': 2520, 'inplace_pore_oil': 2520, 'inplace_stoiip_oil': 2520, 'mobile_oilthickness': 4983, 'mobile_oilthickness_rf': 4469, 'oilthickness': 25547, 'oilthickness_rf': 4454, 'overburden': 3344, 'relai_full_max': 4389, 'relai_full_mean': 4389, 'relai_full_min': 4389, 'relai_full_rms': 4389, 'relai_near_max': 4389, 'relai_near_mean': 4389, 'relai_near_min': 4389, 'relai_near_rms': 4389, 'structural_model': 7544, 'velocity_structural_model': 627, 'velocity_structural_model_pre_hmod': 627}\n"
     ]
    },
    {
     "name": "stderr",
     "output_type": "stream",
     "text": [
      "2022-04-07 12:24:35 DEBUG    is_token_expired() is starting\n",
      "2022-04-07 12:24:35 DEBUG    is_expired: False\n",
      "2022-04-07 12:24:36 DEBUG    is_token_expired() is starting\n",
      "2022-04-07 12:24:36 DEBUG    is_expired: False\n"
     ]
    },
    {
     "name": "stdout",
     "output_type": "stream",
     "text": [
      "{'draupne_fm_1': 1463, 'statfjord_gp': 1463, 'total': 1463}\n",
      "{'2019-10-01 - 2020-10-01': 209, '2019-10-01 - 2021-05-15': 209, '2019-10-01 - 2022-05-15': 209, '2020-10-01 - 2021-05-15': 209, '2021-05-15 - 2022-05-15': 209, '2022-05-15 - 2022-09-01': 209, '2022-05-15 - 2023-05-01': 209}\n"
     ]
    },
    {
     "name": "stderr",
     "output_type": "stream",
     "text": [
      "2022-04-07 12:24:36 DEBUG    is_token_expired() is starting\n",
      "2022-04-07 12:24:36 DEBUG    is_expired: False\n",
      "2022-04-07 12:24:36 DEBUG    is_token_expired() is starting\n",
      "2022-04-07 12:24:36 DEBUG    is_expired: False\n"
     ]
    },
    {
     "name": "stdout",
     "output_type": "stream",
     "text": [
      "{'max': 7, 'mean': 7, 'min': 7, 'numreal': 7, 'p10': 7, 'p50': 7, 'p90': 7, 'std': 7}\n",
      "{0: 1, 1: 1, 2: 1, 3: 1, 4: 1, 5: 1, 6: 1, 7: 1, 8: 1, 9: 1, 10: 1, 11: 1, 12: 1, 13: 1, 14: 1, 15: 1, 16: 1, 17: 1, 18: 1, 19: 1, 20: 1, 21: 1, 22: 1, 23: 1, 24: 1, 25: 1, 26: 1, 27: 1, 28: 1, 29: 1, 30: 1, 31: 1, 32: 1, 33: 1, 34: 1, 35: 1, 36: 1, 37: 1, 38: 1, 39: 1, 40: 1, 41: 1, 42: 1, 43: 1, 44: 1, 45: 1, 46: 1, 47: 1, 48: 1, 49: 1, 50: 1, 51: 1, 52: 1, 53: 1, 54: 1, 55: 1, 56: 1, 57: 1, 58: 1, 59: 1, 60: 1, 61: 1, 62: 1, 63: 1, 64: 1, 65: 1, 66: 1, 67: 1, 68: 1, 69: 1, 70: 1, 71: 1, 72: 1, 73: 1, 74: 1, 75: 1, 76: 1, 77: 1, 78: 1, 79: 1, 80: 1, 81: 1, 82: 1, 83: 1, 84: 1, 85: 1, 86: 1, 87: 1, 88: 1, 89: 1, 90: 1, 91: 1, 92: 1, 93: 1, 94: 1, 95: 1, 96: 1, 97: 1, 98: 1, 99: 1, 100: 1, 101: 1, 102: 1, 103: 1, 104: 1, 105: 1, 106: 1, 107: 1, 108: 1, 109: 1, 110: 1, 111: 1, 112: 1, 113: 1, 114: 1, 115: 1, 116: 1, 117: 1, 118: 1, 119: 1, 120: 1, 121: 1, 122: 1, 123: 1, 124: 1, 125: 1, 126: 1, 127: 1, 128: 1, 129: 1, 130: 1, 131: 1, 132: 1, 133: 1, 134: 1, 135: 1, 136: 1, 137: 1, 138: 1, 139: 1, 140: 1, 141: 1, 142: 1, 143: 1, 144: 1, 145: 1, 146: 1, 147: 1, 148: 1, 149: 1, 151: 1, 152: 1, 153: 1, 154: 1, 155: 1, 156: 1, 157: 1, 158: 1, 159: 1, 160: 1, 161: 1, 162: 1, 163: 1, 164: 1, 165: 1, 166: 1, 167: 1, 168: 1, 169: 1, 170: 1, 171: 1, 172: 1, 173: 1, 174: 1, 175: 1, 176: 1, 177: 1, 178: 1, 179: 1, 180: 1, 181: 1, 182: 1, 183: 1, 184: 1, 185: 1, 186: 1, 187: 1, 188: 1, 189: 1, 190: 1, 191: 1, 192: 1, 193: 1, 194: 1, 195: 1, 196: 1, 197: 1, 198: 1, 199: 1, 200: 1, 201: 1}\n"
     ]
    },
    {
     "name": "stderr",
     "output_type": "stream",
     "text": [
      "2022-04-07 12:24:36 DEBUG    is_token_expired() is starting\n",
      "2022-04-07 12:24:36 DEBUG    is_expired: False\n"
     ]
    },
    {
     "name": "stdout",
     "output_type": "stream",
     "text": [
      "1\n",
      "1\n"
     ]
    }
   ],
   "source": [
    "# get iteration_ids\n",
    "iteration_ids = my_case.get_object_property_values(\n",
    "    property=\"iteration_id\",\n",
    "    object_type=\"surface\"\n",
    ")\n",
    "\n",
    "print(iteration_ids)\n",
    "\n",
    "iteration_id = list(iteration_ids.keys())[0]\n",
    "\n",
    "# use the retrieved iteration_id to get tag_names for surfaces within this iteration\n",
    "tag_names = my_case.get_object_property_values(\n",
    "    property=\"tag_name\",\n",
    "    object_type=\"surface\",\n",
    "    iteration_id=iteration_id,\n",
    ")\n",
    "\n",
    "print(tag_names)\n",
    "\n",
    "tag_name = list(tag_names.keys())[5]\n",
    "\n",
    "# use the retrieved tag_name to get object_names for surfaces containing this tag_name\n",
    "object_names = my_case.get_object_property_values(\n",
    "    property=\"object_name\",\n",
    "    object_type=\"surface\",\n",
    "    iteration_id=iteration_id,\n",
    "    tag_name=tag_name\n",
    ")\n",
    "\n",
    "print(object_names)\n",
    "\n",
    "object_name = list(object_names.keys())[2]\n",
    "\n",
    "# use the object_name, tag_name and iteration_id to get available time_intervals\n",
    "time_intervals = my_case.get_object_property_values(\n",
    "    property=\"time_interval\",\n",
    "    object_type=\"surface\",\n",
    "    iteration_id=iteration_id,\n",
    "    tag_name=tag_name,\n",
    "    object_name=object_name\n",
    ")\n",
    "\n",
    "print(time_intervals)\n",
    "\n",
    "time_interval = list(time_intervals.keys())[2]\n",
    "\n",
    "# use the object_name, tag_name and iteration_id to get available aggregations\n",
    "aggregations = my_case.get_object_property_values(\n",
    "    property=\"aggregation\",\n",
    "    object_type=\"surface\",\n",
    "    iteration_id=iteration_id,\n",
    "    tag_name=tag_name,\n",
    "    object_name=object_name\n",
    ")\n",
    "\n",
    "print(aggregations)\n",
    "\n",
    "aggregation = list(aggregations.keys())[3]\n",
    "\n",
    "# get available realization_ids based on iteration_id, object_name, tag_name and time_interval\n",
    "realization_ids = my_case.get_object_property_values(\n",
    "    property=\"realization_id\",\n",
    "    object_type=\"surface\",\n",
    "    iteration_id=iteration_id,\n",
    "    tag_name=tag_name,\n",
    "    object_name=object_name,\n",
    "    time_interval=time_interval\n",
    ")\n",
    "\n",
    "print(realization_ids)\n",
    "\n",
    "realization_id = list(realization_ids.keys())[7]\n",
    "\n",
    "# get surface from realization\n",
    "surfaces = my_case.get_objects(\n",
    "    object_type=\"surface\",\n",
    "    iteration_id=iteration_id,\n",
    "    tag_name=tag_name,\n",
    "    object_name=object_name,\n",
    "    time_interval=time_interval,\n",
    "    realization_id=realization_id\n",
    ")\n",
    "\n",
    "print(len(surfaces))\n",
    "\n",
    "# get aggregated surface\n",
    "surfaces = my_case.get_objects(\n",
    "    object_type=\"surface\",\n",
    "    iteration_id=iteration_id,\n",
    "    tag_name=tag_name,\n",
    "    object_name=object_name,\n",
    "    time_interval=time_interval,\n",
    "    aggregation=aggregation\n",
    ")\n",
    "\n",
    "print(len(surfaces))"
   ]
  },
  {
   "cell_type": "markdown",
   "metadata": {},
   "source": [
    "### Case.get_object_tag_names()\n",
    "\n",
    "Params:\n",
    "- object_type: string\n",
    "- iteration_id: number\n",
    "- realization_id: number\n",
    "- aggregation: string\n",
    "\n",
    "<strong>NOTE:</strong>\n",
    "If no aggregation-parameter is provided, the search will exclude tag names from aggregated objects\n",
    "\n",
    "Returns:\n",
    "\n",
    "```\n",
    "Dict\n",
    "{\n",
    "    TAG_NAME: COUNT\n",
    "}\n",
    "```\n"
   ]
  },
  {
   "cell_type": "code",
   "execution_count": 13,
   "metadata": {},
   "outputs": [
    {
     "name": "stderr",
     "output_type": "stream",
     "text": [
      "2022-04-07 12:24:36 DEBUG    is_token_expired() is starting\n",
      "2022-04-07 12:24:36 DEBUG    is_expired: False\n"
     ]
    },
    {
     "name": "stdout",
     "output_type": "stream",
     "text": [
      "{'amplitude_full_max': 21, 'amplitude_full_mean': 21, 'amplitude_full_min': 21, 'amplitude_full_rms': 21, 'amplitude_near_max': 21, 'amplitude_near_mean': 21, 'amplitude_near_min': 21, 'amplitude_near_rms': 21, 'average_permx': 1, 'average_poro': 6, 'average_pressure': 109, 'average_sgas': 2, 'average_soil': 2, 'average_swat': 102, 'depth_depth_conversion': 16, 'facies_thickness': 38, 'inplace_bulk_oil': 12, 'inplace_hcpv_oil': 12, 'inplace_net_oil': 12, 'inplace_pore_oil': 12, 'inplace_stoiip_oil': 12, 'mobile_oilthickness': 25, 'mobile_oilthickness_rf': 20, 'oilthickness': 125, 'oilthickness_rf': 20, 'overburden': 16, 'relai_full_max': 21, 'relai_full_mean': 21, 'relai_full_min': 21, 'relai_full_rms': 21, 'relai_near_max': 21, 'relai_near_mean': 21, 'relai_near_min': 21, 'relai_near_rms': 21, 'structural_model': 36, 'velocity_structural_model': 3, 'velocity_structural_model_pre_hmod': 3}\n"
     ]
    }
   ],
   "source": [
    "tag_names = my_case.get_object_tag_names(\n",
    "    object_type=\"surface\",\n",
    "    iteration_id=0, \n",
    "    realization_id=0,\n",
    "    #aggregation=\"MEAN\"\n",
    ")\n",
    "\n",
    "print(tag_names)"
   ]
  },
  {
   "cell_type": "markdown",
   "metadata": {},
   "source": [
    "### Case.get_object_names()\n",
    "\n",
    "Params:\n",
    "- object_type: string\n",
    "- tag_name: string\n",
    "- iteration_id: number\n",
    "- realization_id: number\n",
    "- aggregation: string\n",
    "\n",
    "<strong>NOTE:</strong>\n",
    "If no aggregation-parameter is provided, the search will exclude surface names from aggregated objects\n",
    "\n",
    "Returns:\n",
    "```\n",
    "Dict\n",
    "{\n",
    "    SURFACE_NAME: COUNT\n",
    "}\n",
    "```"
   ]
  },
  {
   "cell_type": "code",
   "execution_count": 14,
   "metadata": {},
   "outputs": [
    {
     "name": "stderr",
     "output_type": "stream",
     "text": [
      "2022-04-07 12:24:37 DEBUG    is_token_expired() is starting\n",
      "2022-04-07 12:24:37 DEBUG    is_expired: False\n"
     ]
    },
    {
     "name": "stdout",
     "output_type": "stream",
     "text": [
      "{'draupne_fm_1': 7, 'statfjord_gp': 7, 'total': 7}\n"
     ]
    }
   ],
   "source": [
    "surface_names = my_case.get_object_names(\n",
    "    object_type=\"surface\",\n",
    "    tag_name=\"amplitude_full_max\",\n",
    "    iteration_id=0, \n",
    "    realization_id=0,\n",
    "    #aggregation=\"MEAN\"\n",
    ")\n",
    "\n",
    "print(surface_names)"
   ]
  },
  {
   "cell_type": "markdown",
   "metadata": {},
   "source": [
    "### Case.get_object_aggregations()\n",
    "\n",
    "Params:\n",
    "- object_type: string\n",
    " - object_name: string\n",
    " - tag_name: string\n",
    " - iteration_id: number\n",
    "\n",
    "Returns:\n",
    "````\n",
    "Dict\n",
    "{\n",
    "    AGGREGATION_OPERATION: COUNT\n",
    "}"
   ]
  },
  {
   "cell_type": "code",
   "execution_count": 15,
   "metadata": {},
   "outputs": [
    {
     "name": "stderr",
     "output_type": "stream",
     "text": [
      "2022-04-07 12:24:37 DEBUG    is_token_expired() is starting\n",
      "2022-04-07 12:24:37 DEBUG    is_expired: False\n"
     ]
    },
    {
     "name": "stdout",
     "output_type": "stream",
     "text": [
      "{'max': 7, 'mean': 7, 'min': 7, 'numreal': 7, 'p10': 7, 'p50': 7, 'p90': 7, 'std': 7}\n"
     ]
    }
   ],
   "source": [
    "aggregations = my_case.get_object_aggregations(\n",
    "    object_type=\"surface\",\n",
    "    object_name=\"draupne_fm_1\",\n",
    "    tag_name=\"amplitude_full_max\",\n",
    "    iteration_id=0,\n",
    ")\n",
    "\n",
    "print(aggregations)"
   ]
  },
  {
   "cell_type": "markdown",
   "metadata": {},
   "source": [
    "### Case.get_object_times_intervals()\n",
    "\n",
    "Params:\n",
    "- object_type: string\n",
    "- object_name: string\n",
    "- tag_name: string\n",
    "- iteration_id: number\n",
    "- realization_id: number\n",
    "- aggregation: string\n",
    "\n",
    "Returns:\n",
    "`````\n",
    "Dict\n",
    "{\n",
    "    TIMESPAN: COUNT\n",
    "}"
   ]
  },
  {
   "cell_type": "code",
   "execution_count": 16,
   "metadata": {},
   "outputs": [
    {
     "name": "stderr",
     "output_type": "stream",
     "text": [
      "2022-04-07 12:24:37 DEBUG    is_token_expired() is starting\n",
      "2022-04-07 12:24:37 DEBUG    is_expired: False\n"
     ]
    },
    {
     "name": "stdout",
     "output_type": "stream",
     "text": [
      "{'2019-10-01 - 2020-10-01': 1, '2019-10-01 - 2021-05-15': 1, '2019-10-01 - 2022-05-15': 1, '2020-10-01 - 2021-05-15': 1, '2021-05-15 - 2022-05-15': 1, '2022-05-15 - 2022-09-01': 1, '2022-05-15 - 2023-05-01': 1}\n"
     ]
    }
   ],
   "source": [
    "intervals = my_case.get_object_time_intervals(\n",
    "    object_type=\"surface\",\n",
    "    object_name=\"draupne_fm_1\",\n",
    "    tag_name=\"amplitude_full_max\",\n",
    "    iteration_id=0,\n",
    "    #realization_id=0,\n",
    "    aggregation=\"MEAN\"\n",
    ")\n",
    "\n",
    "print(intervals)"
   ]
  },
  {
   "cell_type": "markdown",
   "metadata": {},
   "source": [
    "### Case.get_objects()\n",
    "\n",
    "Params:\n",
    "- object_type: string\n",
    "- object_name: string\n",
    "- tag_name: string\n",
    "- iteration_id: number\n",
    "- realization_id: number\n",
    "- aggregation: string\n",
    "\n",
    "Returns:\n",
    "`DocumentCollection[ChildObject]`"
   ]
  },
  {
   "cell_type": "code",
   "execution_count": 17,
   "metadata": {},
   "outputs": [
    {
     "name": "stderr",
     "output_type": "stream",
     "text": [
      "2022-04-07 12:24:37 DEBUG    is_token_expired() is starting\n",
      "2022-04-07 12:24:37 DEBUG    is_expired: False\n"
     ]
    },
    {
     "name": "stdout",
     "output_type": "stream",
     "text": [
      "draupne_fm_1\n",
      "amplitude_full_max\n"
     ]
    }
   ],
   "source": [
    "# Get a surface object from specific realization\n",
    "surfaces = my_case.get_objects(\n",
    "    object_type=\"surface\",\n",
    "    object_name=\"draupne_fm_1\",\n",
    "    tag_name=\"amplitude_full_max\",\n",
    "    time_interval=\"2019-10-01 - 2020-10-01\",\n",
    "    iteration_id=0,\n",
    "    realization_id=0\n",
    ")\n",
    "\n",
    "s = surfaces[0]\n",
    "\n",
    "print(s.name)\n",
    "print(s.tag_name)"
   ]
  },
  {
   "cell_type": "code",
   "execution_count": 18,
   "metadata": {},
   "outputs": [
    {
     "name": "stderr",
     "output_type": "stream",
     "text": [
      "2022-04-07 12:24:38 DEBUG    is_token_expired() is starting\n",
      "2022-04-07 12:24:38 DEBUG    is_expired: False\n"
     ]
    },
    {
     "name": "stdout",
     "output_type": "stream",
     "text": [
      "201\n"
     ]
    }
   ],
   "source": [
    "# Get all versions of surface object (1 from each realization) for a specified iteration\n",
    "surfaces = my_case.get_objects(\n",
    "    object_type=\"surface\",\n",
    "    object_name=\"Aasgard Fm. Top\",\n",
    "    tag_name=\"structural_model\",\n",
    "    iteration_id=0\n",
    ")\n",
    "\n",
    "print(len(surfaces))"
   ]
  },
  {
   "cell_type": "code",
   "execution_count": 19,
   "metadata": {},
   "outputs": [
    {
     "name": "stderr",
     "output_type": "stream",
     "text": [
      "2022-04-07 12:24:38 DEBUG    is_token_expired() is starting\n",
      "2022-04-07 12:24:38 DEBUG    is_expired: False\n"
     ]
    },
    {
     "name": "stdout",
     "output_type": "stream",
     "text": [
      "draupne_fm_1\n",
      "amplitude_full_max\n"
     ]
    }
   ],
   "source": [
    "# Get specific aggregated surface\n",
    "surfaces = my_case.get_objects(\n",
    "    object_type=\"surface\",\n",
    "    object_name=\"draupne_fm_1\",\n",
    "    tag_name=\"amplitude_full_max\",\n",
    "    time_interval=\"2019-10-01 - 2020-10-01\",\n",
    "    iteration_id=0,\n",
    "    aggregation=\"MEAN\"\n",
    ")\n",
    "\n",
    "s = surfaces[0]\n",
    "\n",
    "print(s.name)\n",
    "print(s.tag_name)"
   ]
  },
  {
   "cell_type": "code",
   "execution_count": 20,
   "metadata": {},
   "outputs": [
    {
     "name": "stderr",
     "output_type": "stream",
     "text": [
      "2022-04-07 12:24:38 DEBUG    is_token_expired() is starting\n",
      "2022-04-07 12:24:38 DEBUG    is_expired: False\n",
      "2022-04-07 12:24:40 INFO     Ran init of xtgeo.common.sys, ID is 4501731216\n",
      "2022-04-07 12:24:40 INFO     Checking file...\n",
      "2022-04-07 12:24:40 INFO     Signature is irap binary\n",
      "2022-04-07 12:24:40 INFO     Enter function xtgeo.surface._regsurf_import\n",
      "2022-04-07 12:24:40 INFO     Start __init__ method for RegularSurface object 5005738768\n",
      "2022-04-07 12:24:40 INFO     xtgeo.plot.xtmap.Map\n",
      "2022-04-07 12:24:40 INFO     Ran __init__ ...\n",
      "2022-04-07 12:24:40 INFO     xtgeo.plot.xtmap.Map\n",
      "2022-04-07 12:24:40 INFO     Infotext is <None>\n",
      "2022-04-07 12:24:40 INFO     Definition of a colormap from string name: rainbow\n",
      "2022-04-07 12:24:40 INFO     Defining colormap\n",
      "2022-04-07 12:24:40 INFO     Valid color maps: ['Accent', 'Blues', 'BrBG', 'BuGn', 'BuPu', 'CMRmap', 'Dark2', 'GnBu', 'Greens', 'Greys', 'OrRd', 'Oranges', 'PRGn', 'Paired', 'Pastel1', 'Pastel2', 'PiYG', 'PuBu', 'PuBuGn', 'PuOr', 'PuRd', 'Purples', 'RdBu', 'RdGy', 'RdPu', 'RdYlBu', 'RdYlGn', 'Reds', 'Set1', 'Set2', 'Set3', 'Spectral', 'Wistia', 'YlGn', 'YlGnBu', 'YlOrBr', 'YlOrRd', 'afmhot', 'autumn', 'binary', 'bone', 'brg', 'bwr', 'cool', 'coolwarm', 'copper', 'cubehelix', 'flag', 'gist_earth', 'gist_gray', 'gist_heat', 'gist_ncar', 'gist_rainbow', 'gist_stern', 'gist_yarg', 'gnuplot', 'gnuplot2', 'gray', 'hot', 'hsv', 'jet', 'nipy_spectral', 'ocean', 'pink', 'prism', 'rainbow', 'seismic', 'spring', 'summer', 'tab10', 'tab20', 'tab20b', 'tab20c', 'terrain', 'winter']\n",
      "2022-04-07 12:24:40 INFO     Colormap: <matplotlib.colors.LinearSegmentedColormap object at 0x1111c6b50>\n",
      "2022-04-07 12:24:40 INFO     The key contourlevels None is not in use\n",
      "2022-04-07 12:24:40 INFO     Start __init__ method for RegularSurface object 4482971728\n",
      "2022-04-07 12:24:40 INFO     Legendticks: None\n",
      "2022-04-07 12:24:40 INFO     Current colormap is <matplotlib.colors.LinearSegmentedColormap object at 0x1111c6b50>, requested is None\n",
      "2022-04-07 12:24:40 INFO     Current colormap name is rainbow\n",
      "2022-04-07 12:24:42 INFO     Colormap: <matplotlib.colors.LinearSegmentedColormap object at 0x1111c6b50>\n",
      "2022-04-07 12:24:42 INFO     Calling plt show method...\n"
     ]
    },
    {
     "data": {
      "image/png": "[encoded data removed]",
      "text/plain": [
       "<Figure size 841.68x595.44 with 2 Axes>"
      ]
     },
     "metadata": {
      "needs_background": "light"
     },
     "output_type": "display_data"
    }
   ],
   "source": [
    "# Visualize aggregated surface with xtgeo\n",
    "bytestring = BytesIO(s.blob)\n",
    "xtgeo_surface = xtgeo.surface_from_file(bytestring)\n",
    "xtgeo_surface.quickplot()"
   ]
  },
  {
   "cell_type": "code",
   "execution_count": 21,
   "metadata": {},
   "outputs": [
    {
     "name": "stderr",
     "output_type": "stream",
     "text": [
      "2022-04-07 12:24:42 DEBUG    is_token_expired() is starting\n",
      "2022-04-07 12:24:42 DEBUG    is_expired: False\n"
     ]
    },
    {
     "data": {
      "image/png": "[encoded data removed]",
      "text/plain": [
       "<Figure size 432x288 with 1 Axes>"
      ]
     },
     "metadata": {
      "needs_background": "light"
     },
     "output_type": "display_data"
    }
   ],
   "source": [
    "# Get surface as png + visualize\n",
    "import matplotlib.pyplot as plt\n",
    "import matplotlib.image as mpimg\n",
    "\n",
    "bytestring = BytesIO(s.png)\n",
    "img = mpimg.imread(bytestring)\n",
    "imgplot = plt.imshow(img)\n",
    "plt.show()"
   ]
  },
  {
   "cell_type": "markdown",
   "metadata": {},
   "source": [
    "## Class: DocumentCollection\n",
    "\n",
    "A set of documents from Sumo. Inherits from collections.Sequence and acts as a list of documents."
   ]
  },
  {
   "cell_type": "code",
   "execution_count": 22,
   "metadata": {},
   "outputs": [
    {
     "name": "stderr",
     "output_type": "stream",
     "text": [
      "2022-04-07 12:24:44 DEBUG    is_token_expired() is starting\n",
      "2022-04-07 12:24:44 DEBUG    is_expired: False\n"
     ]
    },
    {
     "name": "stdout",
     "output_type": "stream",
     "text": [
      "Aasgard Fm. Top\n",
      "200\n",
      "surface\n",
      "Aasgard Fm. Top\n",
      "85\n",
      "surface\n"
     ]
    }
   ],
   "source": [
    "surfaces = my_case.get_objects(\n",
    "    object_type=\"surface\",\n",
    "    object_name=\"Aasgard Fm. Top\",\n",
    "    tag_name=\"structural_model\",\n",
    "    iteration_id=0\n",
    ")\n",
    "\n",
    "for s in surfaces[1:3]:\n",
    "    print(s.name)\n",
    "    print(s.realization_id)\n",
    "    print(s.object_type)"
   ]
  },
  {
   "cell_type": "markdown",
   "metadata": {},
   "source": [
    "### ObjectCollection.aggregate()\n",
    "\n",
    "On-demand aggregation of objects. Currently only supports surface objects.\n",
    "\n",
    "Params:\n",
    "- operations: string || string[]\n",
    "\n",
    "Returns: blob if one operation is provided, dictionary of blobs if multiple operations:\n",
    "```\n",
    "Dict\n",
    "{\n",
    "    OPERATION: BLOB\n",
    "}\n",
    "```"
   ]
  },
  {
   "cell_type": "code",
   "execution_count": 23,
   "metadata": {},
   "outputs": [
    {
     "name": "stderr",
     "output_type": "stream",
     "text": [
      "2022-04-07 12:24:44 DEBUG    is_token_expired() is starting\n",
      "2022-04-07 12:24:44 DEBUG    is_expired: False\n",
      "2022-04-07 12:24:45 DEBUG    is_token_expired() is starting\n",
      "2022-04-07 12:24:45 DEBUG    is_expired: False\n"
     ]
    },
    {
     "name": "stdout",
     "output_type": "stream",
     "text": [
      "201\n"
     ]
    },
    {
     "name": "stderr",
     "output_type": "stream",
     "text": [
      "2022-04-07 12:24:46 DEBUG    is_token_expired() is starting\n",
      "2022-04-07 12:24:46 DEBUG    is_expired: False\n"
     ]
    },
    {
     "ename": "PermanentError",
     "evalue": "Fatal Request Error with status code 502 and text <html>\r\n<head><title>502 Bad Gateway</title></head>\r\n<body>\r\n<center><h1>502 Bad Gateway</h1></center>\r\n<hr><center>nginx</center>\r\n</body>\r\n</html>\r\n.",
     "output_type": "error",
     "traceback": [
      "\u001b[0;31m---------------------------------------------------------------------------\u001b[0m",
      "\u001b[0;31mPermanentError\u001b[0m                            Traceback (most recent call last)",
      "\u001b[0;32m/var/folders/qq/1m6b2qvj367fsf998lq6hdjh0000gn/T/ipykernel_40946/3279644510.py\u001b[0m in \u001b[0;36m<module>\u001b[0;34m\u001b[0m\n\u001b[1;32m      9\u001b[0m \u001b[0;34m\u001b[0m\u001b[0m\n\u001b[1;32m     10\u001b[0m \u001b[0;31m# One operation\u001b[0m\u001b[0;34m\u001b[0m\u001b[0;34m\u001b[0m\u001b[0;34m\u001b[0m\u001b[0m\n\u001b[0;32m---> 11\u001b[0;31m \u001b[0mmean\u001b[0m \u001b[0;34m=\u001b[0m \u001b[0msurfaces\u001b[0m\u001b[0;34m.\u001b[0m\u001b[0maggregate\u001b[0m\u001b[0;34m(\u001b[0m\u001b[0;34m\"MEAN\"\u001b[0m\u001b[0;34m)\u001b[0m\u001b[0;34m\u001b[0m\u001b[0;34m\u001b[0m\u001b[0m\n\u001b[0m\u001b[1;32m     12\u001b[0m \u001b[0;34m\u001b[0m\u001b[0m\n\u001b[1;32m     13\u001b[0m \u001b[0;31m# Multiple\u001b[0m\u001b[0;34m\u001b[0m\u001b[0;34m\u001b[0m\u001b[0;34m\u001b[0m\u001b[0m\n",
      "\u001b[0;32m~/Projects/fmu-sumo/src/fmu/sumo/explorer/_document_collection.py\u001b[0m in \u001b[0;36maggregate\u001b[0;34m(self, operations)\u001b[0m\n\u001b[1;32m     94\u001b[0m         response = self.sumo.post(\"/aggregate\", json={\n\u001b[1;32m     95\u001b[0m             \u001b[0;34m\"operation\"\u001b[0m\u001b[0;34m:\u001b[0m \u001b[0moperation_list\u001b[0m\u001b[0;34m,\u001b[0m\u001b[0;34m\u001b[0m\u001b[0;34m\u001b[0m\u001b[0m\n\u001b[0;32m---> 96\u001b[0;31m             \u001b[0;34m\"object_ids\"\u001b[0m\u001b[0;34m:\u001b[0m \u001b[0mobject_ids\u001b[0m\u001b[0;34m\u001b[0m\u001b[0;34m\u001b[0m\u001b[0m\n\u001b[0m\u001b[1;32m     97\u001b[0m         })\n\u001b[1;32m     98\u001b[0m \u001b[0;34m\u001b[0m\u001b[0m\n",
      "\u001b[0;32m~/Projects/fmu-sumo/venv/lib/python3.7/site-packages/sumo/wrapper/_sumo_client.py\u001b[0m in \u001b[0;36mpost\u001b[0;34m(self, path, blob, json)\u001b[0m\n\u001b[1;32m    119\u001b[0m         \u001b[0;32mif\u001b[0m \u001b[0;32mnot\u001b[0m \u001b[0mresponse\u001b[0m\u001b[0;34m.\u001b[0m\u001b[0mok\u001b[0m\u001b[0;34m:\u001b[0m\u001b[0;34m\u001b[0m\u001b[0;34m\u001b[0m\u001b[0m\n\u001b[1;32m    120\u001b[0m             self._raise_request_error_exception(\n\u001b[0;32m--> 121\u001b[0;31m                 response.status_code, response.text)\n\u001b[0m\u001b[1;32m    122\u001b[0m \u001b[0;34m\u001b[0m\u001b[0m\n\u001b[1;32m    123\u001b[0m         \u001b[0;32mreturn\u001b[0m \u001b[0mresponse\u001b[0m\u001b[0;34m\u001b[0m\u001b[0;34m\u001b[0m\u001b[0m\n",
      "\u001b[0;32m~/Projects/fmu-sumo/venv/lib/python3.7/site-packages/sumo/wrapper/_sumo_client.py\u001b[0m in \u001b[0;36m_raise_request_error_exception\u001b[0;34m(self, code, message)\u001b[0m\n\u001b[1;32m    183\u001b[0m             \u001b[0;32mraise\u001b[0m \u001b[0mAuthenticationError\u001b[0m\u001b[0;34m(\u001b[0m\u001b[0mcode\u001b[0m\u001b[0;34m,\u001b[0m \u001b[0mmessage\u001b[0m\u001b[0;34m)\u001b[0m\u001b[0;34m\u001b[0m\u001b[0;34m\u001b[0m\u001b[0m\n\u001b[1;32m    184\u001b[0m         \u001b[0;32melse\u001b[0m\u001b[0;34m:\u001b[0m\u001b[0;34m\u001b[0m\u001b[0;34m\u001b[0m\u001b[0m\n\u001b[0;32m--> 185\u001b[0;31m             \u001b[0;32mraise\u001b[0m \u001b[0mPermanentError\u001b[0m\u001b[0;34m(\u001b[0m\u001b[0mcode\u001b[0m\u001b[0;34m,\u001b[0m \u001b[0mmessage\u001b[0m\u001b[0;34m)\u001b[0m\u001b[0;34m\u001b[0m\u001b[0;34m\u001b[0m\u001b[0m\n\u001b[0m",
      "\u001b[0;31mPermanentError\u001b[0m: Fatal Request Error with status code 502 and text <html>\r\n<head><title>502 Bad Gateway</title></head>\r\n<body>\r\n<center><h1>502 Bad Gateway</h1></center>\r\n<hr><center>nginx</center>\r\n</body>\r\n</html>\r\n."
     ]
    }
   ],
   "source": [
    "surfaces = my_case.get_objects(\n",
    "    object_type=\"surface\",\n",
    "    object_name=\"Aasgard Fm. Top\",\n",
    "    tag_name=\"structural_model\",\n",
    "    iteration_id=0\n",
    ")\n",
    "\n",
    "print(len(surfaces))\n",
    "\n",
    "# One operation\n",
    "mean = surfaces.aggregate(\"MEAN\")\n",
    "\n",
    "# Multiple\n",
    "#aggs = surfaces.aggregate([\"MEAN\", \"MIN\", \"MAX\"])\n",
    "#mean = aggs[\"MEAN\"]"
   ]
  },
  {
   "cell_type": "code",
   "execution_count": null,
   "metadata": {},
   "outputs": [],
   "source": [
    "# Visualize aggregated surface with xtgeo\n",
    "bytestring = BytesIO(mean)\n",
    "xtgeo_surface = xtgeo.surface_from_file(bytestring)\n",
    "xtgeo_surface.quickplot()"
   ]
  },
  {
   "cell_type": "markdown",
   "metadata": {},
   "source": [
    "## Class: ChildObject\n",
    "Represents a child object in Sumo. \n",
    "\n",
    "Some of the meta data is accessible as attributes, the rest can be extracted from `ChildObject.meta_data`\n",
    "\n",
    "Attributes:\n",
    "- meta_data: dict\n",
    "- sumo_id:uuid\n",
    "- iteration_id: number\n",
    "- realization_id: number\n",
    "- name: string\n",
    "- relative_path: string\n",
    "- full_path: string\n",
    "- aggregation: string\n",
    "- object_type: string\n",
    "\n",
    "Properties:\n",
    "- blob: blob"
   ]
  },
  {
   "cell_type": "code",
   "execution_count": null,
   "metadata": {},
   "outputs": [],
   "source": [
    "s = surfaces[0]\n",
    "\n",
    "# Get meta_data and blob\n",
    "meta_data = s.meta_data\n",
    "blob = s.blob\n",
    "\n",
    "# Get data from meta_data attribute\n",
    "file_path = meta_data[\"file\"][\"relative_path\"]\n",
    "\n",
    "# Or use attribute\n",
    "file_path = s.relative_path"
   ]
  },
  {
   "cell_type": "markdown",
   "metadata": {},
   "source": [
    "## Example: process of finding a surface from case\n"
   ]
  },
  {
   "cell_type": "code",
   "execution_count": null,
   "metadata": {},
   "outputs": [],
   "source": [
    "my_case = sumo.get_case_by_id(\"81a57a32-37e7-06bc-924e-6710ba6e59b0\")\n",
    "\n",
    "# Get iteration\n",
    "iterations = my_case.get_iterations()\n",
    "\n",
    "i = list(iterations.keys())[0]\n",
    "\n",
    "\n",
    "# Get realization\n",
    "realizations = my_case.get_realizations(\n",
    "    iteration_id=i\n",
    ")\n",
    "\n",
    "r = list(realizations.keys())[0]\n",
    "\n",
    "\n",
    "# Get tag names\n",
    "tag_names = my_case.get_object_tag_names(\n",
    "    object_type=\"surface\",\n",
    "    iteration_id=i,\n",
    "    realization_id=r\n",
    ")\n",
    "\n",
    "t = list(tag_names.keys())[0]\n",
    "\n",
    "\n",
    "# Get surface name\n",
    "surface_names = my_case.get_object_names(\n",
    "    object_type=\"surface\",\n",
    "    tag_name=t,\n",
    "    iteration_id=i,\n",
    "    realization_id=r\n",
    ")\n",
    "\n",
    "n = list(surface_names.keys())[0]\n",
    "\n",
    "\n",
    "# Get surface\n",
    "surfaces = my_case.get_objects(\n",
    "    object_type=\"surface\",\n",
    "    object_name=n,\n",
    "    tag_name=t,\n",
    "    iteration_id=i,\n",
    "    realization_id=r\n",
    ")\n",
    "\n",
    "s = surfaces[0]\n",
    "\n",
    "# Visualize with xtgeo\n",
    "bytestring = BytesIO(s.blob)\n",
    "xtgeo_surface = xtgeo.surface_from_file(bytestring)\n",
    "xtgeo_surface.quickplot()\n",
    "\n",
    "# Print info\n",
    "print(f\"Case: {my_case.case_name}\")\n",
    "print(f\"Iteration: {i}\")\n",
    "print(f\"Realization: {r}\")\n",
    "print(f\"Surface name: {n}\")\n",
    "print(f\"Tag name: {t}\")"
   ]
  }
 ],
 "metadata": {
  "interpreter": {
   "hash": "886a3bf2c68989186a10fcef5692724f98e2557aca959586571e913a0aec80e7"
  },
  "kernelspec": {
   "display_name": "Python 3.7.12 ('venv': venv)",
   "language": "python",
   "name": "python3"
  },
  "language_info": {
   "codemirror_mode": {
    "name": "ipython",
    "version": 3
   },
   "file_extension": ".py",
   "mimetype": "text/x-python",
   "name": "python",
   "nbconvert_exporter": "python",
   "pygments_lexer": "ipython3",
   "version": "3.7.12"
  },
  "orig_nbformat": 4
 },
 "nbformat": 4,
 "nbformat_minor": 2
}
