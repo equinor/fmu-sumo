{
 "cells": [
  {
   "cell_type": "markdown",
   "metadata": {},
   "source": [
    "# fmu.sumo.explorer\n",
    "\n",
    "Package for browsing cases and surfaces in Sumo."
   ]
  },
  {
   "cell_type": "code",
   "execution_count": null,
   "metadata": {},
   "outputs": [],
   "source": [
    "from fmu.sumo.explorer import Explorer\n",
    "import xtgeo\n",
    "from io import BytesIO\n",
    "%matplotlib inline"
   ]
  },
  {
   "cell_type": "markdown",
   "metadata": {},
   "source": [
    "## Class: Explorer\n",
    "Search for cases in SUMO\n",
    "\n",
    "Methods:\n",
    "- get_fields()\n",
    "- get_users()\n",
    "- get_status()\n",
    "- get_cases()"
   ]
  },
  {
   "cell_type": "code",
   "execution_count": null,
   "metadata": {},
   "outputs": [],
   "source": [
    "sumo = Explorer(env=\"dev\", write_back=True)"
   ]
  },
  {
   "cell_type": "markdown",
   "metadata": {},
   "source": [
    "### Explorer.get_fields()\n",
    "\n",
    "Returns:\n",
    "\n",
    "```\n",
    "Dict\n",
    "{\n",
    "    FIELD_NAME: CASE_COUNT\n",
    "}\n",
    "```"
   ]
  },
  {
   "cell_type": "code",
   "execution_count": null,
   "metadata": {},
   "outputs": [],
   "source": [
    "fields = sumo.get_fields()\n",
    "\n",
    "print(fields)"
   ]
  },
  {
   "cell_type": "markdown",
   "metadata": {},
   "source": [
    "### Explorer.get_users()\n",
    "\n",
    "Returns:\n",
    "\n",
    "```\n",
    "Dict\n",
    "{\n",
    "    USER_NAME: CASE_COUNT\n",
    "}\n",
    "```"
   ]
  },
  {
   "cell_type": "code",
   "execution_count": null,
   "metadata": {},
   "outputs": [],
   "source": [
    "users = sumo.get_users()\n",
    "\n",
    "print(users)"
   ]
  },
  {
   "cell_type": "markdown",
   "metadata": {},
   "source": [
    "### Explorer.get_status()\n",
    "\n",
    "Returns:\n",
    "\n",
    "`Dict`\n",
    "\n",
    "```\n",
    "{\n",
    "    STATUS: CASE_COUNT\n",
    "}\n",
    "```"
   ]
  },
  {
   "cell_type": "code",
   "execution_count": null,
   "metadata": {},
   "outputs": [],
   "source": [
    "status = sumo.get_status()\n",
    "\n",
    "print(status)"
   ]
  },
  {
   "cell_type": "markdown",
   "metadata": {},
   "source": [
    "### Explorer.get_cases()\n",
    "\n",
    "Params:\n",
    "- status: string[] \n",
    "- fields: string[]\n",
    "- users: string[]\n",
    "\n",
    "Returns: `CaseCollection`"
   ]
  },
  {
   "cell_type": "code",
   "execution_count": null,
   "metadata": {},
   "outputs": [],
   "source": [
    "my_cases = sumo.get_cases(\n",
    "    status=[\"keep\", \"official\"],\n",
    "    fields=[\"JOHAN SVERDRUP\"],\n",
    "    #users=[\"peesv\", \"jsorb\"]\n",
    ")\n",
    "\n",
    "print(len(my_cases))\n",
    "\n",
    "for case in my_cases:\n",
    "    print(case.case_name)"
   ]
  },
  {
   "cell_type": "markdown",
   "metadata": {},
   "source": [
    "### Explorer.get_case_from_id()\n",
    "\n",
    "Params:\n",
    "- sumo_id: string\n",
    "\n",
    "Returns: `Case`"
   ]
  },
  {
   "cell_type": "code",
   "execution_count": null,
   "metadata": {},
   "outputs": [],
   "source": [
    "my_case = sumo.get_case_by_id(\"81a57a32-37e7-06bc-924e-6710ba6e59b0\")\n",
    "\n",
    "print(my_case.case_name)"
   ]
  },
  {
   "cell_type": "markdown",
   "metadata": {},
   "source": [
    "## Class: Case\n",
    "\n",
    "Represents a case in Sumo and has methods for finding surfaces belonging to the case.\n",
    "\n",
    "Some of the case meta data is accessible as attributes, the rest can be extracted from `Case.meta_data`.\n",
    "\n",
    "Attributes:\n",
    "- meta_data: dict\n",
    "- sumo_id: uuid\n",
    "- fmu_id: uuid\n",
    "- case_name: string\n",
    "- field_name: string\n",
    "- status: string\n",
    "- user: string\n",
    "\n",
    "Methods:\n",
    "- get_object_types()\n",
    "- get_iterations()\n",
    "- get_realizations()\n",
    "- get_object_names()\n",
    "- get_object_tag_names()\n",
    "- get_object_aggregations()\n",
    "- get_object_timespans()\n",
    "- get_object()\n",
    "\n",
    "Raw metadata object can be accessed at `Case.meta_data`"
   ]
  },
  {
   "cell_type": "code",
   "execution_count": null,
   "metadata": {},
   "outputs": [],
   "source": [
    "# Some case info as attributes\n",
    "print(my_case.sumo_id)\n",
    "print(my_case.fmu_id)\n",
    "print(my_case.case_name)\n",
    "print(my_case.field_name)\n",
    "print(my_case.status)\n",
    "print(my_case.user)"
   ]
  },
  {
   "cell_type": "markdown",
   "metadata": {},
   "source": [
    "### Case.get_object_types()\n",
    "\n",
    "Returns:\n",
    "```\n",
    "Dict\n",
    "{\n",
    "    OBJECT_NAME: OBJECT_COUNT\n",
    "}\n",
    "```"
   ]
  },
  {
   "cell_type": "code",
   "execution_count": null,
   "metadata": {},
   "outputs": [],
   "source": [
    "object_types = my_case.get_object_types()\n",
    "\n",
    "print(object_types)"
   ]
  },
  {
   "cell_type": "markdown",
   "metadata": {},
   "source": [
    "### Case.get_iterations()\n",
    "\n",
    "Returns:\n",
    "```\n",
    "Dict\n",
    "{\n",
    "    ITERATION_ID: OBJECT_COUNT\n",
    "}\n",
    "```"
   ]
  },
  {
   "cell_type": "code",
   "execution_count": null,
   "metadata": {},
   "outputs": [],
   "source": [
    "iterations = my_case.get_iterations()\n",
    "\n",
    "print(iterations)"
   ]
  },
  {
   "cell_type": "markdown",
   "metadata": {},
   "source": [
    "### Case.get_realizations()\n",
    "\n",
    "Params:\n",
    "- iteration_id: number\n",
    "\n",
    "Returns:\n",
    "```\n",
    "Dict\n",
    "{\n",
    "    REALIZATION_ID: OBJECT_COUNT\n",
    "}\n",
    "```"
   ]
  },
  {
   "cell_type": "code",
   "execution_count": null,
   "metadata": {},
   "outputs": [],
   "source": [
    "realizations = my_case.get_realizations(iteration_id=0)\n",
    "\n",
    "print(realizations)"
   ]
  },
  {
   "cell_type": "markdown",
   "metadata": {},
   "source": [
    "### Case.get_object_property_values()\n",
    "\n",
    "Get distinct values for a property for a specific object type. I.e: get distinct object names for surfaces.\n",
    "Can be used to get values that can be used in filtering when retrieving objects.\n",
    "\n",
    "This method is mean to be dynamic and flexible and can replace all the other `get_object_*`-methods:\n",
    "- get_object_tag_name\n",
    "- get_object_names\n",
    "- get_object_aggregations\n",
    "- get_object_time_intervals\n",
    "\n",
    "\n",
    "Params:\n",
    "- property: string\n",
    "- object_type: string\n",
    "- object_name: string\n",
    "- tag_name: string\n",
    "- iteration_id: number\n",
    "- realization_id: number\n",
    "- aggregation: string\n",
    "\n",
    "`property` and `object_type` are required, the rest of the parameters are used for filtering and are optional.\n",
    "\n",
    "Valid `property` values:\n",
    "- tag_name\n",
    "- object_name\n",
    "- time_interval\n",
    "- aggregation\n",
    "- iteration_id\n",
    "- realization_id\n",
    "\n",
    "Valid `object_type` values:\n",
    "- surface\n",
    "- polygons\n",
    "- table\n",
    "\n",
    "Returns \n",
    "```\n",
    "Dict {\n",
    "    [PROPERTY VALUE]: COUNT\n",
    "}\n",
    "```"
   ]
  },
  {
   "cell_type": "markdown",
   "metadata": {},
   "source": [
    "#### Example: filter down to unique surface object\n",
    "\n",
    "This example uses the `get_object_property_values` in several steps to get values that uniquley identifies a surface object."
   ]
  },
  {
   "cell_type": "code",
   "execution_count": null,
   "metadata": {},
   "outputs": [],
   "source": [
    "# get iteration_ids\n",
    "iteration_ids = my_case.get_object_property_values(\n",
    "    property=\"iteration_id\",\n",
    "    object_type=\"surface\"\n",
    ")\n",
    "\n",
    "print(iteration_ids)\n",
    "\n",
    "iteration_id = list(iteration_ids.keys())[0]\n",
    "\n",
    "# use the retrieved iteration_id to get tag_names for surfaces within this iteration\n",
    "tag_names = my_case.get_object_property_values(\n",
    "    property=\"tag_name\",\n",
    "    object_type=\"surface\",\n",
    "    iteration_id=iteration_id,\n",
    ")\n",
    "\n",
    "print(tag_names)\n",
    "\n",
    "tag_name = list(tag_names.keys())[5]\n",
    "\n",
    "# use the retrieved tag_name to get object_names for surfaces containing this tag_name\n",
    "object_names = my_case.get_object_property_values(\n",
    "    property=\"object_name\",\n",
    "    object_type=\"surface\",\n",
    "    iteration_id=iteration_id,\n",
    "    tag_name=tag_name\n",
    ")\n",
    "\n",
    "print(object_names)\n",
    "\n",
    "object_name = list(object_names.keys())[2]\n",
    "\n",
    "# use the object_name, tag_name and iteration_id to get available time_intervals\n",
    "time_intervals = my_case.get_object_property_values(\n",
    "    property=\"time_interval\",\n",
    "    object_type=\"surface\",\n",
    "    iteration_id=iteration_id,\n",
    "    tag_name=tag_name,\n",
    "    object_name=object_name\n",
    ")\n",
    "\n",
    "print(time_intervals)\n",
    "\n",
    "time_interval = list(time_intervals.keys())[2]\n",
    "\n",
    "# use the object_name, tag_name and iteration_id to get available aggregations\n",
    "aggregations = my_case.get_object_property_values(\n",
    "    property=\"aggregation\",\n",
    "    object_type=\"surface\",\n",
    "    iteration_id=iteration_id,\n",
    "    tag_name=tag_name,\n",
    "    object_name=object_name\n",
    ")\n",
    "\n",
    "print(aggregations)\n",
    "\n",
    "aggregation = list(aggregations.keys())[3]\n",
    "\n",
    "# get available realization_ids based on iteration_id, object_name, tag_name and time_interval\n",
    "realization_ids = my_case.get_object_property_values(\n",
    "    property=\"realization_id\",\n",
    "    object_type=\"surface\",\n",
    "    iteration_id=iteration_id,\n",
    "    tag_name=tag_name,\n",
    "    object_name=object_name,\n",
    "    time_interval=time_interval\n",
    ")\n",
    "\n",
    "print(realization_ids)\n",
    "\n",
    "realization_id = list(realization_ids.keys())[7]\n",
    "\n",
    "# get surface from realization\n",
    "surfaces = my_case.get_objects(\n",
    "    object_type=\"surface\",\n",
    "    iteration_id=iteration_id,\n",
    "    tag_name=tag_name,\n",
    "    object_name=object_name,\n",
    "    time_interval=time_interval,\n",
    "    realization_id=realization_id\n",
    ")\n",
    "\n",
    "print(len(surfaces))\n",
    "\n",
    "# get aggregated surface\n",
    "surfaces = my_case.get_objects(\n",
    "    object_type=\"surface\",\n",
    "    iteration_id=iteration_id,\n",
    "    tag_name=tag_name,\n",
    "    object_name=object_name,\n",
    "    time_interval=time_interval,\n",
    "    aggregation=aggregation\n",
    ")\n",
    "\n",
    "print(len(surfaces))"
   ]
  },
  {
   "cell_type": "markdown",
   "metadata": {},
   "source": [
    "### Case.get_object_tag_names()\n",
    "\n",
    "Params:\n",
    "- object_type: string\n",
    "- iteration_id: number\n",
    "- realization_id: number\n",
    "- aggregation: string\n",
    "\n",
    "<strong>NOTE:</strong>\n",
    "If no aggregation-parameter is provided, the search will exclude tag names from aggregated objects\n",
    "\n",
    "Returns:\n",
    "\n",
    "```\n",
    "Dict\n",
    "{\n",
    "    TAG_NAME: COUNT\n",
    "}\n",
    "```\n"
   ]
  },
  {
   "cell_type": "code",
   "execution_count": null,
   "metadata": {},
   "outputs": [],
   "source": [
    "tag_names = my_case.get_object_tag_names(\n",
    "    object_type=\"surface\",\n",
    "    iteration_id=0, \n",
    "    realization_id=0,\n",
    "    #aggregation=\"MEAN\"\n",
    ")\n",
    "\n",
    "print(tag_names)"
   ]
  },
  {
   "cell_type": "markdown",
   "metadata": {},
   "source": [
    "### Case.get_object_names()\n",
    "\n",
    "Params:\n",
    "- object_type: string\n",
    "- tag_name: string\n",
    "- iteration_id: number\n",
    "- realization_id: number\n",
    "- aggregation: string\n",
    "\n",
    "<strong>NOTE:</strong>\n",
    "If no aggregation-parameter is provided, the search will exclude surface names from aggregated objects\n",
    "\n",
    "Returns:\n",
    "```\n",
    "Dict\n",
    "{\n",
    "    SURFACE_NAME: COUNT\n",
    "}\n",
    "```"
   ]
  },
  {
   "cell_type": "code",
   "execution_count": null,
   "metadata": {},
   "outputs": [],
   "source": [
    "surface_names = my_case.get_object_names(\n",
    "    object_type=\"surface\",\n",
    "    tag_name=\"amplitude_full_max\",\n",
    "    iteration_id=0, \n",
    "    realization_id=0,\n",
    "    #aggregation=\"MEAN\"\n",
    ")\n",
    "\n",
    "print(surface_names)"
   ]
  },
  {
   "cell_type": "markdown",
   "metadata": {},
   "source": [
    "### Case.get_object_aggregations()\n",
    "\n",
    "Params:\n",
    "- object_type: string\n",
    " - object_name: string\n",
    " - tag_name: string\n",
    " - iteration_id: number\n",
    "\n",
    "Returns:\n",
    "````\n",
    "Dict\n",
    "{\n",
    "    AGGREGATION_OPERATION: COUNT\n",
    "}"
   ]
  },
  {
   "cell_type": "code",
   "execution_count": null,
   "metadata": {},
   "outputs": [],
   "source": [
    "aggregations = my_case.get_object_aggregations(\n",
    "    object_type=\"surface\",\n",
    "    object_name=\"draupne_fm_1\",\n",
    "    tag_name=\"amplitude_full_max\",\n",
    "    iteration_id=0,\n",
    ")\n",
    "\n",
    "print(aggregations)"
   ]
  },
  {
   "cell_type": "markdown",
   "metadata": {},
   "source": [
    "### Case.get_object_times_intervals()\n",
    "\n",
    "Params:\n",
    "- object_type: string\n",
    "- object_name: string\n",
    "- tag_name: string\n",
    "- iteration_id: number\n",
    "- realization_id: number\n",
    "- aggregation: string\n",
    "\n",
    "Returns:\n",
    "`````\n",
    "Dict\n",
    "{\n",
    "    TIMESPAN: COUNT\n",
    "}"
   ]
  },
  {
   "cell_type": "code",
   "execution_count": null,
   "metadata": {},
   "outputs": [],
   "source": [
    "intervals = my_case.get_object_time_intervals(\n",
    "    object_type=\"surface\",\n",
    "    object_name=\"draupne_fm_1\",\n",
    "    tag_name=\"amplitude_full_max\",\n",
    "    iteration_id=0,\n",
    "    #realization_id=0,\n",
    "    aggregation=\"MEAN\"\n",
    ")\n",
    "\n",
    "print(intervals)"
   ]
  },
  {
   "cell_type": "markdown",
   "metadata": {},
   "source": [
    "### Case.get_objects()\n",
    "\n",
    "Params:\n",
    "- object_type: string\n",
    "- object_name: string\n",
    "- tag_name: string\n",
    "- iteration_id: number\n",
    "- realization_id: number\n",
    "- aggregation: string\n",
    "\n",
    "Returns:\n",
    "`DocumentCollection[ChildObject]`"
   ]
  },
  {
   "cell_type": "code",
   "execution_count": null,
   "metadata": {},
   "outputs": [],
   "source": [
    "# Get a surface object from specific realization\n",
    "surfaces = my_case.get_objects(\n",
    "    object_type=\"surface\",\n",
    "    object_name=\"draupne_fm_1\",\n",
    "    tag_name=\"amplitude_full_max\",\n",
    "    time_interval=\"2019-10-01 - 2020-10-01\",\n",
    "    iteration_id=0,\n",
    "    realization_id=0\n",
    ")\n",
    "\n",
    "s = surfaces[0]\n",
    "\n",
    "print(s.name)\n",
    "print(s.tag_name)"
   ]
  },
  {
   "cell_type": "code",
   "execution_count": null,
   "metadata": {},
   "outputs": [],
   "source": [
    "# Get all versions of surface object (1 from each realization) for a specified iteration\n",
    "surfaces = my_case.get_objects(\n",
    "    object_type=\"surface\",\n",
    "    object_name=\"Aasgard Fm. Top\",\n",
    "    tag_name=\"structural_model\",\n",
    "    iteration_id=0\n",
    ")\n",
    "\n",
    "print(len(surfaces))"
   ]
  },
  {
   "cell_type": "code",
   "execution_count": null,
   "metadata": {},
   "outputs": [],
   "source": [
    "# Get specific aggregated surface\n",
    "surfaces = my_case.get_objects(\n",
    "    object_type=\"surface\",\n",
    "    object_name=\"draupne_fm_1\",\n",
    "    tag_name=\"amplitude_full_max\",\n",
    "    time_interval=\"2019-10-01 - 2020-10-01\",\n",
    "    iteration_id=0,\n",
    "    aggregation=\"MEAN\"\n",
    ")\n",
    "\n",
    "s = surfaces[0]\n",
    "\n",
    "print(s.name)\n",
    "print(s.tag_name)"
   ]
  },
  {
   "cell_type": "code",
   "execution_count": null,
   "metadata": {},
   "outputs": [],
   "source": [
    "# Visualize aggregated surface with xtgeo\n",
    "bytestring = BytesIO(s.blob)\n",
    "xtgeo_surface = xtgeo.surface_from_file(bytestring)\n",
    "xtgeo_surface.quickplot()"
   ]
  },
  {
   "cell_type": "code",
   "execution_count": null,
   "metadata": {},
   "outputs": [],
   "source": [
    "# Get surface as png + visualize\n",
    "import matplotlib.pyplot as plt\n",
    "import matplotlib.image as mpimg\n",
    "\n",
    "bytestring = BytesIO(s.png)\n",
    "img = mpimg.imread(bytestring)\n",
    "imgplot = plt.imshow(img)\n",
    "plt.show()"
   ]
  },
  {
   "cell_type": "markdown",
   "metadata": {},
   "source": [
    "## Class: DocumentCollection\n",
    "\n",
    "A set of documents from Sumo. Inherits from collections.Sequence and acts as a list of documents."
   ]
  },
  {
   "cell_type": "code",
   "execution_count": null,
   "metadata": {},
   "outputs": [],
   "source": [
    "surfaces = my_case.get_objects(\n",
    "    object_type=\"surface\",\n",
    "    object_name=\"Aasgard Fm. Top\",\n",
    "    tag_name=\"structural_model\",\n",
    "    iteration_id=0\n",
    ")\n",
    "\n",
    "for s in surfaces[1:3]:\n",
    "    print(s.name)\n",
    "    print(s.realization_id)\n",
    "    print(s.object_type)"
   ]
  },
  {
   "cell_type": "markdown",
   "metadata": {},
   "source": [
    "### ObjectCollection.aggregate()\n",
    "\n",
    "On-demand aggregation of objects. Currently only supports surface objects.\n",
    "\n",
    "Params:\n",
    "- operations: string || string[]\n",
    "\n",
    "Returns: blob if one operation is provided, dictionary of blobs if multiple operations:\n",
    "```\n",
    "Dict\n",
    "{\n",
    "    OPERATION: BLOB\n",
    "}\n",
    "```"
   ]
  },
  {
   "cell_type": "code",
   "execution_count": null,
   "metadata": {},
   "outputs": [],
   "source": [
    "surfaces = my_case.get_objects(\n",
    "    object_type=\"surface\",\n",
    "    object_name=\"Aasgard Fm. Top\",\n",
    "    tag_name=\"structural_model\",\n",
    "    iteration_id=0\n",
    ")\n",
    "\n",
    "print(len(surfaces))\n",
    "\n",
    "# One operation\n",
    "mean = surfaces.aggregate(\"MEAN\")\n",
    "\n",
    "# Multiple\n",
    "#aggs = surfaces.aggregate([\"MEAN\", \"MIN\", \"MAX\"])\n",
    "#mean = aggs[\"MEAN\"]"
   ]
  },
  {
   "cell_type": "code",
   "execution_count": null,
   "metadata": {},
   "outputs": [],
   "source": [
    "# Visualize aggregated surface with xtgeo\n",
    "bytestring = BytesIO(mean)\n",
    "xtgeo_surface = xtgeo.surface_from_file(bytestring)\n",
    "xtgeo_surface.quickplot()"
   ]
  },
  {
   "cell_type": "markdown",
   "metadata": {},
   "source": [
    "## Class: ChildObject\n",
    "Represents a child object in Sumo. \n",
    "\n",
    "Some of the meta data is accessible as attributes, the rest can be extracted from `ChildObject.meta_data`\n",
    "\n",
    "Attributes:\n",
    "- meta_data: dict\n",
    "- sumo_id:uuid\n",
    "- iteration_id: number\n",
    "- realization_id: number\n",
    "- name: string\n",
    "- relative_path: string\n",
    "- full_path: string\n",
    "- aggregation: string\n",
    "- object_type: string\n",
    "\n",
    "Properties:\n",
    "- blob: blob"
   ]
  },
  {
   "cell_type": "code",
   "execution_count": null,
   "metadata": {},
   "outputs": [],
   "source": [
    "s = surfaces[0]\n",
    "\n",
    "# Get meta_data and blob\n",
    "meta_data = s.meta_data\n",
    "blob = s.blob\n",
    "\n",
    "# Get data from meta_data attribute\n",
    "file_path = meta_data[\"file\"][\"relative_path\"]\n",
    "\n",
    "# Or use attribute\n",
    "file_path = s.relative_path"
   ]
  },
  {
   "cell_type": "markdown",
   "metadata": {},
   "source": [
    "## Example: process of finding a surface from case\n"
   ]
  },
  {
   "cell_type": "code",
   "execution_count": null,
   "metadata": {},
   "outputs": [],
   "source": [
    "my_case = sumo.get_case_by_id(\"81a57a32-37e7-06bc-924e-6710ba6e59b0\")\n",
    "\n",
    "# Get iteration\n",
    "iterations = my_case.get_iterations()\n",
    "\n",
    "i = list(iterations.keys())[0]\n",
    "\n",
    "\n",
    "# Get realization\n",
    "realizations = my_case.get_realizations(\n",
    "    iteration_id=i\n",
    ")\n",
    "\n",
    "r = list(realizations.keys())[0]\n",
    "\n",
    "\n",
    "# Get tag names\n",
    "tag_names = my_case.get_object_tag_names(\n",
    "    object_type=\"surface\",\n",
    "    iteration_id=i,\n",
    "    realization_id=r\n",
    ")\n",
    "\n",
    "t = list(tag_names.keys())[0]\n",
    "\n",
    "\n",
    "# Get surface name\n",
    "surface_names = my_case.get_object_names(\n",
    "    object_type=\"surface\",\n",
    "    tag_name=t,\n",
    "    iteration_id=i,\n",
    "    realization_id=r\n",
    ")\n",
    "\n",
    "n = list(surface_names.keys())[0]\n",
    "\n",
    "\n",
    "# Get surface\n",
    "surfaces = my_case.get_objects(\n",
    "    object_type=\"surface\",\n",
    "    object_name=n,\n",
    "    tag_name=t,\n",
    "    iteration_id=i,\n",
    "    realization_id=r\n",
    ")\n",
    "\n",
    "s = surfaces[0]\n",
    "\n",
    "# Visualize with xtgeo\n",
    "bytestring = BytesIO(s.blob)\n",
    "xtgeo_surface = xtgeo.surface_from_file(bytestring)\n",
    "xtgeo_surface.quickplot()\n",
    "\n",
    "# Print info\n",
    "print(f\"Case: {my_case.case_name}\")\n",
    "print(f\"Iteration: {i}\")\n",
    "print(f\"Realization: {r}\")\n",
    "print(f\"Surface name: {n}\")\n",
    "print(f\"Tag name: {t}\")"
   ]
  }
 ],
 "metadata": {
  "interpreter": {
   "hash": "886a3bf2c68989186a10fcef5692724f98e2557aca959586571e913a0aec80e7"
  },
  "kernelspec": {
   "display_name": "Python 3.7.12 ('venv': venv)",
   "language": "python",
   "name": "python3"
  },
  "language_info": {
   "codemirror_mode": {
    "name": "ipython",
    "version": 3
   },
   "file_extension": ".py",
   "mimetype": "text/x-python",
   "name": "python",
   "nbconvert_exporter": "python",
   "pygments_lexer": "ipython3",
   "version": "3.7.12"
  },
  "orig_nbformat": 4
 },
 "nbformat": 4,
 "nbformat_minor": 2
}
